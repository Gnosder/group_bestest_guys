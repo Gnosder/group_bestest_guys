{
 "cells": [
  {
   "cell_type": "markdown",
   "metadata": {},
   "source": [
    "# Feature Selection\n",
    "### Test different algorithmic functions to see which set of features will yeild better accuracy without overfitting the model. It will also reduce training time because of less data to process.\n",
    "#### Credit to Jason Brownlee's [article](https://machinelearningmastery.com/feature-selection-machine-learning-python/) for guidance"
   ]
  },
  {
   "cell_type": "code",
   "execution_count": 34,
   "metadata": {},
   "outputs": [],
   "source": [
    "import pandas as pd \n",
    "import numpy as np "
   ]
  },
  {
   "cell_type": "code",
   "execution_count": 17,
   "metadata": {
    "scrolled": true
   },
   "outputs": [
    {
     "name": "stdout",
     "output_type": "stream",
     "text": [
      "Index(['tweets', 'isRetweet', 'isDeleted', 'avg_sentiment_score',\n",
      "       'sum_sentiment_score', 'delta_avg', 'retweets', 'favorites',\n",
      "       'word_count', 'positive', 'negative', 'neutral', 's&p_up/down'],\n",
      "      dtype='object')\n"
     ]
    },
    {
     "data": {
      "text/html": [
       "<div>\n",
       "<style scoped>\n",
       "    .dataframe tbody tr th:only-of-type {\n",
       "        vertical-align: middle;\n",
       "    }\n",
       "\n",
       "    .dataframe tbody tr th {\n",
       "        vertical-align: top;\n",
       "    }\n",
       "\n",
       "    .dataframe thead th {\n",
       "        text-align: right;\n",
       "    }\n",
       "</style>\n",
       "<table border=\"1\" class=\"dataframe\">\n",
       "  <thead>\n",
       "    <tr style=\"text-align: right;\">\n",
       "      <th></th>\n",
       "      <th>tweets</th>\n",
       "      <th>isRetweet</th>\n",
       "      <th>isDeleted</th>\n",
       "      <th>avg_sentiment_score</th>\n",
       "      <th>sum_sentiment_score</th>\n",
       "      <th>delta_avg</th>\n",
       "      <th>retweets</th>\n",
       "      <th>favorites</th>\n",
       "      <th>word_count</th>\n",
       "      <th>positive</th>\n",
       "      <th>negative</th>\n",
       "      <th>neutral</th>\n",
       "      <th>s&amp;p_up/down</th>\n",
       "    </tr>\n",
       "  </thead>\n",
       "  <tbody>\n",
       "    <tr>\n",
       "      <th>0</th>\n",
       "      <td>17</td>\n",
       "      <td>4</td>\n",
       "      <td>0</td>\n",
       "      <td>5.855472</td>\n",
       "      <td>915.44</td>\n",
       "      <td>0.099388</td>\n",
       "      <td>522435</td>\n",
       "      <td>1118266</td>\n",
       "      <td>908</td>\n",
       "      <td>12</td>\n",
       "      <td>0</td>\n",
       "      <td>4</td>\n",
       "      <td>up</td>\n",
       "    </tr>\n",
       "    <tr>\n",
       "      <th>1</th>\n",
       "      <td>3</td>\n",
       "      <td>1</td>\n",
       "      <td>0</td>\n",
       "      <td>5.599524</td>\n",
       "      <td>156.98</td>\n",
       "      <td>-0.156560</td>\n",
       "      <td>227982</td>\n",
       "      <td>700580</td>\n",
       "      <td>163</td>\n",
       "      <td>2</td>\n",
       "      <td>0</td>\n",
       "      <td>1</td>\n",
       "      <td>up</td>\n",
       "    </tr>\n",
       "    <tr>\n",
       "      <th>2</th>\n",
       "      <td>1</td>\n",
       "      <td>0</td>\n",
       "      <td>0</td>\n",
       "      <td>6.650000</td>\n",
       "      <td>39.90</td>\n",
       "      <td>0.893916</td>\n",
       "      <td>36535</td>\n",
       "      <td>142625</td>\n",
       "      <td>32</td>\n",
       "      <td>1</td>\n",
       "      <td>0</td>\n",
       "      <td>0</td>\n",
       "      <td>down</td>\n",
       "    </tr>\n",
       "    <tr>\n",
       "      <th>3</th>\n",
       "      <td>5</td>\n",
       "      <td>0</td>\n",
       "      <td>0</td>\n",
       "      <td>5.826134</td>\n",
       "      <td>355.76</td>\n",
       "      <td>0.070050</td>\n",
       "      <td>193625</td>\n",
       "      <td>832596</td>\n",
       "      <td>351</td>\n",
       "      <td>4</td>\n",
       "      <td>0</td>\n",
       "      <td>1</td>\n",
       "      <td>up</td>\n",
       "    </tr>\n",
       "    <tr>\n",
       "      <th>4</th>\n",
       "      <td>2</td>\n",
       "      <td>0</td>\n",
       "      <td>0</td>\n",
       "      <td>5.873654</td>\n",
       "      <td>146.84</td>\n",
       "      <td>0.117570</td>\n",
       "      <td>69857</td>\n",
       "      <td>254719</td>\n",
       "      <td>144</td>\n",
       "      <td>2</td>\n",
       "      <td>0</td>\n",
       "      <td>0</td>\n",
       "      <td>up</td>\n",
       "    </tr>\n",
       "  </tbody>\n",
       "</table>\n",
       "</div>"
      ],
      "text/plain": [
       "   tweets  isRetweet  isDeleted  avg_sentiment_score  sum_sentiment_score  \\\n",
       "0      17          4          0             5.855472               915.44   \n",
       "1       3          1          0             5.599524               156.98   \n",
       "2       1          0          0             6.650000                39.90   \n",
       "3       5          0          0             5.826134               355.76   \n",
       "4       2          0          0             5.873654               146.84   \n",
       "\n",
       "   delta_avg  retweets  favorites  word_count  positive  negative  neutral  \\\n",
       "0   0.099388    522435    1118266         908        12         0        4   \n",
       "1  -0.156560    227982     700580         163         2         0        1   \n",
       "2   0.893916     36535     142625          32         1         0        0   \n",
       "3   0.070050    193625     832596         351         4         0        1   \n",
       "4   0.117570     69857     254719         144         2         0        0   \n",
       "\n",
       "  s&p_up/down  \n",
       "0          up  \n",
       "1          up  \n",
       "2        down  \n",
       "3          up  \n",
       "4          up  "
      ]
     },
     "execution_count": 17,
     "metadata": {},
     "output_type": "execute_result"
    }
   ],
   "source": [
    "# Read in the csv file\n",
    "df = pd.read_csv('../data/daily_summary.csv')\n",
    "df = df.dropna(axis='columns', how='all')\n",
    "df = df.drop(['index', 'date', 's&p_%change'], axis=1)\n",
    "print(df.columns)\n",
    "df.head()"
   ]
  },
  {
   "cell_type": "markdown",
   "metadata": {},
   "source": [
    "# Define Features and Labels"
   ]
  },
  {
   "cell_type": "code",
   "execution_count": 35,
   "metadata": {},
   "outputs": [],
   "source": [
    "# Create an array from the values in the dataframe values\n",
    "array = df.values\n",
    "# Pull out features and labels from the columns with slice \n",
    "X= array[:, :-1]\n",
    "y= array[:, -1]"
   ]
  },
  {
   "cell_type": "code",
   "execution_count": 36,
   "metadata": {},
   "outputs": [],
   "source": [
    "# tweets_df = pd.read_csv('../data/tweet_df_cleaned_w_sentiment.csv')"
   ]
  },
  {
   "cell_type": "code",
   "execution_count": 37,
   "metadata": {},
   "outputs": [],
   "source": [
    "# tweets_df.head()"
   ]
  },
  {
   "cell_type": "markdown",
   "metadata": {},
   "source": [
    "# Extra Tree Classifier\n",
    "Feature Importance with Bagged decision trees like Random Forest and Extra Trees can be used to esmiate the importance of features. \n",
    "\n",
    "Learn more about the [ExtraTreesClassifier](http://scikit-learn.org/stable/modules/generated/sklearn.ensemble.ExtraTreesClassifier.html) class in the scikit-learn API."
   ]
  },
  {
   "cell_type": "code",
   "execution_count": 21,
   "metadata": {},
   "outputs": [
    {
     "name": "stdout",
     "output_type": "stream",
     "text": [
      "The following is a scaled score of the features at n_estimators=10\n",
      "[0.0843478  0.06937288 0.04722976 0.10500569 0.08420277 0.08778964\n",
      " 0.09851328 0.09012433 0.10473973 0.08694547 0.0600661  0.08166256]\n"
     ]
    }
   ],
   "source": [
    "from sklearn.ensemble import ExtraTreesClassifier\n",
    "# Feature extraction, bind class to an object\n",
    "# n_estimators are the number of trees in the forest\n",
    "model1 = ExtraTreesClassifier(n_estimators=10)\n",
    "# Fit the arrays with the model\n",
    "model1.fit(X,y)\n",
    "print('The following is a scaled score of the features at n_estimators=10')\n",
    "print(model1.feature_importances_)"
   ]
  },
  {
   "cell_type": "code",
   "execution_count": 22,
   "metadata": {},
   "outputs": [
    {
     "name": "stdout",
     "output_type": "stream",
     "text": [
      "The following is a scaled score of the features at n_estimators=100\n",
      "[0.08328879 0.06851396 0.04960431 0.0956694  0.09280637 0.09481782\n",
      " 0.09852353 0.09762052 0.09489748 0.08169316 0.06113143 0.08143323]\n"
     ]
    }
   ],
   "source": [
    "# Feature extraction, bind class to an object\n",
    "# n_estimators are the number of trees in the forest\n",
    "model2 = ExtraTreesClassifier(n_estimators=100)\n",
    "# Fit the arrays with the model\n",
    "model2.fit(X,y)\n",
    "print('The following is a scaled score of the features at n_estimators=100')\n",
    "print(model2.feature_importances_)"
   ]
  },
  {
   "cell_type": "code",
   "execution_count": 23,
   "metadata": {},
   "outputs": [
    {
     "data": {
      "text/plain": [
       "Index(['tweets', 'isRetweet', 'isDeleted', 'avg_sentiment_score',\n",
       "       'sum_sentiment_score', 'delta_avg', 'retweets', 'favorites',\n",
       "       'word_count', 'positive', 'negative', 'neutral', 's&p_up/down'],\n",
       "      dtype='object')"
      ]
     },
     "execution_count": 23,
     "metadata": {},
     "output_type": "execute_result"
    }
   ],
   "source": [
    "df.columns"
   ]
  },
  {
   "cell_type": "code",
   "execution_count": 31,
   "metadata": {},
   "outputs": [
    {
     "data": {
      "text/html": [
       "<div>\n",
       "<style scoped>\n",
       "    .dataframe tbody tr th:only-of-type {\n",
       "        vertical-align: middle;\n",
       "    }\n",
       "\n",
       "    .dataframe tbody tr th {\n",
       "        vertical-align: top;\n",
       "    }\n",
       "\n",
       "    .dataframe thead th {\n",
       "        text-align: right;\n",
       "    }\n",
       "</style>\n",
       "<table border=\"1\" class=\"dataframe\">\n",
       "  <thead>\n",
       "    <tr style=\"text-align: right;\">\n",
       "      <th></th>\n",
       "      <th>feature_num</th>\n",
       "      <th>feature name</th>\n",
       "      <th>n=10</th>\n",
       "      <th>n=100</th>\n",
       "    </tr>\n",
       "  </thead>\n",
       "  <tbody>\n",
       "    <tr>\n",
       "      <th>6</th>\n",
       "      <td>7</td>\n",
       "      <td>retweets</td>\n",
       "      <td>0.098513</td>\n",
       "      <td>0.098524</td>\n",
       "    </tr>\n",
       "    <tr>\n",
       "      <th>7</th>\n",
       "      <td>8</td>\n",
       "      <td>favorites</td>\n",
       "      <td>0.090124</td>\n",
       "      <td>0.097621</td>\n",
       "    </tr>\n",
       "    <tr>\n",
       "      <th>3</th>\n",
       "      <td>4</td>\n",
       "      <td>avg_sentiment_score</td>\n",
       "      <td>0.105006</td>\n",
       "      <td>0.095669</td>\n",
       "    </tr>\n",
       "    <tr>\n",
       "      <th>8</th>\n",
       "      <td>9</td>\n",
       "      <td>word_count</td>\n",
       "      <td>0.104740</td>\n",
       "      <td>0.094897</td>\n",
       "    </tr>\n",
       "    <tr>\n",
       "      <th>5</th>\n",
       "      <td>6</td>\n",
       "      <td>delta_avg</td>\n",
       "      <td>0.087790</td>\n",
       "      <td>0.094818</td>\n",
       "    </tr>\n",
       "    <tr>\n",
       "      <th>4</th>\n",
       "      <td>5</td>\n",
       "      <td>sum_sentiment_score</td>\n",
       "      <td>0.084203</td>\n",
       "      <td>0.092806</td>\n",
       "    </tr>\n",
       "    <tr>\n",
       "      <th>0</th>\n",
       "      <td>1</td>\n",
       "      <td>tweets</td>\n",
       "      <td>0.084348</td>\n",
       "      <td>0.083289</td>\n",
       "    </tr>\n",
       "    <tr>\n",
       "      <th>9</th>\n",
       "      <td>10</td>\n",
       "      <td>positive</td>\n",
       "      <td>0.086945</td>\n",
       "      <td>0.081693</td>\n",
       "    </tr>\n",
       "    <tr>\n",
       "      <th>11</th>\n",
       "      <td>12</td>\n",
       "      <td>neutral</td>\n",
       "      <td>0.081663</td>\n",
       "      <td>0.081433</td>\n",
       "    </tr>\n",
       "    <tr>\n",
       "      <th>1</th>\n",
       "      <td>2</td>\n",
       "      <td>isRetweet</td>\n",
       "      <td>0.069373</td>\n",
       "      <td>0.068514</td>\n",
       "    </tr>\n",
       "    <tr>\n",
       "      <th>10</th>\n",
       "      <td>11</td>\n",
       "      <td>negative</td>\n",
       "      <td>0.060066</td>\n",
       "      <td>0.061131</td>\n",
       "    </tr>\n",
       "    <tr>\n",
       "      <th>2</th>\n",
       "      <td>3</td>\n",
       "      <td>isDeleted</td>\n",
       "      <td>0.047230</td>\n",
       "      <td>0.049604</td>\n",
       "    </tr>\n",
       "  </tbody>\n",
       "</table>\n",
       "</div>"
      ],
      "text/plain": [
       "    feature_num         feature name      n=10     n=100\n",
       "6             7             retweets  0.098513  0.098524\n",
       "7             8            favorites  0.090124  0.097621\n",
       "3             4  avg_sentiment_score  0.105006  0.095669\n",
       "8             9           word_count  0.104740  0.094897\n",
       "5             6            delta_avg  0.087790  0.094818\n",
       "4             5  sum_sentiment_score  0.084203  0.092806\n",
       "0             1               tweets  0.084348  0.083289\n",
       "9            10             positive  0.086945  0.081693\n",
       "11           12              neutral  0.081663  0.081433\n",
       "1             2            isRetweet  0.069373  0.068514\n",
       "10           11             negative  0.060066  0.061131\n",
       "2             3            isDeleted  0.047230  0.049604"
      ]
     },
     "execution_count": 31,
     "metadata": {},
     "output_type": "execute_result"
    }
   ],
   "source": [
    "# Rank the outcomes by n_estimators 100\n",
    "feature_num = np.arange(1, 13, 1)\n",
    "dict = {\n",
    "    'feature_num' : feature_num,\n",
    "    'feature name' : df.columns[0:-1],\n",
    "    'n=10' : model1.feature_importances_, \n",
    "    'n=100' : model2.feature_importances_}\n",
    "etc_rank = pd.DataFrame(dict)\n",
    "etc_rank.sort_values(by='n=100', ascending=False)"
   ]
  },
  {
   "cell_type": "code",
   "execution_count": 30,
   "metadata": {},
   "outputs": [
    {
     "data": {
      "text/html": [
       "<div>\n",
       "<style scoped>\n",
       "    .dataframe tbody tr th:only-of-type {\n",
       "        vertical-align: middle;\n",
       "    }\n",
       "\n",
       "    .dataframe tbody tr th {\n",
       "        vertical-align: top;\n",
       "    }\n",
       "\n",
       "    .dataframe thead th {\n",
       "        text-align: right;\n",
       "    }\n",
       "</style>\n",
       "<table border=\"1\" class=\"dataframe\">\n",
       "  <thead>\n",
       "    <tr style=\"text-align: right;\">\n",
       "      <th></th>\n",
       "      <th>feature_num</th>\n",
       "      <th>feature name</th>\n",
       "      <th>n=10</th>\n",
       "      <th>n=100</th>\n",
       "    </tr>\n",
       "  </thead>\n",
       "  <tbody>\n",
       "    <tr>\n",
       "      <th>3</th>\n",
       "      <td>4</td>\n",
       "      <td>avg_sentiment_score</td>\n",
       "      <td>0.105006</td>\n",
       "      <td>0.095669</td>\n",
       "    </tr>\n",
       "    <tr>\n",
       "      <th>8</th>\n",
       "      <td>9</td>\n",
       "      <td>word_count</td>\n",
       "      <td>0.104740</td>\n",
       "      <td>0.094897</td>\n",
       "    </tr>\n",
       "    <tr>\n",
       "      <th>6</th>\n",
       "      <td>7</td>\n",
       "      <td>retweets</td>\n",
       "      <td>0.098513</td>\n",
       "      <td>0.098524</td>\n",
       "    </tr>\n",
       "    <tr>\n",
       "      <th>7</th>\n",
       "      <td>8</td>\n",
       "      <td>favorites</td>\n",
       "      <td>0.090124</td>\n",
       "      <td>0.097621</td>\n",
       "    </tr>\n",
       "    <tr>\n",
       "      <th>5</th>\n",
       "      <td>6</td>\n",
       "      <td>delta_avg</td>\n",
       "      <td>0.087790</td>\n",
       "      <td>0.094818</td>\n",
       "    </tr>\n",
       "    <tr>\n",
       "      <th>9</th>\n",
       "      <td>10</td>\n",
       "      <td>positive</td>\n",
       "      <td>0.086945</td>\n",
       "      <td>0.081693</td>\n",
       "    </tr>\n",
       "    <tr>\n",
       "      <th>0</th>\n",
       "      <td>1</td>\n",
       "      <td>tweets</td>\n",
       "      <td>0.084348</td>\n",
       "      <td>0.083289</td>\n",
       "    </tr>\n",
       "    <tr>\n",
       "      <th>4</th>\n",
       "      <td>5</td>\n",
       "      <td>sum_sentiment_score</td>\n",
       "      <td>0.084203</td>\n",
       "      <td>0.092806</td>\n",
       "    </tr>\n",
       "    <tr>\n",
       "      <th>11</th>\n",
       "      <td>12</td>\n",
       "      <td>neutral</td>\n",
       "      <td>0.081663</td>\n",
       "      <td>0.081433</td>\n",
       "    </tr>\n",
       "    <tr>\n",
       "      <th>1</th>\n",
       "      <td>2</td>\n",
       "      <td>isRetweet</td>\n",
       "      <td>0.069373</td>\n",
       "      <td>0.068514</td>\n",
       "    </tr>\n",
       "    <tr>\n",
       "      <th>10</th>\n",
       "      <td>11</td>\n",
       "      <td>negative</td>\n",
       "      <td>0.060066</td>\n",
       "      <td>0.061131</td>\n",
       "    </tr>\n",
       "    <tr>\n",
       "      <th>2</th>\n",
       "      <td>3</td>\n",
       "      <td>isDeleted</td>\n",
       "      <td>0.047230</td>\n",
       "      <td>0.049604</td>\n",
       "    </tr>\n",
       "  </tbody>\n",
       "</table>\n",
       "</div>"
      ],
      "text/plain": [
       "    feature_num         feature name      n=10     n=100\n",
       "3             4  avg_sentiment_score  0.105006  0.095669\n",
       "8             9           word_count  0.104740  0.094897\n",
       "6             7             retweets  0.098513  0.098524\n",
       "7             8            favorites  0.090124  0.097621\n",
       "5             6            delta_avg  0.087790  0.094818\n",
       "9            10             positive  0.086945  0.081693\n",
       "0             1               tweets  0.084348  0.083289\n",
       "4             5  sum_sentiment_score  0.084203  0.092806\n",
       "11           12              neutral  0.081663  0.081433\n",
       "1             2            isRetweet  0.069373  0.068514\n",
       "10           11             negative  0.060066  0.061131\n",
       "2             3            isDeleted  0.047230  0.049604"
      ]
     },
     "execution_count": 30,
     "metadata": {},
     "output_type": "execute_result"
    }
   ],
   "source": [
    "# Rank the outcomes by n_estimators 100\n",
    "feature_num = np.arange(1, 13, 1)\n",
    "dict = {\n",
    "    'feature_num' : feature_num,\n",
    "    'feature name' : df.columns[0:-1],\n",
    "    'n=10' : model1.feature_importances_, \n",
    "    'n=100' : model2.feature_importances_}\n",
    "etc_rank = pd.DataFrame(dict)\n",
    "etc_rank.sort_values(by='n=10', ascending=False)"
   ]
  },
  {
   "cell_type": "markdown",
   "metadata": {},
   "source": [
    "## Univariate Selection\n",
    "Statistical tests can be used to select those features that have the strongest relationship with the output variable.\n",
    "\n",
    "The scikit-learn library provides the [SelectKBest](http://scikit-learn.org/stable/modules/generated/sklearn.feature_selection.SelectKBest.html#sklearn.feature_selection.SelectKBest) class that can be used with a suite of different statistical tests to select a specific number of features.\n",
    "\n",
    "Many different statistical test scan be used with this selection method. For example the ANOVA F-value method is appropriate for numerical inputs and categorical data, as we see in the Pima dataset. This can be used via the [f_classif()](https://scikit-learn.org/stable/modules/generated/sklearn.feature_selection.f_classif.html) function. We will select the 4 best features using this method in the example below."
   ]
  },
  {
   "cell_type": "code",
   "execution_count": 38,
   "metadata": {},
   "outputs": [
    {
     "name": "stdout",
     "output_type": "stream",
     "text": [
      "[0.713 0.374 0.95  0.166 0.208 0.166 3.283 4.348 0.224 0.011 0.165 1.718]\n",
      "[[17 0 522435 1118266 4]\n",
      " [3 0 227982 700580 1]\n",
      " [1 0 36535 142625 0]\n",
      " [5 0 193625 832596 1]\n",
      " [2 0 69857 254719 0]]\n"
     ]
    }
   ],
   "source": [
    "from numpy import set_printoptions\n",
    "from sklearn.feature_selection import SelectKBest\n",
    "from sklearn.feature_selection import f_classif\n",
    "test = SelectKBest(score_func=f_classif, k=5)\n",
    "fit = test.fit(X, y)\n",
    "# summarize scores\n",
    "set_printoptions(precision=3)\n",
    "print(fit.scores_)\n",
    "features = fit.transform(X)\n",
    "# summarize selected features\n",
    "print(features[0:5,:])"
   ]
  },
  {
   "cell_type": "code",
   "execution_count": 42,
   "metadata": {},
   "outputs": [
    {
     "data": {
      "text/plain": [
       "Index(['tweets', 'isRetweet', 'isDeleted', 'avg_sentiment_score',\n",
       "       'sum_sentiment_score', 'delta_avg', 'retweets', 'favorites',\n",
       "       'word_count', 'positive', 'negative', 'neutral'],\n",
       "      dtype='object')"
      ]
     },
     "execution_count": 42,
     "metadata": {},
     "output_type": "execute_result"
    }
   ],
   "source": [
    "df.columns[:-1]"
   ]
  },
  {
   "cell_type": "code",
   "execution_count": 43,
   "metadata": {},
   "outputs": [
    {
     "data": {
      "text/html": [
       "<div>\n",
       "<style scoped>\n",
       "    .dataframe tbody tr th:only-of-type {\n",
       "        vertical-align: middle;\n",
       "    }\n",
       "\n",
       "    .dataframe tbody tr th {\n",
       "        vertical-align: top;\n",
       "    }\n",
       "\n",
       "    .dataframe thead th {\n",
       "        text-align: right;\n",
       "    }\n",
       "</style>\n",
       "<table border=\"1\" class=\"dataframe\">\n",
       "  <thead>\n",
       "    <tr style=\"text-align: right;\">\n",
       "      <th></th>\n",
       "      <th>feature_num</th>\n",
       "      <th>feature_name</th>\n",
       "      <th>fit_scores</th>\n",
       "    </tr>\n",
       "  </thead>\n",
       "  <tbody>\n",
       "    <tr>\n",
       "      <th>0</th>\n",
       "      <td>1</td>\n",
       "      <td>tweets</td>\n",
       "      <td>0.713286</td>\n",
       "    </tr>\n",
       "    <tr>\n",
       "      <th>1</th>\n",
       "      <td>2</td>\n",
       "      <td>isRetweet</td>\n",
       "      <td>0.373834</td>\n",
       "    </tr>\n",
       "    <tr>\n",
       "      <th>2</th>\n",
       "      <td>3</td>\n",
       "      <td>isDeleted</td>\n",
       "      <td>0.949567</td>\n",
       "    </tr>\n",
       "    <tr>\n",
       "      <th>3</th>\n",
       "      <td>4</td>\n",
       "      <td>avg_sentiment_score</td>\n",
       "      <td>0.165626</td>\n",
       "    </tr>\n",
       "    <tr>\n",
       "      <th>4</th>\n",
       "      <td>5</td>\n",
       "      <td>sum_sentiment_score</td>\n",
       "      <td>0.207855</td>\n",
       "    </tr>\n",
       "    <tr>\n",
       "      <th>5</th>\n",
       "      <td>6</td>\n",
       "      <td>delta_avg</td>\n",
       "      <td>0.165626</td>\n",
       "    </tr>\n",
       "    <tr>\n",
       "      <th>6</th>\n",
       "      <td>7</td>\n",
       "      <td>retweets</td>\n",
       "      <td>3.282661</td>\n",
       "    </tr>\n",
       "    <tr>\n",
       "      <th>7</th>\n",
       "      <td>8</td>\n",
       "      <td>favorites</td>\n",
       "      <td>4.347726</td>\n",
       "    </tr>\n",
       "    <tr>\n",
       "      <th>8</th>\n",
       "      <td>9</td>\n",
       "      <td>word_count</td>\n",
       "      <td>0.223576</td>\n",
       "    </tr>\n",
       "    <tr>\n",
       "      <th>9</th>\n",
       "      <td>10</td>\n",
       "      <td>positive</td>\n",
       "      <td>0.011185</td>\n",
       "    </tr>\n",
       "    <tr>\n",
       "      <th>10</th>\n",
       "      <td>11</td>\n",
       "      <td>negative</td>\n",
       "      <td>0.165387</td>\n",
       "    </tr>\n",
       "    <tr>\n",
       "      <th>11</th>\n",
       "      <td>12</td>\n",
       "      <td>neutral</td>\n",
       "      <td>1.718110</td>\n",
       "    </tr>\n",
       "  </tbody>\n",
       "</table>\n",
       "</div>"
      ],
      "text/plain": [
       "    feature_num         feature_name  fit_scores\n",
       "0             1               tweets    0.713286\n",
       "1             2            isRetweet    0.373834\n",
       "2             3            isDeleted    0.949567\n",
       "3             4  avg_sentiment_score    0.165626\n",
       "4             5  sum_sentiment_score    0.207855\n",
       "5             6            delta_avg    0.165626\n",
       "6             7             retweets    3.282661\n",
       "7             8            favorites    4.347726\n",
       "8             9           word_count    0.223576\n",
       "9            10             positive    0.011185\n",
       "10           11             negative    0.165387\n",
       "11           12              neutral    1.718110"
      ]
     },
     "execution_count": 43,
     "metadata": {},
     "output_type": "execute_result"
    }
   ],
   "source": [
    "dict = {\n",
    "    'feature_num' : feature_num,\n",
    "    'feature_name' : df.columns[:-1],\n",
    "    'fit_scores' : fit.scores_\n",
    "    }\n",
    "etc_rank = pd.DataFrame(dict)\n",
    "etc_rank #.sort_values(by='fit_scores', ascending=False)"
   ]
  },
  {
   "cell_type": "markdown",
   "metadata": {},
   "source": [
    "## Recursive Feature Elimination\n",
    "The Recursive Feature Elimination (or RFE) works by recursively removing attributes and building a model on those attributes that remain.\n",
    "\n",
    "It uses the model accuracy to identify which attributes (and combination of attributes) contribute the most to predicting the target attribute.\n",
    "\n",
    "You can learn more about the [RFE](http://scikit-learn.org/stable/modules/generated/sklearn.feature_selection.RFE.html#sklearn.feature_selection.RFE) class in the scikit-learn documentation.\n",
    "\n",
    "The example below uses RFE with the logistic regression algorithm to select the top 3 features. The choice of algorithm does not matter too much as long as it is skillful and consistent."
   ]
  },
  {
   "cell_type": "code",
   "execution_count": 44,
   "metadata": {},
   "outputs": [
    {
     "name": "stdout",
     "output_type": "stream",
     "text": [
      "Num Features: 6\n",
      "Selected Features: [ True False False False  True False  True  True  True  True False False]\n",
      "Feature Ranking: [1 2 3 5 1 7 1 1 1 1 4 6]\n"
     ]
    },
    {
     "name": "stderr",
     "output_type": "stream",
     "text": [
      "C:\\Users\\jaysu\\anaconda3\\lib\\site-packages\\sklearn\\utils\\validation.py:68: FutureWarning: Pass n_features_to_select=6 as keyword args. From version 0.25 passing these as positional arguments will result in an error\n",
      "  warnings.warn(\"Pass {} as keyword args. From version 0.25 \"\n"
     ]
    }
   ],
   "source": [
    "from sklearn.feature_selection import RFE\n",
    "from sklearn.linear_model import LogisticRegression\n",
    "\n",
    "# feature extraction\n",
    "model = LogisticRegression(solver='lbfgs')\n",
    "rfe = RFE(model, 6)\n",
    "fit = rfe.fit(X, y)\n",
    "print(\"Num Features: %d\" % fit.n_features_)\n",
    "print(\"Selected Features: %s\" % fit.support_)\n",
    "print(\"Feature Ranking: %s\" % fit.ranking_)"
   ]
  },
  {
   "cell_type": "code",
   "execution_count": 46,
   "metadata": {},
   "outputs": [
    {
     "data": {
      "text/html": [
       "<div>\n",
       "<style scoped>\n",
       "    .dataframe tbody tr th:only-of-type {\n",
       "        vertical-align: middle;\n",
       "    }\n",
       "\n",
       "    .dataframe tbody tr th {\n",
       "        vertical-align: top;\n",
       "    }\n",
       "\n",
       "    .dataframe thead th {\n",
       "        text-align: right;\n",
       "    }\n",
       "</style>\n",
       "<table border=\"1\" class=\"dataframe\">\n",
       "  <thead>\n",
       "    <tr style=\"text-align: right;\">\n",
       "      <th></th>\n",
       "      <th>feature_num</th>\n",
       "      <th>feature_name</th>\n",
       "      <th>best_fit</th>\n",
       "    </tr>\n",
       "  </thead>\n",
       "  <tbody>\n",
       "    <tr>\n",
       "      <th>0</th>\n",
       "      <td>1</td>\n",
       "      <td>tweets</td>\n",
       "      <td>True</td>\n",
       "    </tr>\n",
       "    <tr>\n",
       "      <th>4</th>\n",
       "      <td>5</td>\n",
       "      <td>sum_sentiment_score</td>\n",
       "      <td>True</td>\n",
       "    </tr>\n",
       "    <tr>\n",
       "      <th>6</th>\n",
       "      <td>7</td>\n",
       "      <td>retweets</td>\n",
       "      <td>True</td>\n",
       "    </tr>\n",
       "    <tr>\n",
       "      <th>7</th>\n",
       "      <td>8</td>\n",
       "      <td>favorites</td>\n",
       "      <td>True</td>\n",
       "    </tr>\n",
       "    <tr>\n",
       "      <th>8</th>\n",
       "      <td>9</td>\n",
       "      <td>word_count</td>\n",
       "      <td>True</td>\n",
       "    </tr>\n",
       "    <tr>\n",
       "      <th>9</th>\n",
       "      <td>10</td>\n",
       "      <td>positive</td>\n",
       "      <td>True</td>\n",
       "    </tr>\n",
       "  </tbody>\n",
       "</table>\n",
       "</div>"
      ],
      "text/plain": [
       "   feature_num         feature_name  best_fit\n",
       "0            1               tweets      True\n",
       "4            5  sum_sentiment_score      True\n",
       "6            7             retweets      True\n",
       "7            8            favorites      True\n",
       "8            9           word_count      True\n",
       "9           10             positive      True"
      ]
     },
     "execution_count": 46,
     "metadata": {},
     "output_type": "execute_result"
    }
   ],
   "source": [
    "dict = {\n",
    "    'feature_num' : feature_num,\n",
    "    'feature_name' : df.columns[:-1],\n",
    "    'best_fit' : fit.support_\n",
    "    }\n",
    "feature_rfe = pd.DataFrame(dict)\n",
    "is_true = feature_rfe['best_fit'] == True\n",
    "feature_rfe[is_true]"
   ]
  },
  {
   "cell_type": "markdown",
   "metadata": {},
   "source": [
    "## Principal Component Analysis\n",
    "\n",
    "[Principal Component Analysis](https://machinelearningmastery.com/calculate-principal-component-analysis-scratch-python/) (or PCA) uses linear algebra to transform the dataset into a compressed form.\n",
    "\n",
    "Generally this is called a data reduction technique. A property of PCA is that you can choose the number of dimensions or principal component in the transformed result.\n",
    "\n",
    "In the example below, we use PCA and select 3 principal components.\n",
    "\n",
    "Learn more about the [PCA](http://scikit-learn.org/stable/modules/generated/sklearn.decomposition.PCA.html) class in scikit-learn by reviewing the PCA API. Dive deeper into the math behind PCA on the [Principal Component Analysis Wikipedia](https://en.wikipedia.org/wiki/Principal_component_analysis) article."
   ]
  },
  {
   "cell_type": "code",
   "execution_count": 47,
   "metadata": {},
   "outputs": [
    {
     "name": "stdout",
     "output_type": "stream",
     "text": [
      "Explained Variance: [9.784e-01 2.164e-02 1.050e-06]\n",
      "[[ 1.616e-05  7.440e-06  5.190e-07 -7.992e-08  9.483e-04 -7.992e-08\n",
      "   3.142e-01  9.494e-01  1.011e-03  6.800e-06  2.214e-06  5.778e-06]\n",
      " [-7.977e-05 -7.759e-05 -3.555e-06  2.925e-07 -3.254e-03  2.925e-07\n",
      "  -9.494e-01  3.142e-01 -3.533e-03 -3.039e-05 -1.673e-05 -3.201e-05]\n",
      " [ 7.865e-03  4.591e-03  5.223e-04 -1.718e-05  6.907e-01 -1.718e-05\n",
      "  -4.996e-03  1.934e-04  7.231e-01  4.801e-03  5.484e-04  3.236e-03]]\n"
     ]
    }
   ],
   "source": [
    "from sklearn.decomposition import PCA\n",
    "\n",
    "pca = PCA(n_components=3)\n",
    "fit = pca.fit(X)\n",
    "# summarize components\n",
    "print(\"Explained Variance: %s\" % fit.explained_variance_ratio_)\n",
    "print(fit.components_)"
   ]
  },
  {
   "cell_type": "code",
   "execution_count": null,
   "metadata": {},
   "outputs": [],
   "source": []
  },
  {
   "cell_type": "code",
   "execution_count": 46,
   "metadata": {},
   "outputs": [],
   "source": [
    "from sklearn.ensemble import ExtraTreesClassifier\n",
    "# Create an array from the values in the dataframe values\n",
    "array = df.values\n",
    "# Pull out features and labels from the columns with slice \n",
    "X= array[:, 1:]\n",
    "y= array[:, 0]"
   ]
  }
 ],
 "metadata": {
  "kernelspec": {
   "display_name": "Python 3",
   "language": "python",
   "name": "python3"
  },
  "language_info": {
   "codemirror_mode": {
    "name": "ipython",
    "version": 3
   },
   "file_extension": ".py",
   "mimetype": "text/x-python",
   "name": "python",
   "nbconvert_exporter": "python",
   "pygments_lexer": "ipython3",
   "version": "3.8.3"
  }
 },
 "nbformat": 4,
 "nbformat_minor": 2
}
