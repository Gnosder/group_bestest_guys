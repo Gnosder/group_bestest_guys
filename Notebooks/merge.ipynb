{
 "metadata": {
  "language_info": {
   "codemirror_mode": {
    "name": "ipython",
    "version": 3
   },
   "file_extension": ".py",
   "mimetype": "text/x-python",
   "name": "python",
   "nbconvert_exporter": "python",
   "pygments_lexer": "ipython3",
   "version": "3.6.10-final"
  },
  "orig_nbformat": 2,
  "kernelspec": {
   "name": "python3",
   "display_name": "Python 3"
  }
 },
 "nbformat": 4,
 "nbformat_minor": 2,
 "cells": [
  {
   "cell_type": "code",
   "execution_count": 1,
   "metadata": {},
   "outputs": [],
   "source": [
    "import pandas as pd\n",
    "import numpy as np\n",
    "import datetime as dt\n",
    "from datetime import date"
   ]
  },
  {
   "cell_type": "code",
   "execution_count": 2,
   "metadata": {},
   "outputs": [],
   "source": [
    "freq = ['daily', 'weekly', 'monthly']\n",
    "files = [f'../Data/gspc_{f}_clean.csv' for f in freq]\n",
    "dfs = [pd.read_csv(file) for file in files]\n",
    "\n",
    "for df in dfs:\n",
    "    df['date'] = pd.to_datetime(df['date']).dt.normalize()\n",
    "\n",
    "daily = dfs[0]\n",
    "weekly = dfs[1]\n",
    "monthly = dfs[2]"
   ]
  },
  {
   "cell_type": "code",
   "execution_count": 3,
   "metadata": {},
   "outputs": [],
   "source": [
    "t = pd.read_csv(f'../Data/tweet_df_cleaned_w_sentiment.csv')\n",
    "t.rename(columns={\n",
    "        'text': 'tweet', \n",
    "        'avg_scores': 'avg', \n",
    "        'sum_scores': 'sum', \n",
    "        'date': 'timestamp',\n",
    "        'sentiment_category': 'sentiment',\n",
    "        'word_count': 'words'\n",
    "        }, inplace=True)\n",
    "#tweets.columns\n",
    "columns = [\n",
    "        'timestamp', \n",
    "        'tweet', \n",
    "        'avg', \n",
    "        'sum', \n",
    "        'isRetweet', \n",
    "        'isDeleted', \n",
    "        'favorites', \n",
    "        'retweets',\n",
    "        'sentiment',\n",
    "        'words'\n",
    "        ]\n",
    "\n",
    "t['isRetweet'] = t['isRetweet'].apply(lambda x: 1 if x == 't' else 0)\n",
    "t['isDeleted'] = t['isDeleted'].apply(lambda x: 1 if x == 't' else 0)\n",
    "t['date'] = pd.to_datetime(t['timestamp']).dt.normalize()\n",
    "t['month'] = t['date'] + pd.offsets.MonthBegin(-1)\n",
    "t['year'] = pd.DatetimeIndex(t['timestamp']).year\n",
    "\n",
    "avg_sent = t[(t['isRetweet'] == 'f') & (t['isDeleted'] == 'f') & (t['year'] >= 2016)]['avg'].mean()\n",
    "t['delta_avg'] = t['avg'].apply(lambda x: x - avg_sent)\n",
    "\n",
    "sentiments = ['positive', 'negative', 'neutral']\n",
    "for s in sentiments:\n",
    "        t[s] = np.where(t['sentiment'] == s, 1, 0)\n",
    "\n",
    "m = t[t['year'] >= 2016]\\\n",
    "        .groupby('month')\\\n",
    "        .agg({\n",
    "                'tweet': 'count',\n",
    "                'isRetweet': 'sum',\n",
    "                'isDeleted': 'sum', \n",
    "                'avg': 'mean', \n",
    "                'sum': 'sum',\n",
    "                'delta_avg': 'mean', \n",
    "                'retweets': 'sum', \n",
    "                'favorites': 'sum', \n",
    "                'words': 'sum',\n",
    "                'positive': 'sum',\n",
    "                'negative': 'sum',\n",
    "                'neutral': 'sum'\n",
    "        })\\\n",
    "        .reset_index()\n",
    "\n",
    "d = t[t['year'] >= 2016]\\\n",
    "        .groupby('date')\\\n",
    "        .agg({\n",
    "                'tweet': 'count',\n",
    "                'isRetweet': 'sum',\n",
    "                'isDeleted': 'sum', \n",
    "                'avg': 'mean', \n",
    "                'sum': 'sum',\n",
    "                'delta_avg': 'mean', \n",
    "                'retweets': 'sum', \n",
    "                'favorites': 'sum', \n",
    "                'words': 'sum',\n",
    "                'positive': 'sum',\n",
    "                'negative': 'sum',\n",
    "                'neutral': 'sum'\n",
    "        })\\\n",
    "        .reset_index()\n",
    "\n",
    "\n",
    "for s in sentiments:\n",
    "    d[f'%_{s}'] = d[s] / d['tweet']\n",
    "    m[f'%_{s}'] = m[s] / m['tweet']\n",
    "\n",
    "\n",
    "mo = pd.merge(m, monthly, how='inner', left_on='month', right_on='date')\n",
    "mo = mo[['month', 'tweet', 'isRetweet', 'isDeleted', 'avg', 'sum', 'delta_avg', 'retweets', 'favorites', 'words', 'positive', 'negative', 'neutral', '%change', 'up/down']]\\\n",
    "        .reset_index()\n",
    "\n",
    "da = pd.merge(d, daily, how='inner', on='date')\n",
    "da = da[['date', 'tweet', 'isRetweet', 'isDeleted', 'avg', 'sum', 'delta_avg', 'retweets', 'favorites', 'words', 'positive', 'negative', 'neutral', '%change', 'up/down']]\\\n",
    "        .reset_index()"
   ]
  },
  {
   "cell_type": "code",
   "execution_count": 4,
   "metadata": {},
   "outputs": [],
   "source": [
    "mo.rename(columns={\n",
    "    'tweet': 'tweets',\n",
    "    'avg': 'avg_sentiment_score',\n",
    "    'sum': 'sum_sentiment_score',\n",
    "    'words': 'word_count',\n",
    "    '%change': 's&p_%change',\n",
    "    'up/down': 's&p_up/down'\n",
    "}, inplace=True)\n",
    "\n",
    "da.rename(columns={\n",
    "    'tweet': 'tweets',\n",
    "    'avg': 'avg_sentiment_score',\n",
    "    'sum': 'sum_sentiment_score',\n",
    "    'words': 'word_count',\n",
    "    '%change': 's&p_%change',\n",
    "    'up/down': 's&p_up/down'\n",
    "}, inplace=True)"
   ]
  },
  {
   "cell_type": "code",
   "execution_count": 11,
   "metadata": {},
   "outputs": [],
   "source": [
    "# mo.to_csv('../Data/monthly_summary.csv', index=False)\n",
    "# da.to_csv('../Data/daily_summary.csv', index=False)"
   ]
  },
  {
   "cell_type": "code",
   "execution_count": 5,
   "metadata": {},
   "outputs": [
    {
     "output_type": "execute_result",
     "data": {
      "text/plain": [
       "   index      month  tweets  isRetweet  isDeleted  avg_sentiment_score  \\\n",
       "0      0 2016-12-01     140         11          1             5.789808   \n",
       "1      1 2017-01-01     212          5          2             5.604845   \n",
       "2      2 2017-02-01     153          1          7             5.551829   \n",
       "3      3 2017-03-01     152         13          9             5.694078   \n",
       "4      4 2017-04-01     146         13          6             5.696006   \n",
       "\n",
       "   sum_sentiment_score  delta_avg  retweets  favorites  word_count  positive  \\\n",
       "0              8038.02        NaN   1956286    7467975        8174       102   \n",
       "1             12097.93        NaN   3626958   17156762       12673       118   \n",
       "2              8518.98        NaN   2784536   13958598        9001        79   \n",
       "3              8317.00        NaN   2112539    9328782        8605        97   \n",
       "4              8166.45        NaN   1631378    7374391        8465        91   \n",
       "\n",
       "   negative  neutral  s&p_%change s&p_up/down  \n",
       "0         9       28     0.017571          up  \n",
       "1        24       70     0.012125          up  \n",
       "2        29       44     0.034149          up  \n",
       "3        12       42    -0.007315        down  \n",
       "4        13       38     0.009253          up  "
      ],
      "text/html": "<div>\n<style scoped>\n    .dataframe tbody tr th:only-of-type {\n        vertical-align: middle;\n    }\n\n    .dataframe tbody tr th {\n        vertical-align: top;\n    }\n\n    .dataframe thead th {\n        text-align: right;\n    }\n</style>\n<table border=\"1\" class=\"dataframe\">\n  <thead>\n    <tr style=\"text-align: right;\">\n      <th></th>\n      <th>index</th>\n      <th>month</th>\n      <th>tweets</th>\n      <th>isRetweet</th>\n      <th>isDeleted</th>\n      <th>avg_sentiment_score</th>\n      <th>sum_sentiment_score</th>\n      <th>delta_avg</th>\n      <th>retweets</th>\n      <th>favorites</th>\n      <th>word_count</th>\n      <th>positive</th>\n      <th>negative</th>\n      <th>neutral</th>\n      <th>s&amp;p_%change</th>\n      <th>s&amp;p_up/down</th>\n    </tr>\n  </thead>\n  <tbody>\n    <tr>\n      <th>0</th>\n      <td>0</td>\n      <td>2016-12-01</td>\n      <td>140</td>\n      <td>11</td>\n      <td>1</td>\n      <td>5.789808</td>\n      <td>8038.02</td>\n      <td>NaN</td>\n      <td>1956286</td>\n      <td>7467975</td>\n      <td>8174</td>\n      <td>102</td>\n      <td>9</td>\n      <td>28</td>\n      <td>0.017571</td>\n      <td>up</td>\n    </tr>\n    <tr>\n      <th>1</th>\n      <td>1</td>\n      <td>2017-01-01</td>\n      <td>212</td>\n      <td>5</td>\n      <td>2</td>\n      <td>5.604845</td>\n      <td>12097.93</td>\n      <td>NaN</td>\n      <td>3626958</td>\n      <td>17156762</td>\n      <td>12673</td>\n      <td>118</td>\n      <td>24</td>\n      <td>70</td>\n      <td>0.012125</td>\n      <td>up</td>\n    </tr>\n    <tr>\n      <th>2</th>\n      <td>2</td>\n      <td>2017-02-01</td>\n      <td>153</td>\n      <td>1</td>\n      <td>7</td>\n      <td>5.551829</td>\n      <td>8518.98</td>\n      <td>NaN</td>\n      <td>2784536</td>\n      <td>13958598</td>\n      <td>9001</td>\n      <td>79</td>\n      <td>29</td>\n      <td>44</td>\n      <td>0.034149</td>\n      <td>up</td>\n    </tr>\n    <tr>\n      <th>3</th>\n      <td>3</td>\n      <td>2017-03-01</td>\n      <td>152</td>\n      <td>13</td>\n      <td>9</td>\n      <td>5.694078</td>\n      <td>8317.00</td>\n      <td>NaN</td>\n      <td>2112539</td>\n      <td>9328782</td>\n      <td>8605</td>\n      <td>97</td>\n      <td>12</td>\n      <td>42</td>\n      <td>-0.007315</td>\n      <td>down</td>\n    </tr>\n    <tr>\n      <th>4</th>\n      <td>4</td>\n      <td>2017-04-01</td>\n      <td>146</td>\n      <td>13</td>\n      <td>6</td>\n      <td>5.696006</td>\n      <td>8166.45</td>\n      <td>NaN</td>\n      <td>1631378</td>\n      <td>7374391</td>\n      <td>8465</td>\n      <td>91</td>\n      <td>13</td>\n      <td>38</td>\n      <td>0.009253</td>\n      <td>up</td>\n    </tr>\n  </tbody>\n</table>\n</div>"
     },
     "metadata": {},
     "execution_count": 5
    }
   ],
   "source": [
    "mo.head()"
   ]
  },
  {
   "cell_type": "code",
   "execution_count": 11,
   "metadata": {},
   "outputs": [
    {
     "output_type": "execute_result",
     "data": {
      "text/plain": [
       "0    [('Republicans', 4.22), ('Democrats', 5.5), ('...\n",
       "1    [('I', 5.92), ('back', 5.18), ('Great', 7.88),...\n",
       "2    [('RT', 4.88), ('READ', 6.52), ('Letter', 5.94...\n",
       "3    [('The', 4.98), ('Mail', 6.36), ('In', 5.5), (...\n",
       "4    [('RT', 4.88), ('Very', 6.12), ('friendly', 7....\n",
       "Name: word_and_scores, dtype: object"
      ]
     },
     "metadata": {},
     "execution_count": 11
    }
   ],
   "source": [
    "t = pd.read_csv(f'../Data/tweet_df_cleaned_w_sentiment.csv')\n",
    "t['word_and_scores'].head()"
   ]
  }
 ]
}