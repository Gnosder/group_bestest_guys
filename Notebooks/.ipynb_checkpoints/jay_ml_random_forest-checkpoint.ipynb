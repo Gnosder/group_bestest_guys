{
 "cells": [
  {
   "cell_type": "markdown",
   "metadata": {},
   "source": [
    "## Install and Updated Required Libraries"
   ]
  },
  {
   "cell_type": "code",
   "execution_count": 4,
   "metadata": {},
   "outputs": [],
   "source": [
    "### Update sklearn to prevent version mismatches\n",
    "# !pip install sklearn --upgrade"
   ]
  },
  {
   "cell_type": "code",
   "execution_count": 6,
   "metadata": {},
   "outputs": [],
   "source": [
    "### install joblib. This will be used to save your model. \n",
    "### Restart your kernel after installing \n",
    "# !pip install joblib"
   ]
  },
  {
   "cell_type": "code",
   "execution_count": 2,
   "metadata": {},
   "outputs": [],
   "source": [
    "import pandas as pd\n",
    "import numpy as np"
   ]
  },
  {
   "cell_type": "markdown",
   "metadata": {},
   "source": [
    "## Read the CSV and Perform Basic Data Cleaning"
   ]
  },
  {
   "cell_type": "code",
   "execution_count": 15,
   "metadata": {},
   "outputs": [
    {
     "name": "stdout",
     "output_type": "stream",
     "text": [
      "(991, 15)\n"
     ]
    },
    {
     "data": {
      "text/html": [
       "<div>\n",
       "<style scoped>\n",
       "    .dataframe tbody tr th:only-of-type {\n",
       "        vertical-align: middle;\n",
       "    }\n",
       "\n",
       "    .dataframe tbody tr th {\n",
       "        vertical-align: top;\n",
       "    }\n",
       "\n",
       "    .dataframe thead th {\n",
       "        text-align: right;\n",
       "    }\n",
       "</style>\n",
       "<table border=\"1\" class=\"dataframe\">\n",
       "  <thead>\n",
       "    <tr style=\"text-align: right;\">\n",
       "      <th></th>\n",
       "      <th>date</th>\n",
       "      <th>tweets</th>\n",
       "      <th>isRetweet</th>\n",
       "      <th>isDeleted</th>\n",
       "      <th>avg_sentiment_score</th>\n",
       "      <th>sum_sentiment_score</th>\n",
       "      <th>delta_avg</th>\n",
       "      <th>retweets</th>\n",
       "      <th>favorites</th>\n",
       "      <th>word_count</th>\n",
       "      <th>positive</th>\n",
       "      <th>negative</th>\n",
       "      <th>neutral</th>\n",
       "      <th>s&amp;p_%change</th>\n",
       "      <th>s&amp;p_up/down</th>\n",
       "    </tr>\n",
       "  </thead>\n",
       "  <tbody>\n",
       "    <tr>\n",
       "      <th>0</th>\n",
       "      <td>2016-11-08</td>\n",
       "      <td>17</td>\n",
       "      <td>4</td>\n",
       "      <td>0</td>\n",
       "      <td>5.855472</td>\n",
       "      <td>915.44</td>\n",
       "      <td>0.099388</td>\n",
       "      <td>522435</td>\n",
       "      <td>1118266</td>\n",
       "      <td>908</td>\n",
       "      <td>12</td>\n",
       "      <td>0</td>\n",
       "      <td>4</td>\n",
       "      <td>0.004526</td>\n",
       "      <td>up</td>\n",
       "    </tr>\n",
       "    <tr>\n",
       "      <th>1</th>\n",
       "      <td>2016-11-09</td>\n",
       "      <td>3</td>\n",
       "      <td>1</td>\n",
       "      <td>0</td>\n",
       "      <td>5.599524</td>\n",
       "      <td>156.98</td>\n",
       "      <td>-0.156560</td>\n",
       "      <td>227982</td>\n",
       "      <td>700580</td>\n",
       "      <td>163</td>\n",
       "      <td>2</td>\n",
       "      <td>0</td>\n",
       "      <td>1</td>\n",
       "      <td>0.014872</td>\n",
       "      <td>up</td>\n",
       "    </tr>\n",
       "    <tr>\n",
       "      <th>2</th>\n",
       "      <td>2016-11-10</td>\n",
       "      <td>1</td>\n",
       "      <td>0</td>\n",
       "      <td>0</td>\n",
       "      <td>6.650000</td>\n",
       "      <td>39.90</td>\n",
       "      <td>0.893916</td>\n",
       "      <td>36535</td>\n",
       "      <td>142625</td>\n",
       "      <td>32</td>\n",
       "      <td>1</td>\n",
       "      <td>0</td>\n",
       "      <td>0</td>\n",
       "      <td>-0.000005</td>\n",
       "      <td>down</td>\n",
       "    </tr>\n",
       "    <tr>\n",
       "      <th>3</th>\n",
       "      <td>2016-11-11</td>\n",
       "      <td>5</td>\n",
       "      <td>0</td>\n",
       "      <td>0</td>\n",
       "      <td>5.826134</td>\n",
       "      <td>355.76</td>\n",
       "      <td>0.070050</td>\n",
       "      <td>193625</td>\n",
       "      <td>832596</td>\n",
       "      <td>351</td>\n",
       "      <td>4</td>\n",
       "      <td>0</td>\n",
       "      <td>1</td>\n",
       "      <td>0.000805</td>\n",
       "      <td>up</td>\n",
       "    </tr>\n",
       "    <tr>\n",
       "      <th>4</th>\n",
       "      <td>2016-11-15</td>\n",
       "      <td>2</td>\n",
       "      <td>0</td>\n",
       "      <td>0</td>\n",
       "      <td>5.873654</td>\n",
       "      <td>146.84</td>\n",
       "      <td>0.117570</td>\n",
       "      <td>69857</td>\n",
       "      <td>254719</td>\n",
       "      <td>144</td>\n",
       "      <td>2</td>\n",
       "      <td>0</td>\n",
       "      <td>0</td>\n",
       "      <td>0.005580</td>\n",
       "      <td>up</td>\n",
       "    </tr>\n",
       "  </tbody>\n",
       "</table>\n",
       "</div>"
      ],
      "text/plain": [
       "         date  tweets  isRetweet  isDeleted  avg_sentiment_score  \\\n",
       "0  2016-11-08      17          4          0             5.855472   \n",
       "1  2016-11-09       3          1          0             5.599524   \n",
       "2  2016-11-10       1          0          0             6.650000   \n",
       "3  2016-11-11       5          0          0             5.826134   \n",
       "4  2016-11-15       2          0          0             5.873654   \n",
       "\n",
       "   sum_sentiment_score  delta_avg  retweets  favorites  word_count  positive  \\\n",
       "0               915.44   0.099388    522435    1118266         908        12   \n",
       "1               156.98  -0.156560    227982     700580         163         2   \n",
       "2                39.90   0.893916     36535     142625          32         1   \n",
       "3               355.76   0.070050    193625     832596         351         4   \n",
       "4               146.84   0.117570     69857     254719         144         2   \n",
       "\n",
       "   negative  neutral  s&p_%change s&p_up/down  \n",
       "0         0        4     0.004526          up  \n",
       "1         0        1     0.014872          up  \n",
       "2         0        0    -0.000005        down  \n",
       "3         0        1     0.000805          up  \n",
       "4         0        0     0.005580          up  "
      ]
     },
     "execution_count": 15,
     "metadata": {},
     "output_type": "execute_result"
    }
   ],
   "source": [
    "df = pd.read_csv('../data/daily_summary.csv')\n",
    "df = df.dropna(axis=0, how='all')\n",
    "df = df.drop('index', axis=1)\n",
    "print(df.shape)\n",
    "df.head()"
   ]
  },
  {
   "cell_type": "markdown",
   "metadata": {},
   "source": [
    "## Select Your Features and Label (X and y values)"
   ]
  },
  {
   "cell_type": "code",
   "execution_count": 40,
   "metadata": {},
   "outputs": [
    {
     "name": "stdout",
     "output_type": "stream",
     "text": [
      "(991, 8)\n"
     ]
    },
    {
     "data": {
      "text/html": [
       "<div>\n",
       "<style scoped>\n",
       "    .dataframe tbody tr th:only-of-type {\n",
       "        vertical-align: middle;\n",
       "    }\n",
       "\n",
       "    .dataframe tbody tr th {\n",
       "        vertical-align: top;\n",
       "    }\n",
       "\n",
       "    .dataframe thead th {\n",
       "        text-align: right;\n",
       "    }\n",
       "</style>\n",
       "<table border=\"1\" class=\"dataframe\">\n",
       "  <thead>\n",
       "    <tr style=\"text-align: right;\">\n",
       "      <th></th>\n",
       "      <th>tweets</th>\n",
       "      <th>avg_sentiment_score</th>\n",
       "      <th>sum_sentiment_score</th>\n",
       "      <th>delta_avg</th>\n",
       "      <th>retweets</th>\n",
       "      <th>favorites</th>\n",
       "      <th>word_count</th>\n",
       "      <th>positive</th>\n",
       "    </tr>\n",
       "  </thead>\n",
       "  <tbody>\n",
       "    <tr>\n",
       "      <th>0</th>\n",
       "      <td>17</td>\n",
       "      <td>5.855472</td>\n",
       "      <td>915.44</td>\n",
       "      <td>0.099388</td>\n",
       "      <td>522435</td>\n",
       "      <td>1118266</td>\n",
       "      <td>908</td>\n",
       "      <td>12</td>\n",
       "    </tr>\n",
       "    <tr>\n",
       "      <th>1</th>\n",
       "      <td>3</td>\n",
       "      <td>5.599524</td>\n",
       "      <td>156.98</td>\n",
       "      <td>-0.156560</td>\n",
       "      <td>227982</td>\n",
       "      <td>700580</td>\n",
       "      <td>163</td>\n",
       "      <td>2</td>\n",
       "    </tr>\n",
       "    <tr>\n",
       "      <th>2</th>\n",
       "      <td>1</td>\n",
       "      <td>6.650000</td>\n",
       "      <td>39.90</td>\n",
       "      <td>0.893916</td>\n",
       "      <td>36535</td>\n",
       "      <td>142625</td>\n",
       "      <td>32</td>\n",
       "      <td>1</td>\n",
       "    </tr>\n",
       "    <tr>\n",
       "      <th>3</th>\n",
       "      <td>5</td>\n",
       "      <td>5.826134</td>\n",
       "      <td>355.76</td>\n",
       "      <td>0.070050</td>\n",
       "      <td>193625</td>\n",
       "      <td>832596</td>\n",
       "      <td>351</td>\n",
       "      <td>4</td>\n",
       "    </tr>\n",
       "    <tr>\n",
       "      <th>4</th>\n",
       "      <td>2</td>\n",
       "      <td>5.873654</td>\n",
       "      <td>146.84</td>\n",
       "      <td>0.117570</td>\n",
       "      <td>69857</td>\n",
       "      <td>254719</td>\n",
       "      <td>144</td>\n",
       "      <td>2</td>\n",
       "    </tr>\n",
       "  </tbody>\n",
       "</table>\n",
       "</div>"
      ],
      "text/plain": [
       "   tweets  avg_sentiment_score  sum_sentiment_score  delta_avg  retweets  \\\n",
       "0      17             5.855472               915.44   0.099388    522435   \n",
       "1       3             5.599524               156.98  -0.156560    227982   \n",
       "2       1             6.650000                39.90   0.893916     36535   \n",
       "3       5             5.826134               355.76   0.070050    193625   \n",
       "4       2             5.873654               146.84   0.117570     69857   \n",
       "\n",
       "   favorites  word_count  positive  \n",
       "0    1118266         908        12  \n",
       "1     700580         163         2  \n",
       "2     142625          32         1  \n",
       "3     832596         351         4  \n",
       "4     254719         144         2  "
      ]
     },
     "execution_count": 40,
     "metadata": {},
     "output_type": "execute_result"
    }
   ],
   "source": [
    "# Set features. This will also be used as your x values.\n",
    "# Select the features you would like to use - this is depended on the model you're going to use.\n",
    "# It might be benefitial to utilize a feature selection model.\n",
    "selected_features = df.drop(['date', 's&p_up/down', 's&p_%change', 'isRetweet', 'isDeleted', 'negative', 'neutral'], axis=1)\n",
    "print(selected_features.shape)\n",
    "selected_features.head()"
   ]
  },
  {
   "cell_type": "markdown",
   "metadata": {},
   "source": [
    "## Create Training And Test Split"
   ]
  },
  {
   "cell_type": "code",
   "execution_count": 41,
   "metadata": {},
   "outputs": [
    {
     "name": "stdout",
     "output_type": "stream",
     "text": [
      "(991,)\n"
     ]
    },
    {
     "data": {
      "text/plain": [
       "0      up\n",
       "1      up\n",
       "2    down\n",
       "3      up\n",
       "4      up\n",
       "Name: s&p_up/down, dtype: object"
      ]
     },
     "execution_count": 41,
     "metadata": {},
     "output_type": "execute_result"
    }
   ],
   "source": [
    "# Pull out the output labels column or y values\n",
    "labels = df['s&p_up/down']\n",
    "print(labels.shape)\n",
    "labels.head()"
   ]
  },
  {
   "cell_type": "code",
   "execution_count": 42,
   "metadata": {},
   "outputs": [],
   "source": [
    "# Use the train_test_split method to categorize your data into training and testing groups\n",
    "from sklearn.model_selection import train_test_split\n",
    "X_train, X_test, y_train, y_test = train_test_split(selected_features, labels, train_size=.7, random_state=3)"
   ]
  },
  {
   "cell_type": "code",
   "execution_count": 43,
   "metadata": {},
   "outputs": [
    {
     "name": "stdout",
     "output_type": "stream",
     "text": [
      "(693, 8)\n"
     ]
    },
    {
     "data": {
      "text/html": [
       "<div>\n",
       "<style scoped>\n",
       "    .dataframe tbody tr th:only-of-type {\n",
       "        vertical-align: middle;\n",
       "    }\n",
       "\n",
       "    .dataframe tbody tr th {\n",
       "        vertical-align: top;\n",
       "    }\n",
       "\n",
       "    .dataframe thead th {\n",
       "        text-align: right;\n",
       "    }\n",
       "</style>\n",
       "<table border=\"1\" class=\"dataframe\">\n",
       "  <thead>\n",
       "    <tr style=\"text-align: right;\">\n",
       "      <th></th>\n",
       "      <th>tweets</th>\n",
       "      <th>avg_sentiment_score</th>\n",
       "      <th>sum_sentiment_score</th>\n",
       "      <th>delta_avg</th>\n",
       "      <th>retweets</th>\n",
       "      <th>favorites</th>\n",
       "      <th>word_count</th>\n",
       "      <th>positive</th>\n",
       "    </tr>\n",
       "  </thead>\n",
       "  <tbody>\n",
       "    <tr>\n",
       "      <th>698</th>\n",
       "      <td>15</td>\n",
       "      <td>5.536479</td>\n",
       "      <td>1581.47</td>\n",
       "      <td>-0.219605</td>\n",
       "      <td>256903</td>\n",
       "      <td>1176890</td>\n",
       "      <td>1666</td>\n",
       "      <td>6</td>\n",
       "    </tr>\n",
       "    <tr>\n",
       "      <th>224</th>\n",
       "      <td>13</td>\n",
       "      <td>5.830371</td>\n",
       "      <td>814.64</td>\n",
       "      <td>0.074287</td>\n",
       "      <td>169611</td>\n",
       "      <td>651491</td>\n",
       "      <td>822</td>\n",
       "      <td>10</td>\n",
       "    </tr>\n",
       "    <tr>\n",
       "      <th>14</th>\n",
       "      <td>4</td>\n",
       "      <td>5.794237</td>\n",
       "      <td>255.50</td>\n",
       "      <td>0.038153</td>\n",
       "      <td>32086</td>\n",
       "      <td>184796</td>\n",
       "      <td>259</td>\n",
       "      <td>4</td>\n",
       "    </tr>\n",
       "    <tr>\n",
       "      <th>170</th>\n",
       "      <td>5</td>\n",
       "      <td>5.377086</td>\n",
       "      <td>316.28</td>\n",
       "      <td>-0.378998</td>\n",
       "      <td>79147</td>\n",
       "      <td>313053</td>\n",
       "      <td>342</td>\n",
       "      <td>2</td>\n",
       "    </tr>\n",
       "    <tr>\n",
       "      <th>358</th>\n",
       "      <td>9</td>\n",
       "      <td>5.605780</td>\n",
       "      <td>1015.79</td>\n",
       "      <td>-0.150304</td>\n",
       "      <td>199486</td>\n",
       "      <td>848005</td>\n",
       "      <td>1056</td>\n",
       "      <td>7</td>\n",
       "    </tr>\n",
       "  </tbody>\n",
       "</table>\n",
       "</div>"
      ],
      "text/plain": [
       "     tweets  avg_sentiment_score  sum_sentiment_score  delta_avg  retweets  \\\n",
       "698      15             5.536479              1581.47  -0.219605    256903   \n",
       "224      13             5.830371               814.64   0.074287    169611   \n",
       "14        4             5.794237               255.50   0.038153     32086   \n",
       "170       5             5.377086               316.28  -0.378998     79147   \n",
       "358       9             5.605780              1015.79  -0.150304    199486   \n",
       "\n",
       "     favorites  word_count  positive  \n",
       "698    1176890        1666         6  \n",
       "224     651491         822        10  \n",
       "14      184796         259         4  \n",
       "170     313053         342         2  \n",
       "358     848005        1056         7  "
      ]
     },
     "execution_count": 43,
     "metadata": {},
     "output_type": "execute_result"
    }
   ],
   "source": [
    "# Inspect training data\n",
    "print(X_train.shape)\n",
    "X_train.head()"
   ]
  },
  {
   "cell_type": "code",
   "execution_count": 44,
   "metadata": {},
   "outputs": [
    {
     "data": {
      "text/plain": [
       "(693,)"
      ]
     },
     "execution_count": 44,
     "metadata": {},
     "output_type": "execute_result"
    }
   ],
   "source": [
    "y_train.shape"
   ]
  },
  {
   "cell_type": "markdown",
   "metadata": {},
   "source": [
    "## Pre-Processing"
   ]
  },
  {
   "cell_type": "code",
   "execution_count": 45,
   "metadata": {},
   "outputs": [
    {
     "name": "stdout",
     "output_type": "stream",
     "text": [
      "[0.09210526 0.36572666 0.18552672 0.36572666 0.11816261 0.22600477\n",
      " 0.18644068 0.06741573]\n"
     ]
    },
    {
     "data": {
      "text/plain": [
       "[<matplotlib.lines.Line2D at 0x2339700b8b0>,\n",
       " <matplotlib.lines.Line2D at 0x2339700bfd0>,\n",
       " <matplotlib.lines.Line2D at 0x2339700bdf0>,\n",
       " <matplotlib.lines.Line2D at 0x2339700bc40>,\n",
       " <matplotlib.lines.Line2D at 0x2339700ba00>,\n",
       " <matplotlib.lines.Line2D at 0x2339700bd90>,\n",
       " <matplotlib.lines.Line2D at 0x2339700ba60>,\n",
       " <matplotlib.lines.Line2D at 0x2339700b580>]"
      ]
     },
     "execution_count": 45,
     "metadata": {},
     "output_type": "execute_result"
    },
    {
     "data": {
      "image/png": "[encoded data removed]",
      "text/plain": [
       "<Figure size 432x288 with 1 Axes>"
      ]
     },
     "metadata": {
      "needs_background": "light"
     },
     "output_type": "display_data"
    }
   ],
   "source": [
    "# Scale your data\n",
    "from sklearn.preprocessing import MinMaxScaler, LabelEncoder\n",
    "from tensorflow.keras.utils import to_categorical\n",
    "X_scaler = MinMaxScaler().fit(X_train)\n",
    "X_train_scaled = X_scaler.transform(X_train)\n",
    "X_test_scaled = X_scaler.transform(X_test)\n",
    "\n",
    "# inspect the scaled data to see how the feature values have been scaled\n",
    "print(X_train_scaled[0])\n",
    "\n",
    "# Plot the scaled data\n",
    "import matplotlib.pyplot as plt \n",
    "plt.plot(X_train_scaled)"
   ]
  },
  {
   "cell_type": "markdown",
   "metadata": {},
   "source": [
    "## Train The Model"
   ]
  },
  {
   "cell_type": "code",
   "execution_count": 60,
   "metadata": {},
   "outputs": [
    {
     "name": "stdout",
     "output_type": "stream",
     "text": [
      "Training Data Score: 0.5988455988455988\n",
      "Testing Data Score: 0.5234899328859061\n"
     ]
    }
   ],
   "source": [
    "# Random Forest Classifier model for training\n",
    "from sklearn.ensemble import RandomForestClassifier\n",
    "clf = RandomForestClassifier(n_estimators=100, bootstrap=True, max_depth=3, min_samples_split=8)\n",
    "clf = clf.fit(X_train_scaled, y_train)\n",
    "\n",
    "print(f\"Training Data Score: {clf.score(X_train_scaled, y_train)}\")\n",
    "print(f\"Testing Data Score: {clf.score(X_test_scaled, y_test)}\")"
   ]
  },
  {
   "cell_type": "code",
   "execution_count": 56,
   "metadata": {},
   "outputs": [
    {
     "name": "stdout",
     "output_type": "stream",
     "text": [
      "Training Data Score: 0.8686868686868687\n",
      "Testing Data Score: 0.540268456375839\n"
     ]
    }
   ],
   "source": [
    "# Random Forest Classifier model for training\n",
    "from sklearn.ensemble import RandomForestClassifier\n",
    "clf = RandomForestClassifier(n_estimators=10, bootstrap= True, max_depth= 10, min_samples_split= 8)\n",
    "clf = clf.fit(X_train_scaled, y_train)\n",
    "print(f\"Training Data Score: {clf.score(X_train_scaled, y_train)}\")\n",
    "print(f\"Testing Data Score: {clf.score(X_test_scaled, y_test)}\")"
   ]
  },
  {
   "cell_type": "markdown",
   "metadata": {},
   "source": [
    "## Hyperparameter Tuning\n",
    "\n",
    "Use `GridSearchCV` to tune the model's parameters"
   ]
  },
  {
   "cell_type": "code",
   "execution_count": 47,
   "metadata": {},
   "outputs": [
    {
     "data": {
      "text/plain": [
       "dict_keys(['bootstrap', 'ccp_alpha', 'class_weight', 'criterion', 'max_depth', 'max_features', 'max_leaf_nodes', 'max_samples', 'min_impurity_decrease', 'min_impurity_split', 'min_samples_leaf', 'min_samples_split', 'min_weight_fraction_leaf', 'n_estimators', 'n_jobs', 'oob_score', 'random_state', 'verbose', 'warm_start'])"
      ]
     },
     "execution_count": 47,
     "metadata": {},
     "output_type": "execute_result"
    }
   ],
   "source": [
    "# Create the GridSearchCV model\n",
    "# Create the GridSearch estimator along with a parameter object containing the values to adjust\n",
    "from sklearn.model_selection import GridSearchCV\n",
    "param_grid={'bootstrap': [True], 'n_estimators' : [10, 50, 100, 200],\n",
    "'min_samples_split' : range(8, 10, 20),'max_depth': [3, 10, 20, 40]}\n",
    "grid = GridSearchCV(clf, param_grid, verbose=3)\n",
    "\n",
    "# To get list of parameters you can tune\n",
    "clf.get_params().keys()\n",
    "# grid.fit(X_train_scaled, y_train)"
   ]
  },
  {
   "cell_type": "code",
   "execution_count": 48,
   "metadata": {},
   "outputs": [
    {
     "name": "stdout",
     "output_type": "stream",
     "text": [
      "Fitting 5 folds for each of 16 candidates, totalling 80 fits\n",
      "[CV] bootstrap=True, max_depth=3, min_samples_split=8, n_estimators=10 \n",
      "[CV]  bootstrap=True, max_depth=3, min_samples_split=8, n_estimators=10, score=0.554, total=   0.0s\n",
      "[CV] bootstrap=True, max_depth=3, min_samples_split=8, n_estimators=10 \n",
      "[CV]  bootstrap=True, max_depth=3, min_samples_split=8, n_estimators=10, score=0.532, total=   0.0s\n",
      "[CV] bootstrap=True, max_depth=3, min_samples_split=8, n_estimators=10 \n",
      "[CV]  bootstrap=True, max_depth=3, min_samples_split=8, n_estimators=10, score=0.532, total=   0.0s\n",
      "[CV] bootstrap=True, max_depth=3, min_samples_split=8, n_estimators=10 \n",
      "[CV]  bootstrap=True, max_depth=3, min_samples_split=8, n_estimators=10, score=0.507, total=   0.0s\n",
      "[CV] bootstrap=True, max_depth=3, min_samples_split=8, n_estimators=10 \n",
      "[CV]  bootstrap=True, max_depth=3, min_samples_split=8, n_estimators=10, score=0.558, total=   0.0s\n",
      "[CV] bootstrap=True, max_depth=3, min_samples_split=8, n_estimators=50 \n",
      "[CV]  bootstrap=True, max_depth=3, min_samples_split=8, n_estimators=50, score=0.576, total=   0.1s\n",
      "[CV] bootstrap=True, max_depth=3, min_samples_split=8, n_estimators=50 \n"
     ]
    },
    {
     "name": "stderr",
     "output_type": "stream",
     "text": [
      "[Parallel(n_jobs=1)]: Using backend SequentialBackend with 1 concurrent workers.\n",
      "[Parallel(n_jobs=1)]: Done   1 out of   1 | elapsed:    0.0s remaining:    0.0s\n",
      "[Parallel(n_jobs=1)]: Done   2 out of   2 | elapsed:    0.0s remaining:    0.0s\n"
     ]
    },
    {
     "name": "stdout",
     "output_type": "stream",
     "text": [
      "[CV]  bootstrap=True, max_depth=3, min_samples_split=8, n_estimators=50, score=0.540, total=   0.1s\n",
      "[CV] bootstrap=True, max_depth=3, min_samples_split=8, n_estimators=50 \n",
      "[CV]  bootstrap=True, max_depth=3, min_samples_split=8, n_estimators=50, score=0.576, total=   0.1s\n",
      "[CV] bootstrap=True, max_depth=3, min_samples_split=8, n_estimators=50 \n",
      "[CV]  bootstrap=True, max_depth=3, min_samples_split=8, n_estimators=50, score=0.558, total=   0.1s\n",
      "[CV] bootstrap=True, max_depth=3, min_samples_split=8, n_estimators=50 \n",
      "[CV]  bootstrap=True, max_depth=3, min_samples_split=8, n_estimators=50, score=0.558, total=   0.1s\n",
      "[CV] bootstrap=True, max_depth=3, min_samples_split=8, n_estimators=100 \n",
      "[CV]  bootstrap=True, max_depth=3, min_samples_split=8, n_estimators=100, score=0.568, total=   0.1s\n",
      "[CV] bootstrap=True, max_depth=3, min_samples_split=8, n_estimators=100 \n",
      "[CV]  bootstrap=True, max_depth=3, min_samples_split=8, n_estimators=100, score=0.518, total=   0.1s\n",
      "[CV] bootstrap=True, max_depth=3, min_samples_split=8, n_estimators=100 \n",
      "[CV]  bootstrap=True, max_depth=3, min_samples_split=8, n_estimators=100, score=0.547, total=   0.1s\n",
      "[CV] bootstrap=True, max_depth=3, min_samples_split=8, n_estimators=100 \n",
      "[CV]  bootstrap=True, max_depth=3, min_samples_split=8, n_estimators=100, score=0.551, total=   0.1s\n",
      "[CV] bootstrap=True, max_depth=3, min_samples_split=8, n_estimators=100 \n",
      "[CV]  bootstrap=True, max_depth=3, min_samples_split=8, n_estimators=100, score=0.551, total=   0.1s\n",
      "[CV] bootstrap=True, max_depth=3, min_samples_split=8, n_estimators=200 \n",
      "[CV]  bootstrap=True, max_depth=3, min_samples_split=8, n_estimators=200, score=0.561, total=   0.3s\n",
      "[CV] bootstrap=True, max_depth=3, min_samples_split=8, n_estimators=200 \n",
      "[CV]  bootstrap=True, max_depth=3, min_samples_split=8, n_estimators=200, score=0.554, total=   0.3s\n",
      "[CV] bootstrap=True, max_depth=3, min_samples_split=8, n_estimators=200 \n",
      "[CV]  bootstrap=True, max_depth=3, min_samples_split=8, n_estimators=200, score=0.554, total=   0.3s\n",
      "[CV] bootstrap=True, max_depth=3, min_samples_split=8, n_estimators=200 \n",
      "[CV]  bootstrap=True, max_depth=3, min_samples_split=8, n_estimators=200, score=0.558, total=   0.3s\n",
      "[CV] bootstrap=True, max_depth=3, min_samples_split=8, n_estimators=200 \n",
      "[CV]  bootstrap=True, max_depth=3, min_samples_split=8, n_estimators=200, score=0.493, total=   0.3s\n",
      "[CV] bootstrap=True, max_depth=10, min_samples_split=8, n_estimators=10 \n",
      "[CV]  bootstrap=True, max_depth=10, min_samples_split=8, n_estimators=10, score=0.504, total=   0.0s\n",
      "[CV] bootstrap=True, max_depth=10, min_samples_split=8, n_estimators=10 \n",
      "[CV]  bootstrap=True, max_depth=10, min_samples_split=8, n_estimators=10, score=0.489, total=   0.0s\n",
      "[CV] bootstrap=True, max_depth=10, min_samples_split=8, n_estimators=10 \n",
      "[CV]  bootstrap=True, max_depth=10, min_samples_split=8, n_estimators=10, score=0.518, total=   0.0s\n",
      "[CV] bootstrap=True, max_depth=10, min_samples_split=8, n_estimators=10 \n",
      "[CV]  bootstrap=True, max_depth=10, min_samples_split=8, n_estimators=10, score=0.543, total=   0.0s\n",
      "[CV] bootstrap=True, max_depth=10, min_samples_split=8, n_estimators=10 \n",
      "[CV]  bootstrap=True, max_depth=10, min_samples_split=8, n_estimators=10, score=0.507, total=   0.0s\n",
      "[CV] bootstrap=True, max_depth=10, min_samples_split=8, n_estimators=50 \n",
      "[CV]  bootstrap=True, max_depth=10, min_samples_split=8, n_estimators=50, score=0.504, total=   0.1s\n",
      "[CV] bootstrap=True, max_depth=10, min_samples_split=8, n_estimators=50 \n",
      "[CV]  bootstrap=True, max_depth=10, min_samples_split=8, n_estimators=50, score=0.518, total=   0.1s\n",
      "[CV] bootstrap=True, max_depth=10, min_samples_split=8, n_estimators=50 \n",
      "[CV]  bootstrap=True, max_depth=10, min_samples_split=8, n_estimators=50, score=0.540, total=   0.1s\n",
      "[CV] bootstrap=True, max_depth=10, min_samples_split=8, n_estimators=50 \n",
      "[CV]  bootstrap=True, max_depth=10, min_samples_split=8, n_estimators=50, score=0.522, total=   0.1s\n",
      "[CV] bootstrap=True, max_depth=10, min_samples_split=8, n_estimators=50 \n",
      "[CV]  bootstrap=True, max_depth=10, min_samples_split=8, n_estimators=50, score=0.478, total=   0.1s\n",
      "[CV] bootstrap=True, max_depth=10, min_samples_split=8, n_estimators=100 \n",
      "[CV]  bootstrap=True, max_depth=10, min_samples_split=8, n_estimators=100, score=0.489, total=   0.2s\n",
      "[CV] bootstrap=True, max_depth=10, min_samples_split=8, n_estimators=100 \n",
      "[CV]  bootstrap=True, max_depth=10, min_samples_split=8, n_estimators=100, score=0.504, total=   0.2s\n",
      "[CV] bootstrap=True, max_depth=10, min_samples_split=8, n_estimators=100 \n",
      "[CV]  bootstrap=True, max_depth=10, min_samples_split=8, n_estimators=100, score=0.547, total=   0.2s\n",
      "[CV] bootstrap=True, max_depth=10, min_samples_split=8, n_estimators=100 \n",
      "[CV]  bootstrap=True, max_depth=10, min_samples_split=8, n_estimators=100, score=0.529, total=   0.2s\n",
      "[CV] bootstrap=True, max_depth=10, min_samples_split=8, n_estimators=100 \n",
      "[CV]  bootstrap=True, max_depth=10, min_samples_split=8, n_estimators=100, score=0.507, total=   0.2s\n",
      "[CV] bootstrap=True, max_depth=10, min_samples_split=8, n_estimators=200 \n",
      "[CV]  bootstrap=True, max_depth=10, min_samples_split=8, n_estimators=200, score=0.540, total=   0.3s\n",
      "[CV] bootstrap=True, max_depth=10, min_samples_split=8, n_estimators=200 \n",
      "[CV]  bootstrap=True, max_depth=10, min_samples_split=8, n_estimators=200, score=0.568, total=   0.3s\n",
      "[CV] bootstrap=True, max_depth=10, min_samples_split=8, n_estimators=200 \n",
      "[CV]  bootstrap=True, max_depth=10, min_samples_split=8, n_estimators=200, score=0.576, total=   0.3s\n",
      "[CV] bootstrap=True, max_depth=10, min_samples_split=8, n_estimators=200 \n",
      "[CV]  bootstrap=True, max_depth=10, min_samples_split=8, n_estimators=200, score=0.514, total=   0.3s\n",
      "[CV] bootstrap=True, max_depth=10, min_samples_split=8, n_estimators=200 \n",
      "[CV]  bootstrap=True, max_depth=10, min_samples_split=8, n_estimators=200, score=0.493, total=   0.3s\n",
      "[CV] bootstrap=True, max_depth=20, min_samples_split=8, n_estimators=10 \n",
      "[CV]  bootstrap=True, max_depth=20, min_samples_split=8, n_estimators=10, score=0.496, total=   0.0s\n",
      "[CV] bootstrap=True, max_depth=20, min_samples_split=8, n_estimators=10 \n",
      "[CV]  bootstrap=True, max_depth=20, min_samples_split=8, n_estimators=10, score=0.547, total=   0.0s\n",
      "[CV] bootstrap=True, max_depth=20, min_samples_split=8, n_estimators=10 \n",
      "[CV]  bootstrap=True, max_depth=20, min_samples_split=8, n_estimators=10, score=0.583, total=   0.0s\n",
      "[CV] bootstrap=True, max_depth=20, min_samples_split=8, n_estimators=10 \n",
      "[CV]  bootstrap=True, max_depth=20, min_samples_split=8, n_estimators=10, score=0.558, total=   0.0s\n",
      "[CV] bootstrap=True, max_depth=20, min_samples_split=8, n_estimators=10 \n",
      "[CV]  bootstrap=True, max_depth=20, min_samples_split=8, n_estimators=10, score=0.558, total=   0.0s\n",
      "[CV] bootstrap=True, max_depth=20, min_samples_split=8, n_estimators=50 \n",
      "[CV]  bootstrap=True, max_depth=20, min_samples_split=8, n_estimators=50, score=0.532, total=   0.1s\n",
      "[CV] bootstrap=True, max_depth=20, min_samples_split=8, n_estimators=50 \n",
      "[CV]  bootstrap=True, max_depth=20, min_samples_split=8, n_estimators=50, score=0.532, total=   0.1s\n",
      "[CV] bootstrap=True, max_depth=20, min_samples_split=8, n_estimators=50 \n",
      "[CV]  bootstrap=True, max_depth=20, min_samples_split=8, n_estimators=50, score=0.561, total=   0.1s\n",
      "[CV] bootstrap=True, max_depth=20, min_samples_split=8, n_estimators=50 \n",
      "[CV]  bootstrap=True, max_depth=20, min_samples_split=8, n_estimators=50, score=0.500, total=   0.1s\n",
      "[CV] bootstrap=True, max_depth=20, min_samples_split=8, n_estimators=50 \n",
      "[CV]  bootstrap=True, max_depth=20, min_samples_split=8, n_estimators=50, score=0.449, total=   0.1s\n",
      "[CV] bootstrap=True, max_depth=20, min_samples_split=8, n_estimators=100 \n",
      "[CV]  bootstrap=True, max_depth=20, min_samples_split=8, n_estimators=100, score=0.554, total=   0.2s\n",
      "[CV] bootstrap=True, max_depth=20, min_samples_split=8, n_estimators=100 \n",
      "[CV]  bootstrap=True, max_depth=20, min_samples_split=8, n_estimators=100, score=0.547, total=   0.2s\n",
      "[CV] bootstrap=True, max_depth=20, min_samples_split=8, n_estimators=100 \n",
      "[CV]  bootstrap=True, max_depth=20, min_samples_split=8, n_estimators=100, score=0.547, total=   0.2s\n",
      "[CV] bootstrap=True, max_depth=20, min_samples_split=8, n_estimators=100 \n"
     ]
    },
    {
     "name": "stdout",
     "output_type": "stream",
     "text": [
      "[CV]  bootstrap=True, max_depth=20, min_samples_split=8, n_estimators=100, score=0.543, total=   0.2s\n",
      "[CV] bootstrap=True, max_depth=20, min_samples_split=8, n_estimators=100 \n",
      "[CV]  bootstrap=True, max_depth=20, min_samples_split=8, n_estimators=100, score=0.486, total=   0.2s\n",
      "[CV] bootstrap=True, max_depth=20, min_samples_split=8, n_estimators=200 \n",
      "[CV]  bootstrap=True, max_depth=20, min_samples_split=8, n_estimators=200, score=0.525, total=   0.3s\n",
      "[CV] bootstrap=True, max_depth=20, min_samples_split=8, n_estimators=200 \n",
      "[CV]  bootstrap=True, max_depth=20, min_samples_split=8, n_estimators=200, score=0.525, total=   0.3s\n",
      "[CV] bootstrap=True, max_depth=20, min_samples_split=8, n_estimators=200 \n",
      "[CV]  bootstrap=True, max_depth=20, min_samples_split=8, n_estimators=200, score=0.576, total=   0.4s\n",
      "[CV] bootstrap=True, max_depth=20, min_samples_split=8, n_estimators=200 \n",
      "[CV]  bootstrap=True, max_depth=20, min_samples_split=8, n_estimators=200, score=0.543, total=   0.3s\n",
      "[CV] bootstrap=True, max_depth=20, min_samples_split=8, n_estimators=200 \n",
      "[CV]  bootstrap=True, max_depth=20, min_samples_split=8, n_estimators=200, score=0.522, total=   0.3s\n",
      "[CV] bootstrap=True, max_depth=40, min_samples_split=8, n_estimators=10 \n",
      "[CV]  bootstrap=True, max_depth=40, min_samples_split=8, n_estimators=10, score=0.439, total=   0.0s\n",
      "[CV] bootstrap=True, max_depth=40, min_samples_split=8, n_estimators=10 \n",
      "[CV]  bootstrap=True, max_depth=40, min_samples_split=8, n_estimators=10, score=0.554, total=   0.0s\n",
      "[CV] bootstrap=True, max_depth=40, min_samples_split=8, n_estimators=10 \n",
      "[CV]  bootstrap=True, max_depth=40, min_samples_split=8, n_estimators=10, score=0.482, total=   0.0s\n",
      "[CV] bootstrap=True, max_depth=40, min_samples_split=8, n_estimators=10 \n",
      "[CV]  bootstrap=True, max_depth=40, min_samples_split=8, n_estimators=10, score=0.587, total=   0.0s\n",
      "[CV] bootstrap=True, max_depth=40, min_samples_split=8, n_estimators=10 \n",
      "[CV]  bootstrap=True, max_depth=40, min_samples_split=8, n_estimators=10, score=0.486, total=   0.0s\n",
      "[CV] bootstrap=True, max_depth=40, min_samples_split=8, n_estimators=50 \n",
      "[CV]  bootstrap=True, max_depth=40, min_samples_split=8, n_estimators=50, score=0.561, total=   0.1s\n",
      "[CV] bootstrap=True, max_depth=40, min_samples_split=8, n_estimators=50 \n",
      "[CV]  bootstrap=True, max_depth=40, min_samples_split=8, n_estimators=50, score=0.583, total=   0.1s\n",
      "[CV] bootstrap=True, max_depth=40, min_samples_split=8, n_estimators=50 \n",
      "[CV]  bootstrap=True, max_depth=40, min_samples_split=8, n_estimators=50, score=0.554, total=   0.1s\n",
      "[CV] bootstrap=True, max_depth=40, min_samples_split=8, n_estimators=50 \n",
      "[CV]  bootstrap=True, max_depth=40, min_samples_split=8, n_estimators=50, score=0.514, total=   0.1s\n",
      "[CV] bootstrap=True, max_depth=40, min_samples_split=8, n_estimators=50 \n",
      "[CV]  bootstrap=True, max_depth=40, min_samples_split=8, n_estimators=50, score=0.471, total=   0.1s\n",
      "[CV] bootstrap=True, max_depth=40, min_samples_split=8, n_estimators=100 \n",
      "[CV]  bootstrap=True, max_depth=40, min_samples_split=8, n_estimators=100, score=0.518, total=   0.2s\n",
      "[CV] bootstrap=True, max_depth=40, min_samples_split=8, n_estimators=100 \n",
      "[CV]  bootstrap=True, max_depth=40, min_samples_split=8, n_estimators=100, score=0.511, total=   0.2s\n",
      "[CV] bootstrap=True, max_depth=40, min_samples_split=8, n_estimators=100 \n",
      "[CV]  bootstrap=True, max_depth=40, min_samples_split=8, n_estimators=100, score=0.547, total=   0.2s\n",
      "[CV] bootstrap=True, max_depth=40, min_samples_split=8, n_estimators=100 \n",
      "[CV]  bootstrap=True, max_depth=40, min_samples_split=8, n_estimators=100, score=0.522, total=   0.2s\n",
      "[CV] bootstrap=True, max_depth=40, min_samples_split=8, n_estimators=100 \n",
      "[CV]  bootstrap=True, max_depth=40, min_samples_split=8, n_estimators=100, score=0.486, total=   0.2s\n",
      "[CV] bootstrap=True, max_depth=40, min_samples_split=8, n_estimators=200 \n",
      "[CV]  bootstrap=True, max_depth=40, min_samples_split=8, n_estimators=200, score=0.576, total=   0.4s\n",
      "[CV] bootstrap=True, max_depth=40, min_samples_split=8, n_estimators=200 \n",
      "[CV]  bootstrap=True, max_depth=40, min_samples_split=8, n_estimators=200, score=0.504, total=   0.3s\n",
      "[CV] bootstrap=True, max_depth=40, min_samples_split=8, n_estimators=200 \n",
      "[CV]  bootstrap=True, max_depth=40, min_samples_split=8, n_estimators=200, score=0.554, total=   0.3s\n",
      "[CV] bootstrap=True, max_depth=40, min_samples_split=8, n_estimators=200 \n",
      "[CV]  bootstrap=True, max_depth=40, min_samples_split=8, n_estimators=200, score=0.529, total=   0.3s\n",
      "[CV] bootstrap=True, max_depth=40, min_samples_split=8, n_estimators=200 \n",
      "[CV]  bootstrap=True, max_depth=40, min_samples_split=8, n_estimators=200, score=0.478, total=   0.3s\n"
     ]
    },
    {
     "name": "stderr",
     "output_type": "stream",
     "text": [
      "[Parallel(n_jobs=1)]: Done  80 out of  80 | elapsed:   11.3s finished\n"
     ]
    },
    {
     "data": {
      "text/plain": [
       "GridSearchCV(estimator=RandomForestClassifier(max_depth=10, min_samples_split=8,\n",
       "                                              n_estimators=10),\n",
       "             param_grid={'bootstrap': [True], 'max_depth': [3, 10, 20, 40],\n",
       "                         'min_samples_split': range(8, 10, 20),\n",
       "                         'n_estimators': [10, 50, 100, 200]},\n",
       "             verbose=3)"
      ]
     },
     "execution_count": 48,
     "metadata": {},
     "output_type": "execute_result"
    }
   ],
   "source": [
    "grid.fit(X_train_scaled, y_train)"
   ]
  },
  {
   "cell_type": "code",
   "execution_count": 39,
   "metadata": {},
   "outputs": [
    {
     "name": "stdout",
     "output_type": "stream",
     "text": [
      "{'bootstrap': True, 'max_depth': 3, 'min_samples_split': 8, 'n_estimators': 100}\n",
      "0.5685329996872067\n"
     ]
    }
   ],
   "source": [
    "print(grid.best_params_)\n",
    "print(grid.best_score_)"
   ]
  },
  {
   "cell_type": "markdown",
   "metadata": {},
   "source": [
    "## Original Model - No Tuning Or Feature Selection\n",
    "Training Data Score: 0.8614718614718615\n",
    "\n",
    "Testing Data Score: 0.5234899328859061"
   ]
  },
  {
   "cell_type": "markdown",
   "metadata": {},
   "source": [
    "## Hypertuned and Feature Selection Score\n",
    "\n",
    "Training Data Score: 0.5858585858585859\n",
    "\n",
    "Testing Data Score: 0.5268456375838926"
   ]
  },
  {
   "cell_type": "markdown",
   "metadata": {},
   "source": [
    "## Save The Model"
   ]
  },
  {
   "cell_type": "code",
   "execution_count": null,
   "metadata": {},
   "outputs": [],
   "source": [
    "# import joblib\n",
    "# filename = 'model_2_randomforest_extratreeclassifer.h5'\n",
    "# joblib.dump(clf, filename)"
   ]
  }
 ],
 "metadata": {
  "kernelspec": {
   "display_name": "Python 3",
   "language": "python",
   "name": "python3"
  },
  "language_info": {
   "codemirror_mode": {
    "name": "ipython",
    "version": 3
   },
   "file_extension": ".py",
   "mimetype": "text/x-python",
   "name": "python",
   "nbconvert_exporter": "python",
   "pygments_lexer": "ipython3",
   "version": "3.8.3"
  }
 },
 "nbformat": 4,
 "nbformat_minor": 4
}
