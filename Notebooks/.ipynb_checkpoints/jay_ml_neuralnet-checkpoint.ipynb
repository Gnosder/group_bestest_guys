{
 "cells": [
  {
   "cell_type": "code",
   "execution_count": 3,
   "metadata": {},
   "outputs": [
    {
     "name": "stdout",
     "output_type": "stream",
     "text": [
      "Requirement already up-to-date: sklearn in c:\\users\\jaysu\\anaconda3\\lib\\site-packages (0.0)\n",
      "Requirement already satisfied, skipping upgrade: scikit-learn in c:\\users\\jaysu\\anaconda3\\lib\\site-packages (from sklearn) (0.23.1)\n",
      "Requirement already satisfied, skipping upgrade: numpy>=1.13.3 in c:\\users\\jaysu\\anaconda3\\lib\\site-packages (from scikit-learn->sklearn) (1.18.5)\n",
      "Requirement already satisfied, skipping upgrade: threadpoolctl>=2.0.0 in c:\\users\\jaysu\\anaconda3\\lib\\site-packages (from scikit-learn->sklearn) (2.1.0)\n",
      "Requirement already satisfied, skipping upgrade: joblib>=0.11 in c:\\users\\jaysu\\anaconda3\\lib\\site-packages (from scikit-learn->sklearn) (0.16.0)\n",
      "Requirement already satisfied, skipping upgrade: scipy>=0.19.1 in c:\\users\\jaysu\\anaconda3\\lib\\site-packages (from scikit-learn->sklearn) (1.5.0)\n"
     ]
    }
   ],
   "source": [
    "# Update sklearn to prevent version mismatches\n",
    "# !pip install sklearn --upgrade"
   ]
  },
  {
   "cell_type": "code",
   "execution_count": 4,
   "metadata": {},
   "outputs": [
    {
     "name": "stdout",
     "output_type": "stream",
     "text": [
      "Requirement already satisfied: joblib in c:\\users\\jaysu\\anaconda3\\lib\\site-packages (0.16.0)\n"
     ]
    }
   ],
   "source": [
    "# install joblib. This will be used to save your model. \n",
    "# Restart your kernel after installing \n",
    "# !pip install joblib"
   ]
  },
  {
   "cell_type": "code",
   "execution_count": 2,
   "metadata": {},
   "outputs": [],
   "source": [
    "import pandas as pd\n",
    "import numpy as np\n",
    "import os"
   ]
  },
  {
   "cell_type": "code",
   "execution_count": 3,
   "metadata": {},
   "outputs": [],
   "source": [
    "df = pd.read_csv(\"../data/daily_summary.csv\")\n",
    "# Drop the null columns where all values are null\n",
    "df = df.dropna(axis='columns', how='all')\n",
    "df = df.drop(['index', 'date', 's&p_%change'], axis=1)\n",
    "# Drop the null rows\n",
    "df = df.dropna()"
   ]
  },
  {
   "cell_type": "markdown",
   "metadata": {},
   "source": [
    "\n",
    "# Feature Selection\n",
    "### We will use all the features except for the 'NA' columns"
   ]
  },
  {
   "cell_type": "code",
   "execution_count": 4,
   "metadata": {},
   "outputs": [
    {
     "data": {
      "text/html": [
       "<div>\n",
       "<style scoped>\n",
       "    .dataframe tbody tr th:only-of-type {\n",
       "        vertical-align: middle;\n",
       "    }\n",
       "\n",
       "    .dataframe tbody tr th {\n",
       "        vertical-align: top;\n",
       "    }\n",
       "\n",
       "    .dataframe thead th {\n",
       "        text-align: right;\n",
       "    }\n",
       "</style>\n",
       "<table border=\"1\" class=\"dataframe\">\n",
       "  <thead>\n",
       "    <tr style=\"text-align: right;\">\n",
       "      <th></th>\n",
       "      <th>tweets</th>\n",
       "      <th>isRetweet</th>\n",
       "      <th>isDeleted</th>\n",
       "      <th>avg_sentiment_score</th>\n",
       "      <th>sum_sentiment_score</th>\n",
       "      <th>delta_avg</th>\n",
       "      <th>retweets</th>\n",
       "      <th>favorites</th>\n",
       "      <th>word_count</th>\n",
       "      <th>positive</th>\n",
       "      <th>negative</th>\n",
       "      <th>neutral</th>\n",
       "    </tr>\n",
       "  </thead>\n",
       "  <tbody>\n",
       "    <tr>\n",
       "      <th>0</th>\n",
       "      <td>17</td>\n",
       "      <td>4</td>\n",
       "      <td>0</td>\n",
       "      <td>5.855472</td>\n",
       "      <td>915.44</td>\n",
       "      <td>0.099388</td>\n",
       "      <td>522435</td>\n",
       "      <td>1118266</td>\n",
       "      <td>908</td>\n",
       "      <td>12</td>\n",
       "      <td>0</td>\n",
       "      <td>4</td>\n",
       "    </tr>\n",
       "    <tr>\n",
       "      <th>1</th>\n",
       "      <td>3</td>\n",
       "      <td>1</td>\n",
       "      <td>0</td>\n",
       "      <td>5.599524</td>\n",
       "      <td>156.98</td>\n",
       "      <td>-0.156560</td>\n",
       "      <td>227982</td>\n",
       "      <td>700580</td>\n",
       "      <td>163</td>\n",
       "      <td>2</td>\n",
       "      <td>0</td>\n",
       "      <td>1</td>\n",
       "    </tr>\n",
       "    <tr>\n",
       "      <th>2</th>\n",
       "      <td>1</td>\n",
       "      <td>0</td>\n",
       "      <td>0</td>\n",
       "      <td>6.650000</td>\n",
       "      <td>39.90</td>\n",
       "      <td>0.893916</td>\n",
       "      <td>36535</td>\n",
       "      <td>142625</td>\n",
       "      <td>32</td>\n",
       "      <td>1</td>\n",
       "      <td>0</td>\n",
       "      <td>0</td>\n",
       "    </tr>\n",
       "    <tr>\n",
       "      <th>3</th>\n",
       "      <td>5</td>\n",
       "      <td>0</td>\n",
       "      <td>0</td>\n",
       "      <td>5.826134</td>\n",
       "      <td>355.76</td>\n",
       "      <td>0.070050</td>\n",
       "      <td>193625</td>\n",
       "      <td>832596</td>\n",
       "      <td>351</td>\n",
       "      <td>4</td>\n",
       "      <td>0</td>\n",
       "      <td>1</td>\n",
       "    </tr>\n",
       "    <tr>\n",
       "      <th>4</th>\n",
       "      <td>2</td>\n",
       "      <td>0</td>\n",
       "      <td>0</td>\n",
       "      <td>5.873654</td>\n",
       "      <td>146.84</td>\n",
       "      <td>0.117570</td>\n",
       "      <td>69857</td>\n",
       "      <td>254719</td>\n",
       "      <td>144</td>\n",
       "      <td>2</td>\n",
       "      <td>0</td>\n",
       "      <td>0</td>\n",
       "    </tr>\n",
       "  </tbody>\n",
       "</table>\n",
       "</div>"
      ],
      "text/plain": [
       "   tweets  isRetweet  isDeleted  avg_sentiment_score  sum_sentiment_score  \\\n",
       "0      17          4          0             5.855472               915.44   \n",
       "1       3          1          0             5.599524               156.98   \n",
       "2       1          0          0             6.650000                39.90   \n",
       "3       5          0          0             5.826134               355.76   \n",
       "4       2          0          0             5.873654               146.84   \n",
       "\n",
       "   delta_avg  retweets  favorites  word_count  positive  negative  neutral  \n",
       "0   0.099388    522435    1118266         908        12         0        4  \n",
       "1  -0.156560    227982     700580         163         2         0        1  \n",
       "2   0.893916     36535     142625          32         1         0        0  \n",
       "3   0.070050    193625     832596         351         4         0        1  \n",
       "4   0.117570     69857     254719         144         2         0        0  "
      ]
     },
     "execution_count": 4,
     "metadata": {},
     "output_type": "execute_result"
    }
   ],
   "source": [
    "# Set features. This will also be used as your x values.\n",
    "selected_features = df.drop(['s&p_up/down'], axis=1)\n",
    "selected_features.head()"
   ]
  },
  {
   "cell_type": "markdown",
   "metadata": {},
   "source": [
    "# Create a Train Test Split\n",
    "\n",
    "Use `koi_disposition` for the y values"
   ]
  },
  {
   "cell_type": "code",
   "execution_count": 5,
   "metadata": {},
   "outputs": [
    {
     "name": "stdout",
     "output_type": "stream",
     "text": [
      "(991,)\n"
     ]
    },
    {
     "data": {
      "text/plain": [
       "0      up\n",
       "1      up\n",
       "2    down\n",
       "3      up\n",
       "4      up\n",
       "Name: s&p_up/down, dtype: object"
      ]
     },
     "execution_count": 5,
     "metadata": {},
     "output_type": "execute_result"
    }
   ],
   "source": [
    "# pull out the output labels column or y values\n",
    "labels = df['s&p_up/down']\n",
    "print(labels.shape)\n",
    "labels.head()"
   ]
  },
  {
   "cell_type": "code",
   "execution_count": 6,
   "metadata": {},
   "outputs": [],
   "source": [
    "# Split the data in training and test groups\n",
    "from sklearn.model_selection import train_test_split\n",
    "X_train, X_test, y_train, y_test = train_test_split(selected_features, labels, train_size=.8, random_state=3 )"
   ]
  },
  {
   "cell_type": "code",
   "execution_count": 7,
   "metadata": {},
   "outputs": [
    {
     "name": "stdout",
     "output_type": "stream",
     "text": [
      "(792, 12)\n"
     ]
    },
    {
     "data": {
      "text/html": [
       "<div>\n",
       "<style scoped>\n",
       "    .dataframe tbody tr th:only-of-type {\n",
       "        vertical-align: middle;\n",
       "    }\n",
       "\n",
       "    .dataframe tbody tr th {\n",
       "        vertical-align: top;\n",
       "    }\n",
       "\n",
       "    .dataframe thead th {\n",
       "        text-align: right;\n",
       "    }\n",
       "</style>\n",
       "<table border=\"1\" class=\"dataframe\">\n",
       "  <thead>\n",
       "    <tr style=\"text-align: right;\">\n",
       "      <th></th>\n",
       "      <th>tweets</th>\n",
       "      <th>isRetweet</th>\n",
       "      <th>isDeleted</th>\n",
       "      <th>avg_sentiment_score</th>\n",
       "      <th>sum_sentiment_score</th>\n",
       "      <th>delta_avg</th>\n",
       "      <th>retweets</th>\n",
       "      <th>favorites</th>\n",
       "      <th>word_count</th>\n",
       "      <th>positive</th>\n",
       "      <th>negative</th>\n",
       "      <th>neutral</th>\n",
       "    </tr>\n",
       "  </thead>\n",
       "  <tbody>\n",
       "    <tr>\n",
       "      <th>78</th>\n",
       "      <td>8</td>\n",
       "      <td>0</td>\n",
       "      <td>0</td>\n",
       "      <td>5.591898</td>\n",
       "      <td>508.96</td>\n",
       "      <td>-0.164186</td>\n",
       "      <td>126516</td>\n",
       "      <td>649797</td>\n",
       "      <td>529</td>\n",
       "      <td>5</td>\n",
       "      <td>1</td>\n",
       "      <td>2</td>\n",
       "    </tr>\n",
       "    <tr>\n",
       "      <th>109</th>\n",
       "      <td>4</td>\n",
       "      <td>0</td>\n",
       "      <td>0</td>\n",
       "      <td>5.858109</td>\n",
       "      <td>291.94</td>\n",
       "      <td>0.102025</td>\n",
       "      <td>37824</td>\n",
       "      <td>185193</td>\n",
       "      <td>294</td>\n",
       "      <td>3</td>\n",
       "      <td>1</td>\n",
       "      <td>0</td>\n",
       "    </tr>\n",
       "    <tr>\n",
       "      <th>266</th>\n",
       "      <td>4</td>\n",
       "      <td>0</td>\n",
       "      <td>0</td>\n",
       "      <td>5.402532</td>\n",
       "      <td>460.82</td>\n",
       "      <td>-0.353552</td>\n",
       "      <td>64421</td>\n",
       "      <td>299841</td>\n",
       "      <td>500</td>\n",
       "      <td>2</td>\n",
       "      <td>0</td>\n",
       "      <td>2</td>\n",
       "    </tr>\n",
       "    <tr>\n",
       "      <th>143</th>\n",
       "      <td>7</td>\n",
       "      <td>1</td>\n",
       "      <td>0</td>\n",
       "      <td>5.793910</td>\n",
       "      <td>420.04</td>\n",
       "      <td>0.037826</td>\n",
       "      <td>105400</td>\n",
       "      <td>423634</td>\n",
       "      <td>430</td>\n",
       "      <td>5</td>\n",
       "      <td>1</td>\n",
       "      <td>1</td>\n",
       "    </tr>\n",
       "    <tr>\n",
       "      <th>763</th>\n",
       "      <td>3</td>\n",
       "      <td>1</td>\n",
       "      <td>0</td>\n",
       "      <td>5.845970</td>\n",
       "      <td>138.25</td>\n",
       "      <td>0.089886</td>\n",
       "      <td>81531</td>\n",
       "      <td>362078</td>\n",
       "      <td>142</td>\n",
       "      <td>2</td>\n",
       "      <td>0</td>\n",
       "      <td>1</td>\n",
       "    </tr>\n",
       "  </tbody>\n",
       "</table>\n",
       "</div>"
      ],
      "text/plain": [
       "     tweets  isRetweet  isDeleted  avg_sentiment_score  sum_sentiment_score  \\\n",
       "78        8          0          0             5.591898               508.96   \n",
       "109       4          0          0             5.858109               291.94   \n",
       "266       4          0          0             5.402532               460.82   \n",
       "143       7          1          0             5.793910               420.04   \n",
       "763       3          1          0             5.845970               138.25   \n",
       "\n",
       "     delta_avg  retweets  favorites  word_count  positive  negative  neutral  \n",
       "78   -0.164186    126516     649797         529         5         1        2  \n",
       "109   0.102025     37824     185193         294         3         1        0  \n",
       "266  -0.353552     64421     299841         500         2         0        2  \n",
       "143   0.037826    105400     423634         430         5         1        1  \n",
       "763   0.089886     81531     362078         142         2         0        1  "
      ]
     },
     "execution_count": 7,
     "metadata": {},
     "output_type": "execute_result"
    }
   ],
   "source": [
    "# Inspect training data\n",
    "print(X_train.shape)\n",
    "X_train.head()"
   ]
  },
  {
   "cell_type": "markdown",
   "metadata": {},
   "source": [
    "# Pre-processing\n",
    "\n",
    "Scale the data using the MinMaxScaler and perform some feature selection"
   ]
  },
  {
   "cell_type": "code",
   "execution_count": 8,
   "metadata": {},
   "outputs": [
    {
     "name": "stdout",
     "output_type": "stream",
     "text": [
      "[0.04605263 0.         0.         0.39660046 0.05892623 0.39660046\n",
      " 0.04725192 0.11538574 0.0579661  0.05617978 0.04166667 0.03389831]\n"
     ]
    },
    {
     "data": {
      "text/plain": [
       "[<matplotlib.lines.Line2D at 0x268ccca2a30>,\n",
       " <matplotlib.lines.Line2D at 0x268ccca2a60>,\n",
       " <matplotlib.lines.Line2D at 0x268ccca2be0>,\n",
       " <matplotlib.lines.Line2D at 0x268ccca2ca0>,\n",
       " <matplotlib.lines.Line2D at 0x268ccca2d60>,\n",
       " <matplotlib.lines.Line2D at 0x268ccca2e20>,\n",
       " <matplotlib.lines.Line2D at 0x268ccca2ee0>,\n",
       " <matplotlib.lines.Line2D at 0x268ccca2fa0>,\n",
       " <matplotlib.lines.Line2D at 0x268cccb40a0>,\n",
       " <matplotlib.lines.Line2D at 0x268cccb4160>,\n",
       " <matplotlib.lines.Line2D at 0x268cc5dfc70>,\n",
       " <matplotlib.lines.Line2D at 0x268cccb4280>]"
      ]
     },
     "execution_count": 8,
     "metadata": {},
     "output_type": "execute_result"
    },
    {
     "data": {
      "image/png": "[encoded data removed]",
      "text/plain": [
       "<Figure size 432x288 with 1 Axes>"
      ]
     },
     "metadata": {
      "needs_background": "light"
     },
     "output_type": "display_data"
    }
   ],
   "source": [
    "# Scale your data\n",
    "from sklearn.preprocessing import MinMaxScaler, LabelEncoder\n",
    "from tensorflow.keras.utils import to_categorical\n",
    "X_scaler = MinMaxScaler().fit(X_train)\n",
    "X_train_scaled = X_scaler.transform(X_train)\n",
    "X_test_scaled = X_scaler.transform(X_test)\n",
    "\n",
    "# inspect the scaled data to see how the feature values have been scaled\n",
    "print(X_train_scaled[0])\n",
    "\n",
    "# Plot the scaled data\n",
    "import matplotlib.pyplot as plt \n",
    "plt.plot(X_train_scaled)"
   ]
  },
  {
   "cell_type": "code",
   "execution_count": 9,
   "metadata": {},
   "outputs": [],
   "source": [
    "# Transform labels into numerical code for neural network with LabelEncoder()\n",
    "label_encoder = LabelEncoder()\n",
    "label_encoder.fit(y_train)\n",
    "encoded_y_train = label_encoder.transform(y_train)\n",
    "encoded_y_test = label_encoder.transform(y_test)"
   ]
  },
  {
   "cell_type": "code",
   "execution_count": 10,
   "metadata": {},
   "outputs": [
    {
     "data": {
      "text/plain": [
       "array([0, 1, 0, 0, 0, 1, 0, 0, 1, 0, 1, 1, 1, 0, 1, 0, 0, 0, 0, 1, 1, 1,\n",
       "       0, 1, 1, 1, 1, 0, 0, 1, 0, 1, 0, 1, 1, 0, 1, 0, 1, 1, 0, 1, 1, 0,\n",
       "       0, 1, 1, 1, 1, 0, 0, 0, 0, 0, 1, 0, 1, 0, 0, 0, 1, 1, 1, 0, 1, 0,\n",
       "       0, 1, 0, 1, 1, 0, 0, 1, 1, 1, 1, 1, 0, 0, 1, 0, 0, 1, 0, 1, 0, 1,\n",
       "       1, 0, 1, 1, 0, 0, 1, 1, 1, 0, 0, 1, 1, 0, 1, 0, 1, 0, 0, 1, 0, 1,\n",
       "       0, 0, 1, 1, 0, 0, 1, 1, 0, 0, 0, 1, 0, 0, 1, 1, 1, 0, 0, 1, 1, 0,\n",
       "       1, 1, 1, 1, 0, 1, 1, 1, 0, 1, 1, 1, 0, 1, 1, 1, 0, 1, 0, 0, 1, 1,\n",
       "       1, 0, 1, 1, 1, 0, 0, 0, 1, 1, 1, 0, 1, 0, 1, 1, 1, 0, 1, 0, 1, 1,\n",
       "       1, 0, 1, 1, 1, 1, 1, 0, 1, 0, 0, 0, 1, 1, 1, 1, 1, 0, 0, 1, 0, 1,\n",
       "       1, 0, 0, 1, 1, 0, 0, 1, 1, 0, 0, 0, 1, 0, 0, 1, 0, 1, 1, 1, 0, 0,\n",
       "       0, 0, 1, 1, 1, 1, 1, 1, 1, 1, 0, 1, 0, 0, 1, 0, 1, 1, 1, 0, 0, 0,\n",
       "       0, 0, 0, 1, 1, 1, 1, 1, 1, 0, 0, 0, 1, 1, 1, 1, 0, 0, 0, 0, 0, 1,\n",
       "       1, 0, 0, 1, 1, 0, 0, 1, 1, 0, 1, 1, 1, 0, 0, 1, 0, 1, 1, 0, 1, 0,\n",
       "       1, 0, 0, 0, 1, 0, 0, 1, 1, 0, 0, 1, 0, 0, 0, 0, 0, 1, 1, 0, 1, 0,\n",
       "       0, 0, 0, 1, 0, 0, 0, 1, 0, 0, 1, 0, 1, 1, 0, 1, 1, 1, 0, 1, 1, 1,\n",
       "       1, 1, 1, 1, 0, 1, 1, 1, 1, 0, 1, 0, 0, 1, 1, 1, 1, 1, 1, 0, 1, 0,\n",
       "       1, 1, 1, 1, 1, 0, 0, 1, 0, 1, 0, 1, 1, 0, 1, 1, 0, 0, 1, 0, 0, 0,\n",
       "       1, 1, 1, 1, 1, 1, 1, 1, 0, 1, 1, 0, 1, 0, 0, 1, 0, 0, 1, 0, 1, 1,\n",
       "       0, 1, 1, 1, 0, 1, 0, 0, 1, 0, 1, 1, 1, 0, 1, 1, 1, 0, 0, 1, 1, 1,\n",
       "       1, 1, 0, 1, 1, 1, 1, 0, 0, 1, 0, 0, 0, 1, 1, 1, 0, 0, 0, 1, 1, 0,\n",
       "       0, 0, 0, 0, 1, 1, 1, 1, 1, 1, 1, 0, 1, 0, 0, 0, 0, 1, 1, 0, 1, 1,\n",
       "       0, 0, 1, 1, 1, 1, 1, 0, 1, 0, 0, 1, 1, 0, 1, 1, 1, 1, 0, 1, 0, 1,\n",
       "       1, 0, 1, 0, 1, 0, 0, 1, 1, 0, 0, 0, 0, 1, 1, 1, 1, 0, 1, 0, 1, 0,\n",
       "       1, 1, 0, 1, 1, 1, 1, 1, 0, 1, 1, 1, 1, 0, 0, 1, 0, 1, 0, 1, 1, 1,\n",
       "       1, 1, 1, 1, 0, 1, 1, 0, 0, 0, 0, 0, 1, 1, 1, 1, 0, 1, 1, 1, 1, 0,\n",
       "       0, 1, 1, 0, 0, 1, 1, 1, 1, 1, 1, 1, 1, 1, 1, 0, 0, 1, 0, 0, 0, 0,\n",
       "       0, 1, 0, 1, 1, 0, 1, 0, 0, 1, 0, 1, 0, 0, 0, 1, 0, 0, 0, 0, 0, 0,\n",
       "       0, 0, 1, 1, 0, 1, 0, 0, 1, 0, 0, 1, 0, 0, 1, 1, 1, 0, 1, 1, 0, 1,\n",
       "       0, 1, 0, 0, 0, 1, 1, 1, 1, 1, 0, 0, 1, 0, 0, 0, 0, 0, 1, 0, 0, 1,\n",
       "       1, 1, 1, 0, 0, 1, 1, 1, 0, 1, 0, 1, 1, 0, 0, 0, 1, 0, 0, 0, 1, 1,\n",
       "       0, 0, 1, 1, 1, 1, 1, 0, 1, 1, 1, 1, 1, 0, 1, 0, 1, 1, 1, 0, 1, 1,\n",
       "       0, 0, 1, 0, 1, 0, 1, 1, 1, 1, 0, 1, 1, 0, 1, 0, 1, 1, 1, 0, 0, 0,\n",
       "       0, 1, 1, 1, 1, 0, 1, 1, 1, 1, 0, 1, 1, 1, 1, 1, 1, 0, 1, 0, 1, 1,\n",
       "       0, 1, 1, 0, 0, 1, 1, 1, 1, 0, 0, 0, 0, 1, 0, 1, 0, 0, 0, 0, 1, 0,\n",
       "       0, 0, 0, 0, 1, 1, 1, 1, 1, 1, 1, 1, 1, 1, 0, 1, 1, 1, 0, 0, 1, 1,\n",
       "       1, 0, 0, 1, 1, 0, 1, 0, 0, 1, 0, 0, 0, 1, 1, 0, 0, 0, 0, 1, 1, 1])"
      ]
     },
     "execution_count": 10,
     "metadata": {},
     "output_type": "execute_result"
    }
   ],
   "source": [
    "# View encoded labels\n",
    "encoded_y_train"
   ]
  },
  {
   "cell_type": "code",
   "execution_count": 23,
   "metadata": {},
   "outputs": [],
   "source": [
    "# Convert encoded labels to one-hot encoding for neural net formatting\n",
    "# This is an array of lists with the labels encoded in binary format\n",
    "y_train_categorical = to_categorical(encoded_y_train)\n",
    "y_test_categorical = to_categorical(encoded_y_test)"
   ]
  },
  {
   "cell_type": "code",
   "execution_count": 25,
   "metadata": {},
   "outputs": [
    {
     "data": {
      "text/plain": [
       "array([[0., 1., 0.],\n",
       "       [0., 1., 0.],\n",
       "       [0., 0., 1.],\n",
       "       ...,\n",
       "       [1., 0., 0.],\n",
       "       [0., 1., 0.],\n",
       "       [1., 0., 0.]], dtype=float32)"
      ]
     },
     "execution_count": 25,
     "metadata": {},
     "output_type": "execute_result"
    }
   ],
   "source": [
    "# Inspect one-hot encoded test array\n",
    "y_train_categorical"
   ]
  },
  {
   "cell_type": "code",
   "execution_count": 26,
   "metadata": {},
   "outputs": [
    {
     "data": {
      "text/plain": [
       "2471         CONFIRMED\n",
       "1965         CONFIRMED\n",
       "6013    FALSE POSITIVE\n",
       "9            CONFIRMED\n",
       "2665         CONFIRMED\n",
       "             ...      \n",
       "968          CONFIRMED\n",
       "1667         CANDIDATE\n",
       "3321         CANDIDATE\n",
       "1688         CONFIRMED\n",
       "5994         CANDIDATE\n",
       "Name: koi_disposition, Length: 5592, dtype: object"
      ]
     },
     "execution_count": 26,
     "metadata": {},
     "output_type": "execute_result"
    }
   ],
   "source": [
    "# Compare the encoded array to with the original train label array\n",
    "y_train"
   ]
  },
  {
   "cell_type": "markdown",
   "metadata": {},
   "source": [
    "# Train the Model\n",
    "\n"
   ]
  },
  {
   "cell_type": "code",
   "execution_count": 29,
   "metadata": {},
   "outputs": [],
   "source": [
    "# Import neural network libraries from keras tensorflow \n",
    "from tensorflow.keras.models import Sequential\n",
    "from tensorflow.keras.layers import Dense"
   ]
  },
  {
   "cell_type": "code",
   "execution_count": 30,
   "metadata": {},
   "outputs": [],
   "source": [
    "# Create and empty model with Sequential()\n",
    "model = Sequential()"
   ]
  },
  {
   "cell_type": "code",
   "execution_count": 40,
   "metadata": {},
   "outputs": [],
   "source": [
    "# Add the first model layer with the inputs or x-values\n",
    "# Makes sure to match number of features to input dimensions with Dense() function\n",
    "model.add(Dense(units=100, activation='relu', input_dim=X_train.shape[1]))"
   ]
  },
  {
   "cell_type": "code",
   "execution_count": 41,
   "metadata": {},
   "outputs": [],
   "source": [
    "# Add the the hidden layer\n",
    "model.add(Dense(units=100, activation='relu'))"
   ]
  },
  {
   "cell_type": "code",
   "execution_count": 42,
   "metadata": {},
   "outputs": [],
   "source": [
    "# Add sencond hidden layer\n",
    "model.add(Dense(units=100, activation='relu'))"
   ]
  },
  {
   "cell_type": "code",
   "execution_count": 43,
   "metadata": {},
   "outputs": [],
   "source": [
    "# Add output layer with number of outputs to reflect the number of labels\n",
    "model.add(Dense(units=3, activation=\"softmax\"))"
   ]
  },
  {
   "cell_type": "code",
   "execution_count": 44,
   "metadata": {},
   "outputs": [],
   "source": [
    "# Compile the model using categorical_crossentropy for the loss function, the adam optimizer,\n",
    "# and add accuracy to the training metrics\n",
    "model.compile(loss=\"categorical_crossentropy\",\n",
    "              optimizer=\"adam\", metrics=['accuracy'])"
   ]
  },
  {
   "cell_type": "code",
   "execution_count": 46,
   "metadata": {},
   "outputs": [
    {
     "name": "stdout",
     "output_type": "stream",
     "text": [
      "Model: \"sequential\"\n",
      "_________________________________________________________________\n",
      "Layer (type)                 Output Shape              Param #   \n",
      "=================================================================\n",
      "dense (Dense)                (None, 100)               4100      \n",
      "_________________________________________________________________\n",
      "dense_1 (Dense)              (None, 100)               10100     \n",
      "_________________________________________________________________\n",
      "dense_2 (Dense)              (None, 100)               10100     \n",
      "_________________________________________________________________\n",
      "dense_3 (Dense)              (None, 3)                 303       \n",
      "_________________________________________________________________\n",
      "dense_4 (Dense)              (None, 100)               400       \n",
      "_________________________________________________________________\n",
      "dense_5 (Dense)              (None, 100)               10100     \n",
      "_________________________________________________________________\n",
      "dense_6 (Dense)              (None, 100)               10100     \n",
      "_________________________________________________________________\n",
      "dense_7 (Dense)              (None, 3)                 303       \n",
      "=================================================================\n",
      "Total params: 45,506\n",
      "Trainable params: 45,506\n",
      "Non-trainable params: 0\n",
      "_________________________________________________________________\n"
     ]
    }
   ],
   "source": [
    "model.summary()"
   ]
  },
  {
   "cell_type": "code",
   "execution_count": 45,
   "metadata": {},
   "outputs": [
    {
     "name": "stdout",
     "output_type": "stream",
     "text": [
      "Epoch 1/100\n",
      "175/175 - 0s - loss: 0.5388 - accuracy: 0.6906\n",
      "Epoch 2/100\n",
      "175/175 - 0s - loss: 0.3981 - accuracy: 0.7613\n",
      "Epoch 3/100\n",
      "175/175 - 0s - loss: 0.3926 - accuracy: 0.7631\n",
      "Epoch 4/100\n",
      "175/175 - 0s - loss: 0.3865 - accuracy: 0.7808\n",
      "Epoch 5/100\n",
      "175/175 - 0s - loss: 0.3565 - accuracy: 0.8226\n",
      "Epoch 6/100\n",
      "175/175 - 0s - loss: 0.3543 - accuracy: 0.8230\n",
      "Epoch 7/100\n",
      "175/175 - 0s - loss: 0.3465 - accuracy: 0.8314\n",
      "Epoch 8/100\n",
      "175/175 - 0s - loss: 0.3321 - accuracy: 0.8403\n",
      "Epoch 9/100\n",
      "175/175 - 0s - loss: 0.3338 - accuracy: 0.8426\n",
      "Epoch 10/100\n",
      "175/175 - 0s - loss: 0.3221 - accuracy: 0.8553\n",
      "Epoch 11/100\n",
      "175/175 - 0s - loss: 0.3116 - accuracy: 0.8628\n",
      "Epoch 12/100\n",
      "175/175 - 0s - loss: 0.3232 - accuracy: 0.8482\n",
      "Epoch 13/100\n",
      "175/175 - 0s - loss: 0.3039 - accuracy: 0.8668\n",
      "Epoch 14/100\n",
      "175/175 - 0s - loss: 0.3063 - accuracy: 0.8628\n",
      "Epoch 15/100\n",
      "175/175 - 0s - loss: 0.2956 - accuracy: 0.8702\n",
      "Epoch 16/100\n",
      "175/175 - 0s - loss: 0.2990 - accuracy: 0.8707\n",
      "Epoch 17/100\n",
      "175/175 - 0s - loss: 0.2934 - accuracy: 0.8732\n",
      "Epoch 18/100\n",
      "175/175 - 0s - loss: 0.2920 - accuracy: 0.8730\n",
      "Epoch 19/100\n",
      "175/175 - 0s - loss: 0.2906 - accuracy: 0.8766\n",
      "Epoch 20/100\n",
      "175/175 - 0s - loss: 0.2856 - accuracy: 0.8768\n",
      "Epoch 21/100\n",
      "175/175 - 0s - loss: 0.2846 - accuracy: 0.8793\n",
      "Epoch 22/100\n",
      "175/175 - 0s - loss: 0.2808 - accuracy: 0.8830\n",
      "Epoch 23/100\n",
      "175/175 - 0s - loss: 0.2853 - accuracy: 0.8779\n",
      "Epoch 24/100\n",
      "175/175 - 0s - loss: 0.2800 - accuracy: 0.8807\n",
      "Epoch 25/100\n",
      "175/175 - 0s - loss: 0.2743 - accuracy: 0.8843\n",
      "Epoch 26/100\n",
      "175/175 - 0s - loss: 0.2762 - accuracy: 0.8822\n",
      "Epoch 27/100\n",
      "175/175 - 0s - loss: 0.2723 - accuracy: 0.8834\n",
      "Epoch 28/100\n",
      "175/175 - 0s - loss: 0.2888 - accuracy: 0.8727\n",
      "Epoch 29/100\n",
      "175/175 - 0s - loss: 0.2737 - accuracy: 0.8814\n",
      "Epoch 30/100\n",
      "175/175 - 0s - loss: 0.2787 - accuracy: 0.8811\n",
      "Epoch 31/100\n",
      "175/175 - 0s - loss: 0.2679 - accuracy: 0.8823\n",
      "Epoch 32/100\n",
      "175/175 - 0s - loss: 0.2640 - accuracy: 0.8859\n",
      "Epoch 33/100\n",
      "175/175 - 0s - loss: 0.2656 - accuracy: 0.8856\n",
      "Epoch 34/100\n",
      "175/175 - 0s - loss: 0.2622 - accuracy: 0.8886\n",
      "Epoch 35/100\n",
      "175/175 - 0s - loss: 0.2659 - accuracy: 0.8854\n",
      "Epoch 36/100\n",
      "175/175 - 0s - loss: 0.2707 - accuracy: 0.8822\n",
      "Epoch 37/100\n",
      "175/175 - 0s - loss: 0.2625 - accuracy: 0.8873\n",
      "Epoch 38/100\n",
      "175/175 - 0s - loss: 0.2620 - accuracy: 0.8879\n",
      "Epoch 39/100\n",
      "175/175 - 0s - loss: 0.2589 - accuracy: 0.8915\n",
      "Epoch 40/100\n",
      "175/175 - 0s - loss: 0.2648 - accuracy: 0.8868\n",
      "Epoch 41/100\n",
      "175/175 - 0s - loss: 0.2660 - accuracy: 0.8859\n",
      "Epoch 42/100\n",
      "175/175 - 0s - loss: 0.2604 - accuracy: 0.8839\n",
      "Epoch 43/100\n",
      "175/175 - 0s - loss: 0.2516 - accuracy: 0.8927\n",
      "Epoch 44/100\n",
      "175/175 - 0s - loss: 0.2550 - accuracy: 0.8927\n",
      "Epoch 45/100\n",
      "175/175 - 0s - loss: 0.2550 - accuracy: 0.8891\n",
      "Epoch 46/100\n",
      "175/175 - 0s - loss: 0.2513 - accuracy: 0.8941\n",
      "Epoch 47/100\n",
      "175/175 - 0s - loss: 0.2590 - accuracy: 0.8870\n",
      "Epoch 48/100\n",
      "175/175 - 0s - loss: 0.2507 - accuracy: 0.8918\n",
      "Epoch 49/100\n",
      "175/175 - 0s - loss: 0.2458 - accuracy: 0.8959\n",
      "Epoch 50/100\n",
      "175/175 - 0s - loss: 0.2500 - accuracy: 0.8927\n",
      "Epoch 51/100\n",
      "175/175 - 0s - loss: 0.2510 - accuracy: 0.8904\n",
      "Epoch 52/100\n",
      "175/175 - 0s - loss: 0.2476 - accuracy: 0.8900\n",
      "Epoch 53/100\n",
      "175/175 - 0s - loss: 0.2412 - accuracy: 0.8947\n",
      "Epoch 54/100\n",
      "175/175 - 0s - loss: 0.2454 - accuracy: 0.8900\n",
      "Epoch 55/100\n",
      "175/175 - 0s - loss: 0.2425 - accuracy: 0.8961\n",
      "Epoch 56/100\n",
      "175/175 - 0s - loss: 0.2450 - accuracy: 0.8970\n",
      "Epoch 57/100\n",
      "175/175 - 0s - loss: 0.2441 - accuracy: 0.8913\n",
      "Epoch 58/100\n",
      "175/175 - 0s - loss: 0.2410 - accuracy: 0.8981\n",
      "Epoch 59/100\n",
      "175/175 - 0s - loss: 0.2340 - accuracy: 0.8999\n",
      "Epoch 60/100\n",
      "175/175 - 0s - loss: 0.2412 - accuracy: 0.8947\n",
      "Epoch 61/100\n",
      "175/175 - 0s - loss: 0.2397 - accuracy: 0.8959\n",
      "Epoch 62/100\n",
      "175/175 - 0s - loss: 0.2333 - accuracy: 0.8988\n",
      "Epoch 63/100\n",
      "175/175 - 0s - loss: 0.2360 - accuracy: 0.8966\n",
      "Epoch 64/100\n",
      "175/175 - 0s - loss: 0.2322 - accuracy: 0.9004\n",
      "Epoch 65/100\n",
      "175/175 - 0s - loss: 0.2342 - accuracy: 0.8981\n",
      "Epoch 66/100\n",
      "175/175 - 0s - loss: 0.2329 - accuracy: 0.8982\n",
      "Epoch 67/100\n",
      "175/175 - 0s - loss: 0.2340 - accuracy: 0.8948\n",
      "Epoch 68/100\n",
      "175/175 - 0s - loss: 0.2330 - accuracy: 0.8979\n",
      "Epoch 69/100\n",
      "175/175 - 0s - loss: 0.2291 - accuracy: 0.8986\n",
      "Epoch 70/100\n",
      "175/175 - 0s - loss: 0.2283 - accuracy: 0.8990\n",
      "Epoch 71/100\n",
      "175/175 - 0s - loss: 0.2305 - accuracy: 0.8979\n",
      "Epoch 72/100\n",
      "175/175 - 0s - loss: 0.2326 - accuracy: 0.8995\n",
      "Epoch 73/100\n",
      "175/175 - 0s - loss: 0.2343 - accuracy: 0.9002\n",
      "Epoch 74/100\n",
      "175/175 - 0s - loss: 0.2312 - accuracy: 0.8974\n",
      "Epoch 75/100\n",
      "175/175 - 0s - loss: 0.2300 - accuracy: 0.8965\n",
      "Epoch 76/100\n",
      "175/175 - 0s - loss: 0.2302 - accuracy: 0.8995\n",
      "Epoch 77/100\n",
      "175/175 - 0s - loss: 0.2262 - accuracy: 0.9004\n",
      "Epoch 78/100\n",
      "175/175 - 0s - loss: 0.2263 - accuracy: 0.9018\n",
      "Epoch 79/100\n",
      "175/175 - 0s - loss: 0.2251 - accuracy: 0.9067\n",
      "Epoch 80/100\n",
      "175/175 - 0s - loss: 0.2218 - accuracy: 0.9025\n",
      "Epoch 81/100\n",
      "175/175 - 0s - loss: 0.2183 - accuracy: 0.9029\n",
      "Epoch 82/100\n",
      "175/175 - 0s - loss: 0.2198 - accuracy: 0.9056\n",
      "Epoch 83/100\n",
      "175/175 - 0s - loss: 0.2232 - accuracy: 0.9049\n",
      "Epoch 84/100\n",
      "175/175 - 0s - loss: 0.2207 - accuracy: 0.9038\n",
      "Epoch 85/100\n",
      "175/175 - 0s - loss: 0.2125 - accuracy: 0.9059\n",
      "Epoch 86/100\n",
      "175/175 - 0s - loss: 0.2183 - accuracy: 0.9050\n",
      "Epoch 87/100\n",
      "175/175 - 0s - loss: 0.2304 - accuracy: 0.8954\n",
      "Epoch 88/100\n",
      "175/175 - 0s - loss: 0.2200 - accuracy: 0.9022\n",
      "Epoch 89/100\n",
      "175/175 - 0s - loss: 0.2192 - accuracy: 0.8993\n",
      "Epoch 90/100\n",
      "175/175 - 0s - loss: 0.2150 - accuracy: 0.9067\n",
      "Epoch 91/100\n",
      "175/175 - 0s - loss: 0.2109 - accuracy: 0.9061\n",
      "Epoch 92/100\n",
      "175/175 - 0s - loss: 0.2158 - accuracy: 0.9033\n",
      "Epoch 93/100\n",
      "175/175 - 0s - loss: 0.2141 - accuracy: 0.9036\n",
      "Epoch 94/100\n",
      "175/175 - 0s - loss: 0.2144 - accuracy: 0.9059\n",
      "Epoch 95/100\n",
      "175/175 - 0s - loss: 0.2079 - accuracy: 0.9090\n",
      "Epoch 96/100\n",
      "175/175 - 0s - loss: 0.2150 - accuracy: 0.9054\n",
      "Epoch 97/100\n",
      "175/175 - 0s - loss: 0.2129 - accuracy: 0.9054\n",
      "Epoch 98/100\n",
      "175/175 - 0s - loss: 0.2143 - accuracy: 0.9059\n",
      "Epoch 99/100\n",
      "175/175 - 0s - loss: 0.2169 - accuracy: 0.9050\n",
      "Epoch 100/100\n",
      "175/175 - 0s - loss: 0.2077 - accuracy: 0.9075\n"
     ]
    },
    {
     "data": {
      "text/plain": [
       "<tensorflow.python.keras.callbacks.History at 0x164e4a3bd90>"
      ]
     },
     "execution_count": 45,
     "metadata": {},
     "output_type": "execute_result"
    }
   ],
   "source": [
    "# Use the training data to fit (train) the model\n",
    "model.fit(\n",
    "    X_train_scaled,\n",
    "    y_train_categorical,\n",
    "    epochs=100,\n",
    "    shuffle=True,\n",
    "    verbose=2\n",
    ")"
   ]
  },
  {
   "cell_type": "code",
   "execution_count": 47,
   "metadata": {},
   "outputs": [
    {
     "name": "stdout",
     "output_type": "stream",
     "text": [
      "44/44 - 0s - loss: 0.3175 - accuracy: 0.8778\n",
      "Normal Neural Network - Loss: 0.31747111678123474, Accuracy 0.8777698278427124\n"
     ]
    }
   ],
   "source": [
    "# Test the accuracy and loss of the model on testing data\n",
    "model_loss, model_accuracy = model.evaluate(\n",
    "    X_test_scaled, y_test_categorical, verbose=2)\n",
    "print(\n",
    "    f'Normal Neural Network - Loss: {model_loss}, Accuracy {model_accuracy}')"
   ]
  },
  {
   "cell_type": "markdown",
   "metadata": {},
   "source": [
    "# Test a Single Hidden Layer\n",
    "\n",
    "Compare to the multi-layer model above"
   ]
  },
  {
   "cell_type": "code",
   "execution_count": 59,
   "metadata": {},
   "outputs": [],
   "source": [
    "# Create input and output layers\n",
    "model2 = Sequential()\n",
    "model2.add(Dense(units=100, activation='relu', input_dim=X_train.shape[1]))\n",
    "model2.add(Dense(units=3, activation='softmax'))"
   ]
  },
  {
   "cell_type": "code",
   "execution_count": 60,
   "metadata": {
    "tags": []
   },
   "outputs": [],
   "source": [
    "# Compile and fit the model\n",
    "model2.compile(optimizer='adam',\n",
    "              loss='categorical_crossentropy',\n",
    "              metrics=['accuracy'])"
   ]
  },
  {
   "cell_type": "code",
   "execution_count": 61,
   "metadata": {},
   "outputs": [
    {
     "name": "stdout",
     "output_type": "stream",
     "text": [
      "Model: \"sequential_4\"\n",
      "_________________________________________________________________\n",
      "Layer (type)                 Output Shape              Param #   \n",
      "=================================================================\n",
      "dense_10 (Dense)             (None, 100)               4100      \n",
      "_________________________________________________________________\n",
      "dense_11 (Dense)             (None, 3)                 303       \n",
      "=================================================================\n",
      "Total params: 4,403\n",
      "Trainable params: 4,403\n",
      "Non-trainable params: 0\n",
      "_________________________________________________________________\n"
     ]
    }
   ],
   "source": [
    "# View model summary\n",
    "model2.summary()"
   ]
  },
  {
   "cell_type": "code",
   "execution_count": 62,
   "metadata": {},
   "outputs": [
    {
     "name": "stdout",
     "output_type": "stream",
     "text": [
      "Epoch 1/100\n",
      "175/175 - 0s - loss: 0.7289 - accuracy: 0.6747\n",
      "Epoch 2/100\n",
      "175/175 - 0s - loss: 0.4180 - accuracy: 0.8146\n",
      "Epoch 3/100\n",
      "175/175 - 0s - loss: 0.3675 - accuracy: 0.8281\n",
      "Epoch 4/100\n",
      "175/175 - 0s - loss: 0.3498 - accuracy: 0.8337\n",
      "Epoch 5/100\n",
      "175/175 - 0s - loss: 0.3409 - accuracy: 0.8362\n",
      "Epoch 6/100\n",
      "175/175 - 0s - loss: 0.3345 - accuracy: 0.8430\n",
      "Epoch 7/100\n",
      "175/175 - 0s - loss: 0.3289 - accuracy: 0.8435\n",
      "Epoch 8/100\n",
      "175/175 - 0s - loss: 0.3261 - accuracy: 0.8460\n",
      "Epoch 9/100\n",
      "175/175 - 0s - loss: 0.3240 - accuracy: 0.8467\n",
      "Epoch 10/100\n",
      "175/175 - 0s - loss: 0.3175 - accuracy: 0.8548\n",
      "Epoch 11/100\n",
      "175/175 - 0s - loss: 0.3139 - accuracy: 0.8568\n",
      "Epoch 12/100\n",
      "175/175 - 0s - loss: 0.3111 - accuracy: 0.8580\n",
      "Epoch 13/100\n",
      "175/175 - 0s - loss: 0.3101 - accuracy: 0.8560\n",
      "Epoch 14/100\n",
      "175/175 - 0s - loss: 0.3081 - accuracy: 0.8603\n",
      "Epoch 15/100\n",
      "175/175 - 0s - loss: 0.3027 - accuracy: 0.8648\n",
      "Epoch 16/100\n",
      "175/175 - 0s - loss: 0.3051 - accuracy: 0.8614\n",
      "Epoch 17/100\n",
      "175/175 - 0s - loss: 0.2995 - accuracy: 0.8636\n",
      "Epoch 18/100\n",
      "175/175 - 0s - loss: 0.2968 - accuracy: 0.8718\n",
      "Epoch 19/100\n",
      "175/175 - 0s - loss: 0.2974 - accuracy: 0.8673\n",
      "Epoch 20/100\n",
      "175/175 - 0s - loss: 0.2974 - accuracy: 0.8632\n",
      "Epoch 21/100\n",
      "175/175 - 0s - loss: 0.2942 - accuracy: 0.8691\n",
      "Epoch 22/100\n",
      "175/175 - 0s - loss: 0.2926 - accuracy: 0.8707\n",
      "Epoch 23/100\n",
      "175/175 - 0s - loss: 0.2928 - accuracy: 0.8698\n",
      "Epoch 24/100\n",
      "175/175 - 0s - loss: 0.2900 - accuracy: 0.8739\n",
      "Epoch 25/100\n",
      "175/175 - 0s - loss: 0.2882 - accuracy: 0.8755\n",
      "Epoch 26/100\n",
      "175/175 - 0s - loss: 0.2910 - accuracy: 0.8721\n",
      "Epoch 27/100\n",
      "175/175 - 0s - loss: 0.2875 - accuracy: 0.8759\n",
      "Epoch 28/100\n",
      "175/175 - 0s - loss: 0.2832 - accuracy: 0.8775\n",
      "Epoch 29/100\n",
      "175/175 - 0s - loss: 0.2832 - accuracy: 0.8791\n",
      "Epoch 30/100\n",
      "175/175 - 0s - loss: 0.2815 - accuracy: 0.8793\n",
      "Epoch 31/100\n",
      "175/175 - 0s - loss: 0.2833 - accuracy: 0.8793\n",
      "Epoch 32/100\n",
      "175/175 - 0s - loss: 0.2827 - accuracy: 0.8786\n",
      "Epoch 33/100\n",
      "175/175 - 0s - loss: 0.2823 - accuracy: 0.8761\n",
      "Epoch 34/100\n",
      "175/175 - 0s - loss: 0.2798 - accuracy: 0.8791\n",
      "Epoch 35/100\n",
      "175/175 - 0s - loss: 0.2811 - accuracy: 0.8777\n",
      "Epoch 36/100\n",
      "175/175 - 0s - loss: 0.2787 - accuracy: 0.8798\n",
      "Epoch 37/100\n",
      "175/175 - 0s - loss: 0.2795 - accuracy: 0.8836\n",
      "Epoch 38/100\n",
      "175/175 - 0s - loss: 0.2784 - accuracy: 0.8809\n",
      "Epoch 39/100\n",
      "175/175 - 0s - loss: 0.2730 - accuracy: 0.8852\n",
      "Epoch 40/100\n",
      "175/175 - 0s - loss: 0.2730 - accuracy: 0.8827\n",
      "Epoch 41/100\n",
      "175/175 - 0s - loss: 0.2735 - accuracy: 0.8877\n",
      "Epoch 42/100\n",
      "175/175 - 0s - loss: 0.2757 - accuracy: 0.8822\n",
      "Epoch 43/100\n",
      "175/175 - 0s - loss: 0.2775 - accuracy: 0.8788\n",
      "Epoch 44/100\n",
      "175/175 - 0s - loss: 0.2732 - accuracy: 0.8814\n",
      "Epoch 45/100\n",
      "175/175 - 0s - loss: 0.2722 - accuracy: 0.8847\n",
      "Epoch 46/100\n",
      "175/175 - 0s - loss: 0.2707 - accuracy: 0.8838\n",
      "Epoch 47/100\n",
      "175/175 - 0s - loss: 0.2715 - accuracy: 0.8807\n",
      "Epoch 48/100\n",
      "175/175 - 0s - loss: 0.2709 - accuracy: 0.8850\n",
      "Epoch 49/100\n",
      "175/175 - 0s - loss: 0.2688 - accuracy: 0.8848\n",
      "Epoch 50/100\n",
      "175/175 - 0s - loss: 0.2708 - accuracy: 0.8827\n",
      "Epoch 51/100\n",
      "175/175 - 0s - loss: 0.2651 - accuracy: 0.8870\n",
      "Epoch 52/100\n",
      "175/175 - 0s - loss: 0.2700 - accuracy: 0.8839\n",
      "Epoch 53/100\n",
      "175/175 - 0s - loss: 0.2658 - accuracy: 0.8884\n",
      "Epoch 54/100\n",
      "175/175 - 0s - loss: 0.2652 - accuracy: 0.8872\n",
      "Epoch 55/100\n",
      "175/175 - 0s - loss: 0.2639 - accuracy: 0.8863\n",
      "Epoch 56/100\n",
      "175/175 - 0s - loss: 0.2669 - accuracy: 0.8843\n",
      "Epoch 57/100\n",
      "175/175 - 0s - loss: 0.2656 - accuracy: 0.8841\n",
      "Epoch 58/100\n",
      "175/175 - 0s - loss: 0.2653 - accuracy: 0.8859\n",
      "Epoch 59/100\n",
      "175/175 - 0s - loss: 0.2633 - accuracy: 0.8866\n",
      "Epoch 60/100\n",
      "175/175 - 0s - loss: 0.2663 - accuracy: 0.8861\n",
      "Epoch 61/100\n",
      "175/175 - 0s - loss: 0.2625 - accuracy: 0.8889\n",
      "Epoch 62/100\n",
      "175/175 - 0s - loss: 0.2658 - accuracy: 0.8834\n",
      "Epoch 63/100\n",
      "175/175 - 0s - loss: 0.2635 - accuracy: 0.8870\n",
      "Epoch 64/100\n",
      "175/175 - 0s - loss: 0.2619 - accuracy: 0.8863\n",
      "Epoch 65/100\n",
      "175/175 - 0s - loss: 0.2602 - accuracy: 0.8854\n",
      "Epoch 66/100\n",
      "175/175 - 0s - loss: 0.2592 - accuracy: 0.8884\n",
      "Epoch 67/100\n",
      "175/175 - 0s - loss: 0.2608 - accuracy: 0.8898\n",
      "Epoch 68/100\n",
      "175/175 - 0s - loss: 0.2582 - accuracy: 0.8909\n",
      "Epoch 69/100\n",
      "175/175 - 0s - loss: 0.2575 - accuracy: 0.8897\n",
      "Epoch 70/100\n",
      "175/175 - 0s - loss: 0.2590 - accuracy: 0.8872\n",
      "Epoch 71/100\n",
      "175/175 - 0s - loss: 0.2557 - accuracy: 0.8904\n",
      "Epoch 72/100\n",
      "175/175 - 0s - loss: 0.2543 - accuracy: 0.8936\n",
      "Epoch 73/100\n",
      "175/175 - 0s - loss: 0.2542 - accuracy: 0.8911\n",
      "Epoch 74/100\n",
      "175/175 - 0s - loss: 0.2624 - accuracy: 0.8873\n",
      "Epoch 75/100\n",
      "175/175 - 0s - loss: 0.2574 - accuracy: 0.8907\n",
      "Epoch 76/100\n",
      "175/175 - 0s - loss: 0.2540 - accuracy: 0.8906\n",
      "Epoch 77/100\n",
      "175/175 - 0s - loss: 0.2536 - accuracy: 0.8929\n",
      "Epoch 78/100\n",
      "175/175 - 0s - loss: 0.2558 - accuracy: 0.8893\n",
      "Epoch 79/100\n",
      "175/175 - 0s - loss: 0.2556 - accuracy: 0.8920\n",
      "Epoch 80/100\n",
      "175/175 - 0s - loss: 0.2538 - accuracy: 0.8909\n",
      "Epoch 81/100\n",
      "175/175 - 0s - loss: 0.2576 - accuracy: 0.8893\n",
      "Epoch 82/100\n",
      "175/175 - 0s - loss: 0.2518 - accuracy: 0.8911\n",
      "Epoch 83/100\n",
      "175/175 - 0s - loss: 0.2509 - accuracy: 0.8940\n",
      "Epoch 84/100\n",
      "175/175 - 0s - loss: 0.2501 - accuracy: 0.8929\n",
      "Epoch 85/100\n",
      "175/175 - 0s - loss: 0.2525 - accuracy: 0.8922\n",
      "Epoch 86/100\n",
      "175/175 - 0s - loss: 0.2556 - accuracy: 0.8904\n",
      "Epoch 87/100\n",
      "175/175 - 0s - loss: 0.2510 - accuracy: 0.8934\n",
      "Epoch 88/100\n",
      "175/175 - 0s - loss: 0.2502 - accuracy: 0.8952\n",
      "Epoch 89/100\n",
      "175/175 - 0s - loss: 0.2465 - accuracy: 0.8915\n",
      "Epoch 90/100\n",
      "175/175 - 0s - loss: 0.2484 - accuracy: 0.8929\n",
      "Epoch 91/100\n",
      "175/175 - 0s - loss: 0.2497 - accuracy: 0.8957\n",
      "Epoch 92/100\n",
      "175/175 - 0s - loss: 0.2478 - accuracy: 0.8923\n",
      "Epoch 93/100\n",
      "175/175 - 0s - loss: 0.2457 - accuracy: 0.8943\n",
      "Epoch 94/100\n",
      "175/175 - 0s - loss: 0.2503 - accuracy: 0.8913\n",
      "Epoch 95/100\n",
      "175/175 - 0s - loss: 0.2465 - accuracy: 0.8936\n",
      "Epoch 96/100\n",
      "175/175 - 0s - loss: 0.2467 - accuracy: 0.8931\n",
      "Epoch 97/100\n",
      "175/175 - 0s - loss: 0.2511 - accuracy: 0.8897\n",
      "Epoch 98/100\n",
      "175/175 - 0s - loss: 0.2489 - accuracy: 0.8920\n",
      "Epoch 99/100\n",
      "175/175 - 0s - loss: 0.2426 - accuracy: 0.8945\n",
      "Epoch 100/100\n",
      "175/175 - 0s - loss: 0.2454 - accuracy: 0.8938\n"
     ]
    },
    {
     "data": {
      "text/plain": [
       "<tensorflow.python.keras.callbacks.History at 0x164f00c9a90>"
      ]
     },
     "execution_count": 62,
     "metadata": {},
     "output_type": "execute_result"
    }
   ],
   "source": [
    "# Train neural network\n",
    "model2.fit(\n",
    "    X_train_scaled,\n",
    "    y_train_categorical,\n",
    "    epochs=100,\n",
    "    shuffle=True,\n",
    "    verbose=2\n",
    ")"
   ]
  },
  {
   "cell_type": "code",
   "execution_count": 63,
   "metadata": {},
   "outputs": [
    {
     "name": "stdout",
     "output_type": "stream",
     "text": [
      "44/44 - 0s - loss: 0.2932 - accuracy: 0.8928\n",
      "Normal Neural Network - Loss: 0.29320618510246277, Accuracy 0.8927805423736572\n"
     ]
    }
   ],
   "source": [
    "# Test the accuracy and loss of the model on testing data\n",
    "model_loss, model_accuracy = model2.evaluate(\n",
    "    X_test_scaled, y_test_categorical, verbose=2)\n",
    "print(\n",
    "    f'Normal Neural Network - Loss: {model_loss}, Accuracy {model_accuracy}')"
   ]
  },
  {
   "cell_type": "markdown",
   "metadata": {},
   "source": [
    "# Save the Model"
   ]
  },
  {
   "cell_type": "code",
   "execution_count": 66,
   "metadata": {},
   "outputs": [],
   "source": [
    "model2.save('model_5_neuralnetwork.h5')"
   ]
  }
 ],
 "metadata": {
  "kernel_info": {
   "name": "dev"
  },
  "kernelspec": {
   "display_name": "Python 3",
   "language": "python",
   "name": "python3"
  },
  "language_info": {
   "codemirror_mode": {
    "name": "ipython",
    "version": 3
   },
   "file_extension": ".py",
   "mimetype": "text/x-python",
   "name": "python",
   "nbconvert_exporter": "python",
   "pygments_lexer": "ipython3",
   "version": "3.8.3"
  },
  "nteract": {
   "version": "0.12.3"
  }
 },
 "nbformat": 4,
 "nbformat_minor": 2
}
