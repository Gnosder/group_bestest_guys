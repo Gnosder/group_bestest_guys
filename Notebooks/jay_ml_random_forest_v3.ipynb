{
 "cells": [
  {
   "cell_type": "markdown",
   "metadata": {},
   "source": [
    "## Install and Updated Required Libraries"
   ]
  },
  {
   "cell_type": "code",
   "execution_count": 4,
   "metadata": {},
   "outputs": [],
   "source": [
    "### Update sklearn to prevent version mismatches\n",
    "# !pip install sklearn --upgrade"
   ]
  },
  {
   "cell_type": "code",
   "execution_count": 6,
   "metadata": {},
   "outputs": [],
   "source": [
    "### install joblib. This will be used to save your model. \n",
    "### Restart your kernel after installing \n",
    "# !pip install joblib"
   ]
  },
  {
   "cell_type": "code",
   "execution_count": 1,
   "metadata": {},
   "outputs": [],
   "source": [
    "import pandas as pd\n",
    "import numpy as np"
   ]
  },
  {
   "cell_type": "markdown",
   "metadata": {},
   "source": [
    "## Read the CSV and Perform Basic Data Cleaning"
   ]
  },
  {
   "cell_type": "code",
   "execution_count": 2,
   "metadata": {},
   "outputs": [
    {
     "name": "stdout",
     "output_type": "stream",
     "text": [
      "(47, 15)\n"
     ]
    },
    {
     "data": {
      "text/html": [
       "<div>\n",
       "<style scoped>\n",
       "    .dataframe tbody tr th:only-of-type {\n",
       "        vertical-align: middle;\n",
       "    }\n",
       "\n",
       "    .dataframe tbody tr th {\n",
       "        vertical-align: top;\n",
       "    }\n",
       "\n",
       "    .dataframe thead th {\n",
       "        text-align: right;\n",
       "    }\n",
       "</style>\n",
       "<table border=\"1\" class=\"dataframe\">\n",
       "  <thead>\n",
       "    <tr style=\"text-align: right;\">\n",
       "      <th></th>\n",
       "      <th>month</th>\n",
       "      <th>tweets</th>\n",
       "      <th>isRetweet</th>\n",
       "      <th>isDeleted</th>\n",
       "      <th>avg_sentiment_score</th>\n",
       "      <th>sum_sentiment_score</th>\n",
       "      <th>delta_avg</th>\n",
       "      <th>retweets</th>\n",
       "      <th>favorites</th>\n",
       "      <th>word_count</th>\n",
       "      <th>positive</th>\n",
       "      <th>negative</th>\n",
       "      <th>neutral</th>\n",
       "      <th>s&amp;p_%change</th>\n",
       "      <th>s&amp;p_up/down</th>\n",
       "    </tr>\n",
       "  </thead>\n",
       "  <tbody>\n",
       "    <tr>\n",
       "      <th>0</th>\n",
       "      <td>2016-12-01</td>\n",
       "      <td>6</td>\n",
       "      <td>1</td>\n",
       "      <td>0</td>\n",
       "      <td>5.678993</td>\n",
       "      <td>331.40</td>\n",
       "      <td>0.144033</td>\n",
       "      <td>56270</td>\n",
       "      <td>225011</td>\n",
       "      <td>345</td>\n",
       "      <td>4</td>\n",
       "      <td>1</td>\n",
       "      <td>1</td>\n",
       "      <td>0.017571</td>\n",
       "      <td>up</td>\n",
       "    </tr>\n",
       "    <tr>\n",
       "      <th>1</th>\n",
       "      <td>2017-01-01</td>\n",
       "      <td>6</td>\n",
       "      <td>0</td>\n",
       "      <td>0</td>\n",
       "      <td>5.533250</td>\n",
       "      <td>434.94</td>\n",
       "      <td>-0.001711</td>\n",
       "      <td>138407</td>\n",
       "      <td>597482</td>\n",
       "      <td>454</td>\n",
       "      <td>3</td>\n",
       "      <td>0</td>\n",
       "      <td>3</td>\n",
       "      <td>0.012125</td>\n",
       "      <td>up</td>\n",
       "    </tr>\n",
       "    <tr>\n",
       "      <th>2</th>\n",
       "      <td>2017-02-01</td>\n",
       "      <td>9</td>\n",
       "      <td>0</td>\n",
       "      <td>0</td>\n",
       "      <td>5.355419</td>\n",
       "      <td>638.54</td>\n",
       "      <td>-0.179541</td>\n",
       "      <td>191814</td>\n",
       "      <td>894968</td>\n",
       "      <td>688</td>\n",
       "      <td>4</td>\n",
       "      <td>2</td>\n",
       "      <td>3</td>\n",
       "      <td>0.034149</td>\n",
       "      <td>up</td>\n",
       "    </tr>\n",
       "    <tr>\n",
       "      <th>3</th>\n",
       "      <td>2017-03-01</td>\n",
       "      <td>10</td>\n",
       "      <td>0</td>\n",
       "      <td>1</td>\n",
       "      <td>5.500236</td>\n",
       "      <td>620.86</td>\n",
       "      <td>-0.034724</td>\n",
       "      <td>158872</td>\n",
       "      <td>722048</td>\n",
       "      <td>656</td>\n",
       "      <td>5</td>\n",
       "      <td>0</td>\n",
       "      <td>5</td>\n",
       "      <td>-0.007315</td>\n",
       "      <td>down</td>\n",
       "    </tr>\n",
       "    <tr>\n",
       "      <th>4</th>\n",
       "      <td>2017-04-01</td>\n",
       "      <td>10</td>\n",
       "      <td>1</td>\n",
       "      <td>0</td>\n",
       "      <td>5.151696</td>\n",
       "      <td>618.00</td>\n",
       "      <td>-0.383264</td>\n",
       "      <td>108465</td>\n",
       "      <td>466597</td>\n",
       "      <td>693</td>\n",
       "      <td>0</td>\n",
       "      <td>3</td>\n",
       "      <td>7</td>\n",
       "      <td>0.009253</td>\n",
       "      <td>up</td>\n",
       "    </tr>\n",
       "  </tbody>\n",
       "</table>\n",
       "</div>"
      ],
      "text/plain": [
       "        month  tweets  isRetweet  isDeleted  avg_sentiment_score  \\\n",
       "0  2016-12-01       6          1          0             5.678993   \n",
       "1  2017-01-01       6          0          0             5.533250   \n",
       "2  2017-02-01       9          0          0             5.355419   \n",
       "3  2017-03-01      10          0          1             5.500236   \n",
       "4  2017-04-01      10          1          0             5.151696   \n",
       "\n",
       "   sum_sentiment_score  delta_avg  retweets  favorites  word_count  positive  \\\n",
       "0               331.40   0.144033     56270     225011         345         4   \n",
       "1               434.94  -0.001711    138407     597482         454         3   \n",
       "2               638.54  -0.179541    191814     894968         688         4   \n",
       "3               620.86  -0.034724    158872     722048         656         5   \n",
       "4               618.00  -0.383264    108465     466597         693         0   \n",
       "\n",
       "   negative  neutral  s&p_%change s&p_up/down  \n",
       "0         1        1     0.017571          up  \n",
       "1         0        3     0.012125          up  \n",
       "2         2        3     0.034149          up  \n",
       "3         0        5    -0.007315        down  \n",
       "4         3        7     0.009253          up  "
      ]
     },
     "execution_count": 2,
     "metadata": {},
     "output_type": "execute_result"
    }
   ],
   "source": [
    "df = pd.read_csv('../data/monthly_summary_v2.csv')\n",
    "df = df.dropna(axis=0, how='all')\n",
    "df = df.drop('index', axis=1)\n",
    "print(df.shape)\n",
    "df.head()"
   ]
  },
  {
   "cell_type": "markdown",
   "metadata": {},
   "source": [
    "## Select Your Features and Label (X and y values)"
   ]
  },
  {
   "cell_type": "code",
   "execution_count": 4,
   "metadata": {},
   "outputs": [
    {
     "name": "stdout",
     "output_type": "stream",
     "text": [
      "(47, 8)\n"
     ]
    },
    {
     "data": {
      "text/html": [
       "<div>\n",
       "<style scoped>\n",
       "    .dataframe tbody tr th:only-of-type {\n",
       "        vertical-align: middle;\n",
       "    }\n",
       "\n",
       "    .dataframe tbody tr th {\n",
       "        vertical-align: top;\n",
       "    }\n",
       "\n",
       "    .dataframe thead th {\n",
       "        text-align: right;\n",
       "    }\n",
       "</style>\n",
       "<table border=\"1\" class=\"dataframe\">\n",
       "  <thead>\n",
       "    <tr style=\"text-align: right;\">\n",
       "      <th></th>\n",
       "      <th>tweets</th>\n",
       "      <th>avg_sentiment_score</th>\n",
       "      <th>sum_sentiment_score</th>\n",
       "      <th>delta_avg</th>\n",
       "      <th>retweets</th>\n",
       "      <th>favorites</th>\n",
       "      <th>word_count</th>\n",
       "      <th>positive</th>\n",
       "    </tr>\n",
       "  </thead>\n",
       "  <tbody>\n",
       "    <tr>\n",
       "      <th>0</th>\n",
       "      <td>6</td>\n",
       "      <td>5.678993</td>\n",
       "      <td>331.40</td>\n",
       "      <td>0.144033</td>\n",
       "      <td>56270</td>\n",
       "      <td>225011</td>\n",
       "      <td>345</td>\n",
       "      <td>4</td>\n",
       "    </tr>\n",
       "    <tr>\n",
       "      <th>1</th>\n",
       "      <td>6</td>\n",
       "      <td>5.533250</td>\n",
       "      <td>434.94</td>\n",
       "      <td>-0.001711</td>\n",
       "      <td>138407</td>\n",
       "      <td>597482</td>\n",
       "      <td>454</td>\n",
       "      <td>3</td>\n",
       "    </tr>\n",
       "    <tr>\n",
       "      <th>2</th>\n",
       "      <td>9</td>\n",
       "      <td>5.355419</td>\n",
       "      <td>638.54</td>\n",
       "      <td>-0.179541</td>\n",
       "      <td>191814</td>\n",
       "      <td>894968</td>\n",
       "      <td>688</td>\n",
       "      <td>4</td>\n",
       "    </tr>\n",
       "    <tr>\n",
       "      <th>3</th>\n",
       "      <td>10</td>\n",
       "      <td>5.500236</td>\n",
       "      <td>620.86</td>\n",
       "      <td>-0.034724</td>\n",
       "      <td>158872</td>\n",
       "      <td>722048</td>\n",
       "      <td>656</td>\n",
       "      <td>5</td>\n",
       "    </tr>\n",
       "    <tr>\n",
       "      <th>4</th>\n",
       "      <td>10</td>\n",
       "      <td>5.151696</td>\n",
       "      <td>618.00</td>\n",
       "      <td>-0.383264</td>\n",
       "      <td>108465</td>\n",
       "      <td>466597</td>\n",
       "      <td>693</td>\n",
       "      <td>0</td>\n",
       "    </tr>\n",
       "  </tbody>\n",
       "</table>\n",
       "</div>"
      ],
      "text/plain": [
       "   tweets  avg_sentiment_score  sum_sentiment_score  delta_avg  retweets  \\\n",
       "0       6             5.678993               331.40   0.144033     56270   \n",
       "1       6             5.533250               434.94  -0.001711    138407   \n",
       "2       9             5.355419               638.54  -0.179541    191814   \n",
       "3      10             5.500236               620.86  -0.034724    158872   \n",
       "4      10             5.151696               618.00  -0.383264    108465   \n",
       "\n",
       "   favorites  word_count  positive  \n",
       "0     225011         345         4  \n",
       "1     597482         454         3  \n",
       "2     894968         688         4  \n",
       "3     722048         656         5  \n",
       "4     466597         693         0  "
      ]
     },
     "execution_count": 4,
     "metadata": {},
     "output_type": "execute_result"
    }
   ],
   "source": [
    "# Set features. This will also be used as your x values.\n",
    "# Select the features you would like to use - this is depended on the model you're going to use.\n",
    "# It might be benefitial to utilize a feature selection model.\n",
    "selected_features = df.drop(['month', 's&p_up/down', 's&p_%change', 'isRetweet', 'isDeleted', 'negative', 'neutral'], axis=1)\n",
    "selected_features_all = df.drop(['month', 's&p_up/down', 's&p_%change'], axis=1)\n",
    "\n",
    "print(selected_features.shape)\n",
    "selected_features.head()"
   ]
  },
  {
   "cell_type": "markdown",
   "metadata": {},
   "source": [
    "## Create Training And Test Split"
   ]
  },
  {
   "cell_type": "code",
   "execution_count": 5,
   "metadata": {},
   "outputs": [
    {
     "name": "stdout",
     "output_type": "stream",
     "text": [
      "(47,)\n"
     ]
    },
    {
     "data": {
      "text/plain": [
       "0      up\n",
       "1      up\n",
       "2      up\n",
       "3    down\n",
       "4      up\n",
       "Name: s&p_up/down, dtype: object"
      ]
     },
     "execution_count": 5,
     "metadata": {},
     "output_type": "execute_result"
    }
   ],
   "source": [
    "# Pull out the output labels column or y values\n",
    "labels = df['s&p_up/down']\n",
    "print(labels.shape)\n",
    "labels.head()"
   ]
  },
  {
   "cell_type": "code",
   "execution_count": 6,
   "metadata": {},
   "outputs": [],
   "source": [
    "# Use the train_test_split method to categorize your data into training and testing groups\n",
    "from sklearn.model_selection import train_test_split\n",
    "X_train, X_test, y_train, y_test = train_test_split(selected_features, labels, train_size=.7, random_state=3)\n",
    "# X_train, X_test, y_train, y_test = train_test_split(selected_features_all, labels, train_size=.7, random_state=3)"
   ]
  },
  {
   "cell_type": "code",
   "execution_count": 7,
   "metadata": {},
   "outputs": [
    {
     "name": "stdout",
     "output_type": "stream",
     "text": [
      "(32, 8)\n"
     ]
    },
    {
     "data": {
      "text/html": [
       "<div>\n",
       "<style scoped>\n",
       "    .dataframe tbody tr th:only-of-type {\n",
       "        vertical-align: middle;\n",
       "    }\n",
       "\n",
       "    .dataframe tbody tr th {\n",
       "        vertical-align: top;\n",
       "    }\n",
       "\n",
       "    .dataframe thead th {\n",
       "        text-align: right;\n",
       "    }\n",
       "</style>\n",
       "<table border=\"1\" class=\"dataframe\">\n",
       "  <thead>\n",
       "    <tr style=\"text-align: right;\">\n",
       "      <th></th>\n",
       "      <th>tweets</th>\n",
       "      <th>avg_sentiment_score</th>\n",
       "      <th>sum_sentiment_score</th>\n",
       "      <th>delta_avg</th>\n",
       "      <th>retweets</th>\n",
       "      <th>favorites</th>\n",
       "      <th>word_count</th>\n",
       "      <th>positive</th>\n",
       "    </tr>\n",
       "  </thead>\n",
       "  <tbody>\n",
       "    <tr>\n",
       "      <th>46</th>\n",
       "      <td>64</td>\n",
       "      <td>5.470782</td>\n",
       "      <td>5446.21</td>\n",
       "      <td>-0.064179</td>\n",
       "      <td>1633691</td>\n",
       "      <td>6020883</td>\n",
       "      <td>5813</td>\n",
       "      <td>29</td>\n",
       "    </tr>\n",
       "    <tr>\n",
       "      <th>15</th>\n",
       "      <td>24</td>\n",
       "      <td>5.422641</td>\n",
       "      <td>2608.50</td>\n",
       "      <td>-0.112319</td>\n",
       "      <td>435907</td>\n",
       "      <td>1929268</td>\n",
       "      <td>2773</td>\n",
       "      <td>11</td>\n",
       "    </tr>\n",
       "    <tr>\n",
       "      <th>37</th>\n",
       "      <td>68</td>\n",
       "      <td>5.433572</td>\n",
       "      <td>5398.59</td>\n",
       "      <td>-0.101388</td>\n",
       "      <td>1156719</td>\n",
       "      <td>3847312</td>\n",
       "      <td>5749</td>\n",
       "      <td>27</td>\n",
       "    </tr>\n",
       "    <tr>\n",
       "      <th>11</th>\n",
       "      <td>36</td>\n",
       "      <td>5.467930</td>\n",
       "      <td>3264.94</td>\n",
       "      <td>-0.067031</td>\n",
       "      <td>565004</td>\n",
       "      <td>2511010</td>\n",
       "      <td>3488</td>\n",
       "      <td>16</td>\n",
       "    </tr>\n",
       "    <tr>\n",
       "      <th>7</th>\n",
       "      <td>24</td>\n",
       "      <td>5.663162</td>\n",
       "      <td>1644.87</td>\n",
       "      <td>0.128201</td>\n",
       "      <td>406119</td>\n",
       "      <td>1695405</td>\n",
       "      <td>1679</td>\n",
       "      <td>16</td>\n",
       "    </tr>\n",
       "  </tbody>\n",
       "</table>\n",
       "</div>"
      ],
      "text/plain": [
       "    tweets  avg_sentiment_score  sum_sentiment_score  delta_avg  retweets  \\\n",
       "46      64             5.470782              5446.21  -0.064179   1633691   \n",
       "15      24             5.422641              2608.50  -0.112319    435907   \n",
       "37      68             5.433572              5398.59  -0.101388   1156719   \n",
       "11      36             5.467930              3264.94  -0.067031    565004   \n",
       "7       24             5.663162              1644.87   0.128201    406119   \n",
       "\n",
       "    favorites  word_count  positive  \n",
       "46    6020883        5813        29  \n",
       "15    1929268        2773        11  \n",
       "37    3847312        5749        27  \n",
       "11    2511010        3488        16  \n",
       "7     1695405        1679        16  "
      ]
     },
     "execution_count": 7,
     "metadata": {},
     "output_type": "execute_result"
    }
   ],
   "source": [
    "# Inspect training data\n",
    "print(X_train.shape)\n",
    "X_train.head()"
   ]
  },
  {
   "cell_type": "code",
   "execution_count": 8,
   "metadata": {},
   "outputs": [
    {
     "data": {
      "text/plain": [
       "(32,)"
      ]
     },
     "execution_count": 8,
     "metadata": {},
     "output_type": "execute_result"
    }
   ],
   "source": [
    "y_train.shape"
   ]
  },
  {
   "cell_type": "markdown",
   "metadata": {},
   "source": [
    "## Pre-Processing"
   ]
  },
  {
   "cell_type": "code",
   "execution_count": 9,
   "metadata": {},
   "outputs": [
    {
     "name": "stdout",
     "output_type": "stream",
     "text": [
      "[0.64444444 0.47203748 0.53856966 0.47203748 0.85884835 0.78367359\n",
      " 0.54614463 0.66666667]\n"
     ]
    },
    {
     "data": {
      "text/plain": [
       "[<matplotlib.lines.Line2D at 0x28d538a3bb0>,\n",
       " <matplotlib.lines.Line2D at 0x28d538a3be0>,\n",
       " <matplotlib.lines.Line2D at 0x28d538a3d60>,\n",
       " <matplotlib.lines.Line2D at 0x28d538a3e20>,\n",
       " <matplotlib.lines.Line2D at 0x28d538a3ee0>,\n",
       " <matplotlib.lines.Line2D at 0x28d538a3fa0>,\n",
       " <matplotlib.lines.Line2D at 0x28d538b10a0>,\n",
       " <matplotlib.lines.Line2D at 0x28d538b1160>]"
      ]
     },
     "execution_count": 9,
     "metadata": {},
     "output_type": "execute_result"
    },
    {
     "data": {
      "image/png": "[encoded data removed]",
      "text/plain": [
       "<Figure size 432x288 with 1 Axes>"
      ]
     },
     "metadata": {
      "needs_background": "light"
     },
     "output_type": "display_data"
    }
   ],
   "source": [
    "# Scale your data\n",
    "from sklearn.preprocessing import MinMaxScaler, LabelEncoder\n",
    "from tensorflow.keras.utils import to_categorical\n",
    "X_scaler = MinMaxScaler().fit(X_train)\n",
    "X_train_scaled = X_scaler.transform(X_train)\n",
    "X_test_scaled = X_scaler.transform(X_test)\n",
    "\n",
    "# inspect the scaled data to see how the feature values have been scaled\n",
    "print(X_train_scaled[0])\n",
    "\n",
    "# Plot the scaled data\n",
    "import matplotlib.pyplot as plt \n",
    "plt.plot(X_train_scaled)"
   ]
  },
  {
   "cell_type": "markdown",
   "metadata": {},
   "source": [
    "## Train The Model"
   ]
  },
  {
   "cell_type": "code",
   "execution_count": 13,
   "metadata": {},
   "outputs": [
    {
     "name": "stdout",
     "output_type": "stream",
     "text": [
      "Training Data Score: 0.90625\n",
      "Testing Data Score: 0.6666666666666666\n"
     ]
    }
   ],
   "source": [
    "# Random Forest Classifier model for training\n",
    "from sklearn.ensemble import RandomForestClassifier\n",
    "clf = RandomForestClassifier(n_estimators=100, bootstrap=True, max_depth=3, min_samples_split=8)\n",
    "clf = clf.fit(X_train_scaled, y_train)\n",
    "\n",
    "print(f\"Training Data Score: {clf.score(X_train_scaled, y_train)}\")\n",
    "print(f\"Testing Data Score: {clf.score(X_test_scaled, y_test)}\")"
   ]
  },
  {
   "cell_type": "code",
   "execution_count": 14,
   "metadata": {},
   "outputs": [
    {
     "name": "stdout",
     "output_type": "stream",
     "text": [
      "Training Data Score: 0.90625\n",
      "Testing Data Score: 0.6666666666666666\n"
     ]
    }
   ],
   "source": [
    "# Random Forest Classifier model for training\n",
    "from sklearn.ensemble import RandomForestClassifier\n",
    "clf = RandomForestClassifier(n_estimators=10, bootstrap= True, max_depth= 10, min_samples_split= 8)\n",
    "clf = clf.fit(X_train_scaled, y_train)\n",
    "print(f\"Training Data Score: {clf.score(X_train_scaled, y_train)}\")\n",
    "print(f\"Testing Data Score: {clf.score(X_test_scaled, y_test)}\")"
   ]
  },
  {
   "cell_type": "code",
   "execution_count": 37,
   "metadata": {},
   "outputs": [
    {
     "name": "stdout",
     "output_type": "stream",
     "text": [
      "Training Data Score: 0.6643026004728132\n",
      "Testing Data Score: 0.6263736263736264\n"
     ]
    }
   ],
   "source": [
    "# Random Forest Classifier model for training\n",
    "# All features\n",
    "from sklearn.ensemble import RandomForestClassifier\n",
    "clf = RandomForestClassifier(n_estimators=100, bootstrap=True, max_depth=3, min_samples_split=8)\n",
    "clf = clf.fit(X_train_scaled, y_train)\n",
    "\n",
    "print(f\"Training Data Score: {clf.score(X_train_scaled, y_train)}\")\n",
    "print(f\"Testing Data Score: {clf.score(X_test_scaled, y_test)}\")"
   ]
  },
  {
   "cell_type": "markdown",
   "metadata": {},
   "source": [
    "## Hyperparameter Tuning\n",
    "\n",
    "Use `GridSearchCV` to tune the model's parameters"
   ]
  },
  {
   "cell_type": "code",
   "execution_count": 14,
   "metadata": {},
   "outputs": [
    {
     "data": {
      "text/plain": [
       "dict_keys(['bootstrap', 'ccp_alpha', 'class_weight', 'criterion', 'max_depth', 'max_features', 'max_leaf_nodes', 'max_samples', 'min_impurity_decrease', 'min_impurity_split', 'min_samples_leaf', 'min_samples_split', 'min_weight_fraction_leaf', 'n_estimators', 'n_jobs', 'oob_score', 'random_state', 'verbose', 'warm_start'])"
      ]
     },
     "execution_count": 14,
     "metadata": {},
     "output_type": "execute_result"
    }
   ],
   "source": [
    "# Create the GridSearchCV model\n",
    "# Create the GridSearch estimator along with a parameter object containing the values to adjust\n",
    "from sklearn.model_selection import GridSearchCV\n",
    "param_grid={'bootstrap': [True], 'n_estimators' : [10, 50, 100, 200],\n",
    "'min_samples_split' : range(8, 10, 20),'max_depth': [3, 10, 20, 40]}\n",
    "grid = GridSearchCV(clf, param_grid, verbose=3)\n",
    "\n",
    "# To get list of parameters you can tune\n",
    "clf.get_params().keys()\n",
    "# grid.fit(X_train_scaled, y_train)"
   ]
  },
  {
   "cell_type": "code",
   "execution_count": 15,
   "metadata": {},
   "outputs": [
    {
     "name": "stdout",
     "output_type": "stream",
     "text": [
      "Fitting 5 folds for each of 16 candidates, totalling 80 fits\n",
      "[CV] bootstrap=True, max_depth=3, min_samples_split=8, n_estimators=10 \n",
      "[CV]  bootstrap=True, max_depth=3, min_samples_split=8, n_estimators=10, score=0.447, total=   0.0s\n",
      "[CV] bootstrap=True, max_depth=3, min_samples_split=8, n_estimators=10 \n",
      "[CV]  bootstrap=True, max_depth=3, min_samples_split=8, n_estimators=10, score=0.518, total=   0.0s\n",
      "[CV] bootstrap=True, max_depth=3, min_samples_split=8, n_estimators=10 \n",
      "[CV]  bootstrap=True, max_depth=3, min_samples_split=8, n_estimators=10, score=0.424, total=   0.0s\n",
      "[CV] bootstrap=True, max_depth=3, min_samples_split=8, n_estimators=10 \n",
      "[CV]  bootstrap=True, max_depth=3, min_samples_split=8, n_estimators=10, score=0.524, total=   0.0s\n",
      "[CV] bootstrap=True, max_depth=3, min_samples_split=8, n_estimators=10 \n",
      "[CV]  bootstrap=True, max_depth=3, min_samples_split=8, n_estimators=10, score=0.560, total=   0.0s\n",
      "[CV] bootstrap=True, max_depth=3, min_samples_split=8, n_estimators=50 \n",
      "[CV]  bootstrap=True, max_depth=3, min_samples_split=8, n_estimators=50, score=0.529, total=   0.1s\n",
      "[CV] bootstrap=True, max_depth=3, min_samples_split=8, n_estimators=50 \n",
      "[CV]  bootstrap=True, max_depth=3, min_samples_split=8, n_estimators=50, score=0.576, total=   0.1s\n",
      "[CV] bootstrap=True, max_depth=3, min_samples_split=8, n_estimators=50 \n"
     ]
    },
    {
     "name": "stderr",
     "output_type": "stream",
     "text": [
      "[Parallel(n_jobs=1)]: Using backend SequentialBackend with 1 concurrent workers.\n",
      "[Parallel(n_jobs=1)]: Done   1 out of   1 | elapsed:    0.0s remaining:    0.0s\n",
      "[Parallel(n_jobs=1)]: Done   2 out of   2 | elapsed:    0.0s remaining:    0.0s\n"
     ]
    },
    {
     "name": "stdout",
     "output_type": "stream",
     "text": [
      "[CV]  bootstrap=True, max_depth=3, min_samples_split=8, n_estimators=50, score=0.471, total=   0.1s\n",
      "[CV] bootstrap=True, max_depth=3, min_samples_split=8, n_estimators=50 \n",
      "[CV]  bootstrap=True, max_depth=3, min_samples_split=8, n_estimators=50, score=0.512, total=   0.1s\n",
      "[CV] bootstrap=True, max_depth=3, min_samples_split=8, n_estimators=50 \n",
      "[CV]  bootstrap=True, max_depth=3, min_samples_split=8, n_estimators=50, score=0.524, total=   0.1s\n",
      "[CV] bootstrap=True, max_depth=3, min_samples_split=8, n_estimators=100 \n",
      "[CV]  bootstrap=True, max_depth=3, min_samples_split=8, n_estimators=100, score=0.506, total=   0.1s\n",
      "[CV] bootstrap=True, max_depth=3, min_samples_split=8, n_estimators=100 \n",
      "[CV]  bootstrap=True, max_depth=3, min_samples_split=8, n_estimators=100, score=0.494, total=   0.1s\n",
      "[CV] bootstrap=True, max_depth=3, min_samples_split=8, n_estimators=100 \n",
      "[CV]  bootstrap=True, max_depth=3, min_samples_split=8, n_estimators=100, score=0.424, total=   0.1s\n",
      "[CV] bootstrap=True, max_depth=3, min_samples_split=8, n_estimators=100 \n",
      "[CV]  bootstrap=True, max_depth=3, min_samples_split=8, n_estimators=100, score=0.536, total=   0.1s\n",
      "[CV] bootstrap=True, max_depth=3, min_samples_split=8, n_estimators=100 \n",
      "[CV]  bootstrap=True, max_depth=3, min_samples_split=8, n_estimators=100, score=0.524, total=   0.1s\n",
      "[CV] bootstrap=True, max_depth=3, min_samples_split=8, n_estimators=200 \n",
      "[CV]  bootstrap=True, max_depth=3, min_samples_split=8, n_estimators=200, score=0.518, total=   0.3s\n",
      "[CV] bootstrap=True, max_depth=3, min_samples_split=8, n_estimators=200 \n",
      "[CV]  bootstrap=True, max_depth=3, min_samples_split=8, n_estimators=200, score=0.529, total=   0.3s\n",
      "[CV] bootstrap=True, max_depth=3, min_samples_split=8, n_estimators=200 \n",
      "[CV]  bootstrap=True, max_depth=3, min_samples_split=8, n_estimators=200, score=0.447, total=   0.3s\n",
      "[CV] bootstrap=True, max_depth=3, min_samples_split=8, n_estimators=200 \n",
      "[CV]  bootstrap=True, max_depth=3, min_samples_split=8, n_estimators=200, score=0.548, total=   0.2s\n",
      "[CV] bootstrap=True, max_depth=3, min_samples_split=8, n_estimators=200 \n",
      "[CV]  bootstrap=True, max_depth=3, min_samples_split=8, n_estimators=200, score=0.476, total=   0.2s\n",
      "[CV] bootstrap=True, max_depth=10, min_samples_split=8, n_estimators=10 \n",
      "[CV]  bootstrap=True, max_depth=10, min_samples_split=8, n_estimators=10, score=0.529, total=   0.0s\n",
      "[CV] bootstrap=True, max_depth=10, min_samples_split=8, n_estimators=10 \n",
      "[CV]  bootstrap=True, max_depth=10, min_samples_split=8, n_estimators=10, score=0.494, total=   0.0s\n",
      "[CV] bootstrap=True, max_depth=10, min_samples_split=8, n_estimators=10 \n",
      "[CV]  bootstrap=True, max_depth=10, min_samples_split=8, n_estimators=10, score=0.518, total=   0.0s\n",
      "[CV] bootstrap=True, max_depth=10, min_samples_split=8, n_estimators=10 \n",
      "[CV]  bootstrap=True, max_depth=10, min_samples_split=8, n_estimators=10, score=0.464, total=   0.0s\n",
      "[CV] bootstrap=True, max_depth=10, min_samples_split=8, n_estimators=10 \n",
      "[CV]  bootstrap=True, max_depth=10, min_samples_split=8, n_estimators=10, score=0.512, total=   0.0s\n",
      "[CV] bootstrap=True, max_depth=10, min_samples_split=8, n_estimators=50 \n",
      "[CV]  bootstrap=True, max_depth=10, min_samples_split=8, n_estimators=50, score=0.529, total=   0.1s\n",
      "[CV] bootstrap=True, max_depth=10, min_samples_split=8, n_estimators=50 \n",
      "[CV]  bootstrap=True, max_depth=10, min_samples_split=8, n_estimators=50, score=0.565, total=   0.1s\n",
      "[CV] bootstrap=True, max_depth=10, min_samples_split=8, n_estimators=50 \n",
      "[CV]  bootstrap=True, max_depth=10, min_samples_split=8, n_estimators=50, score=0.518, total=   0.1s\n",
      "[CV] bootstrap=True, max_depth=10, min_samples_split=8, n_estimators=50 \n",
      "[CV]  bootstrap=True, max_depth=10, min_samples_split=8, n_estimators=50, score=0.536, total=   0.1s\n",
      "[CV] bootstrap=True, max_depth=10, min_samples_split=8, n_estimators=50 \n",
      "[CV]  bootstrap=True, max_depth=10, min_samples_split=8, n_estimators=50, score=0.500, total=   0.1s\n",
      "[CV] bootstrap=True, max_depth=10, min_samples_split=8, n_estimators=100 \n",
      "[CV]  bootstrap=True, max_depth=10, min_samples_split=8, n_estimators=100, score=0.506, total=   0.1s\n",
      "[CV] bootstrap=True, max_depth=10, min_samples_split=8, n_estimators=100 \n",
      "[CV]  bootstrap=True, max_depth=10, min_samples_split=8, n_estimators=100, score=0.588, total=   0.1s\n",
      "[CV] bootstrap=True, max_depth=10, min_samples_split=8, n_estimators=100 \n",
      "[CV]  bootstrap=True, max_depth=10, min_samples_split=8, n_estimators=100, score=0.482, total=   0.1s\n",
      "[CV] bootstrap=True, max_depth=10, min_samples_split=8, n_estimators=100 \n",
      "[CV]  bootstrap=True, max_depth=10, min_samples_split=8, n_estimators=100, score=0.536, total=   0.1s\n",
      "[CV] bootstrap=True, max_depth=10, min_samples_split=8, n_estimators=100 \n",
      "[CV]  bootstrap=True, max_depth=10, min_samples_split=8, n_estimators=100, score=0.536, total=   0.1s\n",
      "[CV] bootstrap=True, max_depth=10, min_samples_split=8, n_estimators=200 \n",
      "[CV]  bootstrap=True, max_depth=10, min_samples_split=8, n_estimators=200, score=0.435, total=   0.3s\n",
      "[CV] bootstrap=True, max_depth=10, min_samples_split=8, n_estimators=200 \n",
      "[CV]  bootstrap=True, max_depth=10, min_samples_split=8, n_estimators=200, score=0.612, total=   0.3s\n",
      "[CV] bootstrap=True, max_depth=10, min_samples_split=8, n_estimators=200 \n",
      "[CV]  bootstrap=True, max_depth=10, min_samples_split=8, n_estimators=200, score=0.471, total=   0.3s\n",
      "[CV] bootstrap=True, max_depth=10, min_samples_split=8, n_estimators=200 \n",
      "[CV]  bootstrap=True, max_depth=10, min_samples_split=8, n_estimators=200, score=0.500, total=   0.3s\n",
      "[CV] bootstrap=True, max_depth=10, min_samples_split=8, n_estimators=200 \n",
      "[CV]  bootstrap=True, max_depth=10, min_samples_split=8, n_estimators=200, score=0.500, total=   0.3s\n",
      "[CV] bootstrap=True, max_depth=20, min_samples_split=8, n_estimators=10 \n",
      "[CV]  bootstrap=True, max_depth=20, min_samples_split=8, n_estimators=10, score=0.482, total=   0.0s\n",
      "[CV] bootstrap=True, max_depth=20, min_samples_split=8, n_estimators=10 \n",
      "[CV]  bootstrap=True, max_depth=20, min_samples_split=8, n_estimators=10, score=0.482, total=   0.0s\n",
      "[CV] bootstrap=True, max_depth=20, min_samples_split=8, n_estimators=10 \n",
      "[CV]  bootstrap=True, max_depth=20, min_samples_split=8, n_estimators=10, score=0.459, total=   0.0s\n",
      "[CV] bootstrap=True, max_depth=20, min_samples_split=8, n_estimators=10 \n",
      "[CV]  bootstrap=True, max_depth=20, min_samples_split=8, n_estimators=10, score=0.571, total=   0.0s\n",
      "[CV] bootstrap=True, max_depth=20, min_samples_split=8, n_estimators=10 \n",
      "[CV]  bootstrap=True, max_depth=20, min_samples_split=8, n_estimators=10, score=0.512, total=   0.0s\n",
      "[CV] bootstrap=True, max_depth=20, min_samples_split=8, n_estimators=50 \n",
      "[CV]  bootstrap=True, max_depth=20, min_samples_split=8, n_estimators=50, score=0.459, total=   0.1s\n",
      "[CV] bootstrap=True, max_depth=20, min_samples_split=8, n_estimators=50 \n",
      "[CV]  bootstrap=True, max_depth=20, min_samples_split=8, n_estimators=50, score=0.518, total=   0.1s\n",
      "[CV] bootstrap=True, max_depth=20, min_samples_split=8, n_estimators=50 \n",
      "[CV]  bootstrap=True, max_depth=20, min_samples_split=8, n_estimators=50, score=0.424, total=   0.1s\n",
      "[CV] bootstrap=True, max_depth=20, min_samples_split=8, n_estimators=50 \n",
      "[CV]  bootstrap=True, max_depth=20, min_samples_split=8, n_estimators=50, score=0.512, total=   0.1s\n",
      "[CV] bootstrap=True, max_depth=20, min_samples_split=8, n_estimators=50 \n",
      "[CV]  bootstrap=True, max_depth=20, min_samples_split=8, n_estimators=50, score=0.488, total=   0.1s\n",
      "[CV] bootstrap=True, max_depth=20, min_samples_split=8, n_estimators=100 \n",
      "[CV]  bootstrap=True, max_depth=20, min_samples_split=8, n_estimators=100, score=0.494, total=   0.1s\n",
      "[CV] bootstrap=True, max_depth=20, min_samples_split=8, n_estimators=100 \n",
      "[CV]  bootstrap=True, max_depth=20, min_samples_split=8, n_estimators=100, score=0.588, total=   0.1s\n",
      "[CV] bootstrap=True, max_depth=20, min_samples_split=8, n_estimators=100 \n",
      "[CV]  bootstrap=True, max_depth=20, min_samples_split=8, n_estimators=100, score=0.482, total=   0.1s\n",
      "[CV] bootstrap=True, max_depth=20, min_samples_split=8, n_estimators=100 \n",
      "[CV]  bootstrap=True, max_depth=20, min_samples_split=8, n_estimators=100, score=0.583, total=   0.1s\n",
      "[CV] bootstrap=True, max_depth=20, min_samples_split=8, n_estimators=100 \n"
     ]
    },
    {
     "name": "stdout",
     "output_type": "stream",
     "text": [
      "[CV]  bootstrap=True, max_depth=20, min_samples_split=8, n_estimators=100, score=0.476, total=   0.1s\n",
      "[CV] bootstrap=True, max_depth=20, min_samples_split=8, n_estimators=200 \n",
      "[CV]  bootstrap=True, max_depth=20, min_samples_split=8, n_estimators=200, score=0.447, total=   0.3s\n",
      "[CV] bootstrap=True, max_depth=20, min_samples_split=8, n_estimators=200 \n",
      "[CV]  bootstrap=True, max_depth=20, min_samples_split=8, n_estimators=200, score=0.588, total=   0.3s\n",
      "[CV] bootstrap=True, max_depth=20, min_samples_split=8, n_estimators=200 \n",
      "[CV]  bootstrap=True, max_depth=20, min_samples_split=8, n_estimators=200, score=0.471, total=   0.3s\n",
      "[CV] bootstrap=True, max_depth=20, min_samples_split=8, n_estimators=200 \n",
      "[CV]  bootstrap=True, max_depth=20, min_samples_split=8, n_estimators=200, score=0.512, total=   0.3s\n",
      "[CV] bootstrap=True, max_depth=20, min_samples_split=8, n_estimators=200 \n",
      "[CV]  bootstrap=True, max_depth=20, min_samples_split=8, n_estimators=200, score=0.488, total=   0.3s\n",
      "[CV] bootstrap=True, max_depth=40, min_samples_split=8, n_estimators=10 \n",
      "[CV]  bootstrap=True, max_depth=40, min_samples_split=8, n_estimators=10, score=0.518, total=   0.0s\n",
      "[CV] bootstrap=True, max_depth=40, min_samples_split=8, n_estimators=10 \n",
      "[CV]  bootstrap=True, max_depth=40, min_samples_split=8, n_estimators=10, score=0.471, total=   0.0s\n",
      "[CV] bootstrap=True, max_depth=40, min_samples_split=8, n_estimators=10 \n",
      "[CV]  bootstrap=True, max_depth=40, min_samples_split=8, n_estimators=10, score=0.412, total=   0.0s\n",
      "[CV] bootstrap=True, max_depth=40, min_samples_split=8, n_estimators=10 \n",
      "[CV]  bootstrap=True, max_depth=40, min_samples_split=8, n_estimators=10, score=0.536, total=   0.0s\n",
      "[CV] bootstrap=True, max_depth=40, min_samples_split=8, n_estimators=10 \n",
      "[CV]  bootstrap=True, max_depth=40, min_samples_split=8, n_estimators=10, score=0.476, total=   0.0s\n",
      "[CV] bootstrap=True, max_depth=40, min_samples_split=8, n_estimators=50 \n",
      "[CV]  bootstrap=True, max_depth=40, min_samples_split=8, n_estimators=50, score=0.506, total=   0.1s\n",
      "[CV] bootstrap=True, max_depth=40, min_samples_split=8, n_estimators=50 \n",
      "[CV]  bootstrap=True, max_depth=40, min_samples_split=8, n_estimators=50, score=0.576, total=   0.1s\n",
      "[CV] bootstrap=True, max_depth=40, min_samples_split=8, n_estimators=50 \n",
      "[CV]  bootstrap=True, max_depth=40, min_samples_split=8, n_estimators=50, score=0.471, total=   0.1s\n",
      "[CV] bootstrap=True, max_depth=40, min_samples_split=8, n_estimators=50 \n",
      "[CV]  bootstrap=True, max_depth=40, min_samples_split=8, n_estimators=50, score=0.548, total=   0.1s\n",
      "[CV] bootstrap=True, max_depth=40, min_samples_split=8, n_estimators=50 \n",
      "[CV]  bootstrap=True, max_depth=40, min_samples_split=8, n_estimators=50, score=0.536, total=   0.1s\n",
      "[CV] bootstrap=True, max_depth=40, min_samples_split=8, n_estimators=100 \n",
      "[CV]  bootstrap=True, max_depth=40, min_samples_split=8, n_estimators=100, score=0.471, total=   0.1s\n",
      "[CV] bootstrap=True, max_depth=40, min_samples_split=8, n_estimators=100 \n",
      "[CV]  bootstrap=True, max_depth=40, min_samples_split=8, n_estimators=100, score=0.600, total=   0.1s\n",
      "[CV] bootstrap=True, max_depth=40, min_samples_split=8, n_estimators=100 \n",
      "[CV]  bootstrap=True, max_depth=40, min_samples_split=8, n_estimators=100, score=0.459, total=   0.1s\n",
      "[CV] bootstrap=True, max_depth=40, min_samples_split=8, n_estimators=100 \n",
      "[CV]  bootstrap=True, max_depth=40, min_samples_split=8, n_estimators=100, score=0.536, total=   0.1s\n",
      "[CV] bootstrap=True, max_depth=40, min_samples_split=8, n_estimators=100 \n",
      "[CV]  bootstrap=True, max_depth=40, min_samples_split=8, n_estimators=100, score=0.500, total=   0.1s\n",
      "[CV] bootstrap=True, max_depth=40, min_samples_split=8, n_estimators=200 \n",
      "[CV]  bootstrap=True, max_depth=40, min_samples_split=8, n_estimators=200, score=0.471, total=   0.3s\n",
      "[CV] bootstrap=True, max_depth=40, min_samples_split=8, n_estimators=200 \n",
      "[CV]  bootstrap=True, max_depth=40, min_samples_split=8, n_estimators=200, score=0.565, total=   0.3s\n",
      "[CV] bootstrap=True, max_depth=40, min_samples_split=8, n_estimators=200 \n",
      "[CV]  bootstrap=True, max_depth=40, min_samples_split=8, n_estimators=200, score=0.541, total=   0.3s\n",
      "[CV] bootstrap=True, max_depth=40, min_samples_split=8, n_estimators=200 \n",
      "[CV]  bootstrap=True, max_depth=40, min_samples_split=8, n_estimators=200, score=0.548, total=   0.3s\n",
      "[CV] bootstrap=True, max_depth=40, min_samples_split=8, n_estimators=200 \n",
      "[CV]  bootstrap=True, max_depth=40, min_samples_split=8, n_estimators=200, score=0.476, total=   0.3s\n"
     ]
    },
    {
     "name": "stderr",
     "output_type": "stream",
     "text": [
      "[Parallel(n_jobs=1)]: Done  80 out of  80 | elapsed:    9.5s finished\n"
     ]
    },
    {
     "data": {
      "text/plain": [
       "GridSearchCV(estimator=RandomForestClassifier(max_depth=3, min_samples_split=8),\n",
       "             param_grid={'bootstrap': [True], 'max_depth': [3, 10, 20, 40],\n",
       "                         'min_samples_split': range(8, 10, 20),\n",
       "                         'n_estimators': [10, 50, 100, 200]},\n",
       "             verbose=3)"
      ]
     },
     "execution_count": 15,
     "metadata": {},
     "output_type": "execute_result"
    }
   ],
   "source": [
    "grid.fit(X_train_scaled, y_train)"
   ]
  },
  {
   "cell_type": "code",
   "execution_count": 39,
   "metadata": {},
   "outputs": [
    {
     "name": "stdout",
     "output_type": "stream",
     "text": [
      "{'bootstrap': True, 'max_depth': 3, 'min_samples_split': 8, 'n_estimators': 100}\n",
      "0.5685329996872067\n"
     ]
    }
   ],
   "source": [
    "print(grid.best_params_)\n",
    "print(grid.best_score_)"
   ]
  },
  {
   "cell_type": "markdown",
   "metadata": {},
   "source": [
    "## Original Model - No Tuning Or Feature Selection\n",
    "Training Data Score: 0.624113475177305\n",
    "\n",
    "Testing Data Score: 0.6263736263736264"
   ]
  },
  {
   "cell_type": "markdown",
   "metadata": {},
   "source": [
    "## Hypertuned and Feature Selection Score\n",
    "\n",
    "Training Data Score: 0.5858585858585859\n",
    "\n",
    "Testing Data Score: 0.5268456375838926"
   ]
  },
  {
   "cell_type": "markdown",
   "metadata": {},
   "source": [
    "## Save The Model"
   ]
  },
  {
   "cell_type": "code",
   "execution_count": null,
   "metadata": {},
   "outputs": [],
   "source": [
    "# import joblib\n",
    "# filename = 'model_2_randomforest_extratreeclassifer.h5'\n",
    "# joblib.dump(clf, filename)"
   ]
  }
 ],
 "metadata": {
  "kernelspec": {
   "display_name": "Python 3",
   "language": "python",
   "name": "python3"
  },
  "language_info": {
   "codemirror_mode": {
    "name": "ipython",
    "version": 3
   },
   "file_extension": ".py",
   "mimetype": "text/x-python",
   "name": "python",
   "nbconvert_exporter": "python",
   "pygments_lexer": "ipython3",
   "version": "3.8.3"
  }
 },
 "nbformat": 4,
 "nbformat_minor": 4
}
