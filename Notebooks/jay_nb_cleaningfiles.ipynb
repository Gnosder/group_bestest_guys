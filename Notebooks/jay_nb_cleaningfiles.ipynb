{
 "cells": [
  {
   "cell_type": "code",
   "execution_count": 1,
   "metadata": {},
   "outputs": [],
   "source": [
    "import pandas as pd \n",
    "import numpy as np"
   ]
  },
  {
   "cell_type": "code",
   "execution_count": 2,
   "metadata": {},
   "outputs": [],
   "source": [
    "tweet_df = pd.read_csv('../data/trump_tweets_jay.csv')\n",
    "hedo_df = pd.read_csv('../data/word_sentiment_rating.csv')\n",
    "tweet_df_scores = pd.read_csv('../data/tweet_df_cleaned.csv')\n",
    "tweet_df2 = pd.read_csv('../data/tweet_df_cleaned_w_sentiment.csv')"
   ]
  },
  {
   "cell_type": "markdown",
   "metadata": {},
   "source": [
    "## Tweet dataframe "
   ]
  },
  {
   "cell_type": "code",
   "execution_count": 3,
   "metadata": {
    "scrolled": true
   },
   "outputs": [
    {
     "name": "stdout",
     "output_type": "stream",
     "text": [
      "(54442, 8)\n"
     ]
    },
    {
     "data": {
      "text/html": [
       "<div>\n",
       "<style scoped>\n",
       "    .dataframe tbody tr th:only-of-type {\n",
       "        vertical-align: middle;\n",
       "    }\n",
       "\n",
       "    .dataframe tbody tr th {\n",
       "        vertical-align: top;\n",
       "    }\n",
       "\n",
       "    .dataframe thead th {\n",
       "        text-align: right;\n",
       "    }\n",
       "</style>\n",
       "<table border=\"1\" class=\"dataframe\">\n",
       "  <thead>\n",
       "    <tr style=\"text-align: right;\">\n",
       "      <th></th>\n",
       "      <th>id</th>\n",
       "      <th>text</th>\n",
       "      <th>isRetweet</th>\n",
       "      <th>isDeleted</th>\n",
       "      <th>device</th>\n",
       "      <th>favorites</th>\n",
       "      <th>retweets</th>\n",
       "      <th>date</th>\n",
       "    </tr>\n",
       "  </thead>\n",
       "  <tbody>\n",
       "    <tr>\n",
       "      <th>0</th>\n",
       "      <td>98454970654916608</td>\n",
       "      <td>Republicans and Democrats have both created ou...</td>\n",
       "      <td>f</td>\n",
       "      <td>f</td>\n",
       "      <td>TweetDeck</td>\n",
       "      <td>49</td>\n",
       "      <td>255</td>\n",
       "      <td>2011-08-02 18:07:48</td>\n",
       "    </tr>\n",
       "    <tr>\n",
       "      <th>1</th>\n",
       "      <td>1234653427789070336</td>\n",
       "      <td>I was thrilled to be back in the Great city of...</td>\n",
       "      <td>f</td>\n",
       "      <td>f</td>\n",
       "      <td>Twitter for iPhone</td>\n",
       "      <td>73748</td>\n",
       "      <td>17404</td>\n",
       "      <td>2020-03-03 01:34:50</td>\n",
       "    </tr>\n",
       "    <tr>\n",
       "      <th>2</th>\n",
       "      <td>1218010753434820614</td>\n",
       "      <td>RT @CBS_Herridge: READ: Letter to surveillance...</td>\n",
       "      <td>t</td>\n",
       "      <td>f</td>\n",
       "      <td>Twitter for iPhone</td>\n",
       "      <td>0</td>\n",
       "      <td>7396</td>\n",
       "      <td>2020-01-17 03:22:47</td>\n",
       "    </tr>\n",
       "    <tr>\n",
       "      <th>3</th>\n",
       "      <td>1304875170860015617</td>\n",
       "      <td>The Unsolicited Mail In Ballot Scam is a major...</td>\n",
       "      <td>f</td>\n",
       "      <td>f</td>\n",
       "      <td>Twitter for iPhone</td>\n",
       "      <td>80527</td>\n",
       "      <td>23502</td>\n",
       "      <td>2020-09-12 20:10:58</td>\n",
       "    </tr>\n",
       "    <tr>\n",
       "      <th>4</th>\n",
       "      <td>1218159531554897920</td>\n",
       "      <td>RT @MZHemingway: Very friendly telling of even...</td>\n",
       "      <td>t</td>\n",
       "      <td>f</td>\n",
       "      <td>Twitter for iPhone</td>\n",
       "      <td>0</td>\n",
       "      <td>9081</td>\n",
       "      <td>2020-01-17 13:13:59</td>\n",
       "    </tr>\n",
       "  </tbody>\n",
       "</table>\n",
       "</div>"
      ],
      "text/plain": [
       "                    id                                               text  \\\n",
       "0    98454970654916608  Republicans and Democrats have both created ou...   \n",
       "1  1234653427789070336  I was thrilled to be back in the Great city of...   \n",
       "2  1218010753434820614  RT @CBS_Herridge: READ: Letter to surveillance...   \n",
       "3  1304875170860015617  The Unsolicited Mail In Ballot Scam is a major...   \n",
       "4  1218159531554897920  RT @MZHemingway: Very friendly telling of even...   \n",
       "\n",
       "  isRetweet isDeleted              device  favorites  retweets  \\\n",
       "0         f         f           TweetDeck         49       255   \n",
       "1         f         f  Twitter for iPhone      73748     17404   \n",
       "2         t         f  Twitter for iPhone          0      7396   \n",
       "3         f         f  Twitter for iPhone      80527     23502   \n",
       "4         t         f  Twitter for iPhone          0      9081   \n",
       "\n",
       "                  date  \n",
       "0  2011-08-02 18:07:48  \n",
       "1  2020-03-03 01:34:50  \n",
       "2  2020-01-17 03:22:47  \n",
       "3  2020-09-12 20:10:58  \n",
       "4  2020-01-17 13:13:59  "
      ]
     },
     "execution_count": 3,
     "metadata": {},
     "output_type": "execute_result"
    }
   ],
   "source": [
    "# check for content and shape\n",
    "print(tweet_df.shape)\n",
    "tweet_df.head()"
   ]
  },
  {
   "cell_type": "code",
   "execution_count": 4,
   "metadata": {},
   "outputs": [
    {
     "data": {
      "text/plain": [
       "(45270, 8)"
      ]
     },
     "execution_count": 4,
     "metadata": {},
     "output_type": "execute_result"
    }
   ],
   "source": [
    "# compare tweet list with no re-tweets\n",
    "no_retweets = tweet_df['isRetweet'] == 'f'\n",
    "tweet_df[no_retweets].shape"
   ]
  },
  {
   "cell_type": "code",
   "execution_count": 8,
   "metadata": {},
   "outputs": [
    {
     "data": {
      "text/html": [
       "<div>\n",
       "<style scoped>\n",
       "    .dataframe tbody tr th:only-of-type {\n",
       "        vertical-align: middle;\n",
       "    }\n",
       "\n",
       "    .dataframe tbody tr th {\n",
       "        vertical-align: top;\n",
       "    }\n",
       "\n",
       "    .dataframe thead th {\n",
       "        text-align: right;\n",
       "    }\n",
       "</style>\n",
       "<table border=\"1\" class=\"dataframe\">\n",
       "  <thead>\n",
       "    <tr style=\"text-align: right;\">\n",
       "      <th></th>\n",
       "      <th>id</th>\n",
       "      <th>text</th>\n",
       "      <th>isRetweet</th>\n",
       "      <th>isDeleted</th>\n",
       "      <th>device</th>\n",
       "      <th>favorites</th>\n",
       "      <th>retweets</th>\n",
       "      <th>date</th>\n",
       "      <th>word_and_scores</th>\n",
       "      <th>scores_only</th>\n",
       "      <th>avg_scores</th>\n",
       "      <th>sum_scores</th>\n",
       "      <th>sentiment_category</th>\n",
       "      <th>word_count</th>\n",
       "    </tr>\n",
       "  </thead>\n",
       "  <tbody>\n",
       "    <tr>\n",
       "      <th>50</th>\n",
       "      <td>1230137051393089539</td>\n",
       "      <td>RT @RepMarkMeadows: The FBI lied to the FISA C...</td>\n",
       "      <td>t</td>\n",
       "      <td>f</td>\n",
       "      <td>Twitter for iPhone</td>\n",
       "      <td>0</td>\n",
       "      <td>9875</td>\n",
       "      <td>2020-02-19 14:28:22</td>\n",
       "      <td>[('RT', 4.88), ('The', 4.98), ('FBI', 4.32), (...</td>\n",
       "      <td>[4.88, 4.98, 4.32, 2.82, 3.78, 5.58, 5.0, 3.18...</td>\n",
       "      <td>4.652000</td>\n",
       "      <td>46.52</td>\n",
       "      <td>negative</td>\n",
       "      <td>58</td>\n",
       "    </tr>\n",
       "    <tr>\n",
       "      <th>67</th>\n",
       "      <td>1221159407121203200</td>\n",
       "      <td>RT @RepMarkMeadows: There is no other way to s...</td>\n",
       "      <td>t</td>\n",
       "      <td>f</td>\n",
       "      <td>Twitter for iPhone</td>\n",
       "      <td>0</td>\n",
       "      <td>17621</td>\n",
       "      <td>2020-01-25 19:54:25</td>\n",
       "      <td>[('RT', 4.88), ('There', 5.1), ('way', 5.24), ...</td>\n",
       "      <td>[4.88, 5.1, 5.24, 5.64, 4.98, 5.68, 6.22, 5.86...</td>\n",
       "      <td>5.576364</td>\n",
       "      <td>61.34</td>\n",
       "      <td>positive</td>\n",
       "      <td>64</td>\n",
       "    </tr>\n",
       "    <tr>\n",
       "      <th>70</th>\n",
       "      <td>1241354162144784384</td>\n",
       "      <td>Great story. Thank you to Mr. Young of Jonesbo...</td>\n",
       "      <td>f</td>\n",
       "      <td>f</td>\n",
       "      <td>Twitter for iPhone</td>\n",
       "      <td>47132</td>\n",
       "      <td>10999</td>\n",
       "      <td>2020-03-21 13:21:10</td>\n",
       "      <td>[('Great', 7.88), ('story', 6.48), ('Thank', 7...</td>\n",
       "      <td>[7.88, 6.48, 7.4, 6.82, 5.4]</td>\n",
       "      <td>6.796000</td>\n",
       "      <td>33.98</td>\n",
       "      <td>positive</td>\n",
       "      <td>28</td>\n",
       "    </tr>\n",
       "    <tr>\n",
       "      <th>156</th>\n",
       "      <td>1285520211593105413</td>\n",
       "      <td>Thank you for the good reviews and comments on...</td>\n",
       "      <td>f</td>\n",
       "      <td>f</td>\n",
       "      <td>Twitter for iPhone</td>\n",
       "      <td>99507</td>\n",
       "      <td>18215</td>\n",
       "      <td>2020-07-21 10:21:16</td>\n",
       "      <td>[('Thank', 7.4), ('good', 7.2), ('reviews', 5....</td>\n",
       "      <td>[7.4, 7.2, 5.3, 5.62, 5.06, 5.22, 4.78, 6.38, ...</td>\n",
       "      <td>5.735556</td>\n",
       "      <td>103.24</td>\n",
       "      <td>positive</td>\n",
       "      <td>105</td>\n",
       "    </tr>\n",
       "    <tr>\n",
       "      <th>197</th>\n",
       "      <td>1254077550541844480</td>\n",
       "      <td>If the Wall Street Journal “Editorial” writers...</td>\n",
       "      <td>f</td>\n",
       "      <td>f</td>\n",
       "      <td>Twitter for iPhone</td>\n",
       "      <td>103683</td>\n",
       "      <td>21083</td>\n",
       "      <td>2020-04-25 15:59:22</td>\n",
       "      <td>[('If', 4.66), ('Wall', 4.98), ('Street', 5.44...</td>\n",
       "      <td>[4.66, 4.98, 5.44, 5.7, 5.34, 6.32, 5.6, 5.38,...</td>\n",
       "      <td>5.502727</td>\n",
       "      <td>121.06</td>\n",
       "      <td>positive</td>\n",
       "      <td>127</td>\n",
       "    </tr>\n",
       "  </tbody>\n",
       "</table>\n",
       "</div>"
      ],
      "text/plain": [
       "                      id                                               text  \\\n",
       "50   1230137051393089539  RT @RepMarkMeadows: The FBI lied to the FISA C...   \n",
       "67   1221159407121203200  RT @RepMarkMeadows: There is no other way to s...   \n",
       "70   1241354162144784384  Great story. Thank you to Mr. Young of Jonesbo...   \n",
       "156  1285520211593105413  Thank you for the good reviews and comments on...   \n",
       "197  1254077550541844480  If the Wall Street Journal “Editorial” writers...   \n",
       "\n",
       "    isRetweet isDeleted              device  favorites  retweets  \\\n",
       "50          t         f  Twitter for iPhone          0      9875   \n",
       "67          t         f  Twitter for iPhone          0     17621   \n",
       "70          f         f  Twitter for iPhone      47132     10999   \n",
       "156         f         f  Twitter for iPhone      99507     18215   \n",
       "197         f         f  Twitter for iPhone     103683     21083   \n",
       "\n",
       "                    date                                    word_and_scores  \\\n",
       "50   2020-02-19 14:28:22  [('RT', 4.88), ('The', 4.98), ('FBI', 4.32), (...   \n",
       "67   2020-01-25 19:54:25  [('RT', 4.88), ('There', 5.1), ('way', 5.24), ...   \n",
       "70   2020-03-21 13:21:10  [('Great', 7.88), ('story', 6.48), ('Thank', 7...   \n",
       "156  2020-07-21 10:21:16  [('Thank', 7.4), ('good', 7.2), ('reviews', 5....   \n",
       "197  2020-04-25 15:59:22  [('If', 4.66), ('Wall', 4.98), ('Street', 5.44...   \n",
       "\n",
       "                                           scores_only  avg_scores  \\\n",
       "50   [4.88, 4.98, 4.32, 2.82, 3.78, 5.58, 5.0, 3.18...    4.652000   \n",
       "67   [4.88, 5.1, 5.24, 5.64, 4.98, 5.68, 6.22, 5.86...    5.576364   \n",
       "70                        [7.88, 6.48, 7.4, 6.82, 5.4]    6.796000   \n",
       "156  [7.4, 7.2, 5.3, 5.62, 5.06, 5.22, 4.78, 6.38, ...    5.735556   \n",
       "197  [4.66, 4.98, 5.44, 5.7, 5.34, 6.32, 5.6, 5.38,...    5.502727   \n",
       "\n",
       "     sum_scores sentiment_category  word_count  \n",
       "50        46.52           negative          58  \n",
       "67        61.34           positive          64  \n",
       "70        33.98           positive          28  \n",
       "156      103.24           positive         105  \n",
       "197      121.06           positive         127  "
      ]
     },
     "execution_count": 8,
     "metadata": {},
     "output_type": "execute_result"
    }
   ],
   "source": [
    "keywords = ['stock', 'market', 'economy', 'company', 'bull', 'bear', 'stockmarket', 'wall', 'street', 'wallstreet', 's&p', 'dowjones', 'dow', 'jones', 'stocks']\n",
    "pattern = '|'.join(keywords)\n",
    "new = tweet_df2['text'].str.lower().str.contains(pattern, case=False) \n",
    "\n",
    "tweet_df_filtered = tweet_df2[new]\n",
    "tweet_df_filtered = tweet_df_filtered.drop(['Unnamed: 0', 'Unnamed: 0.1'], axis=1)\n",
    "tweet_df_filtered.head()"
   ]
  },
  {
   "cell_type": "markdown",
   "metadata": {},
   "source": [
    "## The hedonometer word sentiment scores dataframe"
   ]
  },
  {
   "cell_type": "code",
   "execution_count": 9,
   "metadata": {},
   "outputs": [
    {
     "name": "stdout",
     "output_type": "stream",
     "text": [
      "   Unnamed: 0  happs  rank  stdDev            word\n",
      "0           0    5.1  6648    0.99       according\n",
      "1           1    5.1  6649    1.58  administrative\n",
      "2           2    5.1  6650    1.25          albert\n",
      "3           3    5.1  6651    1.31          alleen\n",
      "4           4    5.1  6652    1.30           allen\n",
      "(10187, 5)\n"
     ]
    }
   ],
   "source": [
    "print(hedo_df.head())\n",
    "print(hedo_df.shape)"
   ]
  },
  {
   "cell_type": "markdown",
   "metadata": {},
   "source": [
    "## Tokenize tweets and remove the stopwords to take away \"filler\" type words"
   ]
  },
  {
   "cell_type": "code",
   "execution_count": 6,
   "metadata": {},
   "outputs": [
    {
     "name": "stderr",
     "output_type": "stream",
     "text": [
      "[nltk_data] Downloading package stopwords to\n",
      "[nltk_data]     C:\\Users\\jaysu\\AppData\\Roaming\\nltk_data...\n",
      "[nltk_data]   Package stopwords is already up-to-date!\n",
      "[nltk_data] Downloading package punkt to\n",
      "[nltk_data]     C:\\Users\\jaysu\\AppData\\Roaming\\nltk_data...\n",
      "[nltk_data]   Package punkt is already up-to-date!\n"
     ]
    },
    {
     "data": {
      "text/plain": [
       "True"
      ]
     },
     "execution_count": 6,
     "metadata": {},
     "output_type": "execute_result"
    }
   ],
   "source": [
    "# Use nltk for tokenizer and stopwords removal\n",
    "import nltk\n",
    "from nltk.corpus import stopwords\n",
    "nltk.download('stopwords')\n",
    "from nltk.tokenize import word_tokenize\n",
    "nltk.download('punkt')"
   ]
  },
  {
   "cell_type": "code",
   "execution_count": 7,
   "metadata": {},
   "outputs": [],
   "source": [
    "text_tokens=tweet_df['text'].apply(lambda x: word_tokenize(x))"
   ]
  },
  {
   "cell_type": "code",
   "execution_count": 8,
   "metadata": {},
   "outputs": [
    {
     "data": {
      "text/plain": [
       "['Republicans',\n",
       " 'and',\n",
       " 'Democrats',\n",
       " 'have',\n",
       " 'both',\n",
       " 'created',\n",
       " 'our',\n",
       " 'economic',\n",
       " 'problems',\n",
       " '.']"
      ]
     },
     "execution_count": 8,
     "metadata": {},
     "output_type": "execute_result"
    }
   ],
   "source": [
    "# Notice the structure of the first tweet with \"stopwords\"\n",
    "text_tokens[0]"
   ]
  },
  {
   "cell_type": "code",
   "execution_count": 9,
   "metadata": {},
   "outputs": [],
   "source": [
    "# Tokenize each tweet, remove stopwords, and append into a list to be added to dataframe later\n",
    "tokens = []\n",
    "# Cache the stopword function to speed up runtime. Otherwise the loop will access the method each iteration and slow down for loop. \n",
    "cachedStopWords = stopwords.words('english')\n",
    "for tweet in tweet_df['text']:\n",
    "    text_tokens = word_tokenize(tweet)\n",
    "    token = [word for word in text_tokens if not word in cachedStopWords]\n",
    "    tokens.append(token)\n",
    "#     print(token)"
   ]
  },
  {
   "cell_type": "code",
   "execution_count": 11,
   "metadata": {},
   "outputs": [
    {
     "data": {
      "text/plain": [
       "['Republicans', 'Democrats', 'created', 'economic', 'problems', '.']"
      ]
     },
     "execution_count": 11,
     "metadata": {},
     "output_type": "execute_result"
    }
   ],
   "source": [
    "# Inpsect list object for removal of stopwords\n",
    "tokens[0]"
   ]
  },
  {
   "cell_type": "code",
   "execution_count": 5,
   "metadata": {},
   "outputs": [
    {
     "ename": "NameError",
     "evalue": "name 'tokens' is not defined",
     "output_type": "error",
     "traceback": [
      "\u001b[1;31m---------------------------------------------------------------------------\u001b[0m",
      "\u001b[1;31mNameError\u001b[0m                                 Traceback (most recent call last)",
      "\u001b[1;32m<ipython-input-5-0f316f2974b5>\u001b[0m in \u001b[0;36m<module>\u001b[1;34m\u001b[0m\n\u001b[1;32m----> 1\u001b[1;33m \u001b[0mtweet_df2\u001b[0m\u001b[1;33m[\u001b[0m\u001b[1;34m'tokens'\u001b[0m\u001b[1;33m]\u001b[0m \u001b[1;33m=\u001b[0m \u001b[0mtokens\u001b[0m\u001b[1;33m\u001b[0m\u001b[1;33m\u001b[0m\u001b[0m\n\u001b[0m",
      "\u001b[1;31mNameError\u001b[0m: name 'tokens' is not defined"
     ]
    }
   ],
   "source": [
    "tweet_df2['tokens'] = tokens"
   ]
  },
  {
   "cell_type": "markdown",
   "metadata": {},
   "source": [
    "## Pull the score of tokenize word in each Tweet. Make sure that the list structure is intact."
   ]
  },
  {
   "cell_type": "code",
   "execution_count": 15,
   "metadata": {},
   "outputs": [],
   "source": [
    "# Look through the tokens list and access the value of the word with .loc()\n",
    "# Append words in a tweet list, then append that list to the scores list\n",
    "# Make sure to turn all words into lowercase first to match the hedo_df words\n",
    "word_and_scores = []\n",
    "for token in tokens:\n",
    "    tweet = []\n",
    "    for word in token:\n",
    "        score = hedo_df.loc[hedo_df['word'] == word.lower(), 'happs']\n",
    "        if score.values.size:\n",
    "            tweet.append((word, score.values[0]))\n",
    "#             print(word,score.values[0])\n",
    "    word_and_scores.append(tweet)"
   ]
  },
  {
   "cell_type": "code",
   "execution_count": 16,
   "metadata": {},
   "outputs": [
    {
     "data": {
      "text/plain": [
       "[('Republicans', 4.22),\n",
       " ('Democrats', 5.5),\n",
       " ('created', 6.06),\n",
       " ('economic', 5.36),\n",
       " ('problems', 2.92)]"
      ]
     },
     "execution_count": 16,
     "metadata": {},
     "output_type": "execute_result"
    }
   ],
   "source": [
    "word_and_scores[0]"
   ]
  },
  {
   "cell_type": "code",
   "execution_count": 19,
   "metadata": {},
   "outputs": [],
   "source": [
    "# Populate only the scores of the individual words of each tweet in list of lists\n",
    "scores_only = []\n",
    "for token in tokens:\n",
    "    tweet = []\n",
    "    for word in token:\n",
    "        score = hedo_df.loc[hedo_df['word'] == word.lower(), 'happs']\n",
    "        if score.values.size:\n",
    "            tweet.append(score.values[0])\n",
    "#             print(score.values[0])\n",
    "    scores_only.append(tweet)"
   ]
  },
  {
   "cell_type": "code",
   "execution_count": 20,
   "metadata": {},
   "outputs": [
    {
     "data": {
      "text/plain": [
       "[4.22, 5.5, 6.06, 5.36, 2.92]"
      ]
     },
     "execution_count": 20,
     "metadata": {},
     "output_type": "execute_result"
    }
   ],
   "source": [
    "scores_only[0]"
   ]
  },
  {
   "cell_type": "markdown",
   "metadata": {},
   "source": [
    "## Aggregation functions of the score list - sum and mean"
   ]
  },
  {
   "cell_type": "code",
   "execution_count": 22,
   "metadata": {},
   "outputs": [],
   "source": [
    "# how to .agg() a new colum with mean and sum? \n",
    "import statistics as st\n",
    "sum_scores = [sum(x) for x in scores_only]"
   ]
  },
  {
   "cell_type": "code",
   "execution_count": 23,
   "metadata": {},
   "outputs": [
    {
     "data": {
      "text/plain": [
       "[24.059999999999995,\n",
       " 142.1,\n",
       " 49.019999999999996,\n",
       " 147.05999999999997,\n",
       " 63.41999999999999]"
      ]
     },
     "execution_count": 23,
     "metadata": {},
     "output_type": "execute_result"
    }
   ],
   "source": [
    "sum_scores[:5]"
   ]
  },
  {
   "cell_type": "code",
   "execution_count": 25,
   "metadata": {},
   "outputs": [],
   "source": [
    "# To calculate mean you must create a function with a try/except logic for 'nan' values\n",
    "def check(data):\n",
    "    try:\n",
    "        return st.mean(data)\n",
    "    except:\n",
    "        return np.nan\n",
    "avg_scores = [check(x) for x in scores_only]"
   ]
  },
  {
   "cell_type": "code",
   "execution_count": 26,
   "metadata": {},
   "outputs": [
    {
     "data": {
      "text/plain": [
       "[4.812, 6.459090909090909, 5.446666666666666, 4.902, 5.765454545454546]"
      ]
     },
     "execution_count": 26,
     "metadata": {},
     "output_type": "execute_result"
    }
   ],
   "source": [
    "avg_scores[:5]"
   ]
  },
  {
   "cell_type": "markdown",
   "metadata": {},
   "source": [
    "## Append the tweet dataframe with the new lists"
   ]
  },
  {
   "cell_type": "code",
   "execution_count": 28,
   "metadata": {
    "scrolled": true
   },
   "outputs": [
    {
     "data": {
      "text/html": [
       "<div>\n",
       "<style scoped>\n",
       "    .dataframe tbody tr th:only-of-type {\n",
       "        vertical-align: middle;\n",
       "    }\n",
       "\n",
       "    .dataframe tbody tr th {\n",
       "        vertical-align: top;\n",
       "    }\n",
       "\n",
       "    .dataframe thead th {\n",
       "        text-align: right;\n",
       "    }\n",
       "</style>\n",
       "<table border=\"1\" class=\"dataframe\">\n",
       "  <thead>\n",
       "    <tr style=\"text-align: right;\">\n",
       "      <th></th>\n",
       "      <th>id</th>\n",
       "      <th>text</th>\n",
       "      <th>isRetweet</th>\n",
       "      <th>isDeleted</th>\n",
       "      <th>device</th>\n",
       "      <th>favorites</th>\n",
       "      <th>retweets</th>\n",
       "      <th>date</th>\n",
       "      <th>word_and_scores</th>\n",
       "      <th>scores_only</th>\n",
       "      <th>avg_scores</th>\n",
       "      <th>sum_scores</th>\n",
       "    </tr>\n",
       "  </thead>\n",
       "  <tbody>\n",
       "    <tr>\n",
       "      <th>0</th>\n",
       "      <td>98454970654916608</td>\n",
       "      <td>Republicans and Democrats have both created ou...</td>\n",
       "      <td>f</td>\n",
       "      <td>f</td>\n",
       "      <td>TweetDeck</td>\n",
       "      <td>49</td>\n",
       "      <td>255</td>\n",
       "      <td>2011-08-02 18:07:48</td>\n",
       "      <td>[(Republicans, 4.22), (Democrats, 5.5), (creat...</td>\n",
       "      <td>[4.22, 5.5, 6.06, 5.36, 2.92]</td>\n",
       "      <td>4.812000</td>\n",
       "      <td>24.06</td>\n",
       "    </tr>\n",
       "    <tr>\n",
       "      <th>1</th>\n",
       "      <td>1234653427789070336</td>\n",
       "      <td>I was thrilled to be back in the Great city of...</td>\n",
       "      <td>f</td>\n",
       "      <td>f</td>\n",
       "      <td>Twitter for iPhone</td>\n",
       "      <td>73748</td>\n",
       "      <td>17404</td>\n",
       "      <td>2020-03-03 01:34:50</td>\n",
       "      <td>[(I, 5.92), (back, 5.18), (Great, 7.88), (city...</td>\n",
       "      <td>[5.92, 5.18, 7.88, 5.76, 5.5, 5.52, 5.44, 6.14...</td>\n",
       "      <td>6.459091</td>\n",
       "      <td>142.10</td>\n",
       "    </tr>\n",
       "    <tr>\n",
       "      <th>2</th>\n",
       "      <td>1218010753434820614</td>\n",
       "      <td>RT @CBS_Herridge: READ: Letter to surveillance...</td>\n",
       "      <td>t</td>\n",
       "      <td>f</td>\n",
       "      <td>Twitter for iPhone</td>\n",
       "      <td>0</td>\n",
       "      <td>7396</td>\n",
       "      <td>2020-01-17 03:22:47</td>\n",
       "      <td>[(RT, 4.88), (READ, 6.52), (Letter, 5.94), (co...</td>\n",
       "      <td>[4.88, 6.52, 5.94, 3.78, 6.36, 4.96, 5.6, 5.0,...</td>\n",
       "      <td>5.446667</td>\n",
       "      <td>49.02</td>\n",
       "    </tr>\n",
       "    <tr>\n",
       "      <th>3</th>\n",
       "      <td>1304875170860015617</td>\n",
       "      <td>The Unsolicited Mail In Ballot Scam is a major...</td>\n",
       "      <td>f</td>\n",
       "      <td>f</td>\n",
       "      <td>Twitter for iPhone</td>\n",
       "      <td>80527</td>\n",
       "      <td>23502</td>\n",
       "      <td>2020-09-12 20:10:58</td>\n",
       "      <td>[(The, 4.98), (Mail, 6.36), (In, 5.5), (Ballot...</td>\n",
       "      <td>[4.98, 6.36, 5.5, 5.16, 5.76, 2.36, 6.36, 5.44...</td>\n",
       "      <td>4.902000</td>\n",
       "      <td>147.06</td>\n",
       "    </tr>\n",
       "    <tr>\n",
       "      <th>4</th>\n",
       "      <td>1218159531554897920</td>\n",
       "      <td>RT @MZHemingway: Very friendly telling of even...</td>\n",
       "      <td>t</td>\n",
       "      <td>f</td>\n",
       "      <td>Twitter for iPhone</td>\n",
       "      <td>0</td>\n",
       "      <td>9081</td>\n",
       "      <td>2020-01-17 13:13:59</td>\n",
       "      <td>[(RT, 4.88), (Very, 6.12), (friendly, 7.66), (...</td>\n",
       "      <td>[4.88, 6.12, 7.66, 5.3, 6.26, 4.94, 5.6, 5.62,...</td>\n",
       "      <td>5.765455</td>\n",
       "      <td>63.42</td>\n",
       "    </tr>\n",
       "  </tbody>\n",
       "</table>\n",
       "</div>"
      ],
      "text/plain": [
       "                    id                                               text  \\\n",
       "0    98454970654916608  Republicans and Democrats have both created ou...   \n",
       "1  1234653427789070336  I was thrilled to be back in the Great city of...   \n",
       "2  1218010753434820614  RT @CBS_Herridge: READ: Letter to surveillance...   \n",
       "3  1304875170860015617  The Unsolicited Mail In Ballot Scam is a major...   \n",
       "4  1218159531554897920  RT @MZHemingway: Very friendly telling of even...   \n",
       "\n",
       "  isRetweet isDeleted              device  favorites  retweets  \\\n",
       "0         f         f           TweetDeck         49       255   \n",
       "1         f         f  Twitter for iPhone      73748     17404   \n",
       "2         t         f  Twitter for iPhone          0      7396   \n",
       "3         f         f  Twitter for iPhone      80527     23502   \n",
       "4         t         f  Twitter for iPhone          0      9081   \n",
       "\n",
       "                  date                                    word_and_scores  \\\n",
       "0  2011-08-02 18:07:48  [(Republicans, 4.22), (Democrats, 5.5), (creat...   \n",
       "1  2020-03-03 01:34:50  [(I, 5.92), (back, 5.18), (Great, 7.88), (city...   \n",
       "2  2020-01-17 03:22:47  [(RT, 4.88), (READ, 6.52), (Letter, 5.94), (co...   \n",
       "3  2020-09-12 20:10:58  [(The, 4.98), (Mail, 6.36), (In, 5.5), (Ballot...   \n",
       "4  2020-01-17 13:13:59  [(RT, 4.88), (Very, 6.12), (friendly, 7.66), (...   \n",
       "\n",
       "                                         scores_only  avg_scores  sum_scores  \n",
       "0                      [4.22, 5.5, 6.06, 5.36, 2.92]    4.812000       24.06  \n",
       "1  [5.92, 5.18, 7.88, 5.76, 5.5, 5.52, 5.44, 6.14...    6.459091      142.10  \n",
       "2  [4.88, 6.52, 5.94, 3.78, 6.36, 4.96, 5.6, 5.0,...    5.446667       49.02  \n",
       "3  [4.98, 6.36, 5.5, 5.16, 5.76, 2.36, 6.36, 5.44...    4.902000      147.06  \n",
       "4  [4.88, 6.12, 7.66, 5.3, 6.26, 4.94, 5.6, 5.62,...    5.765455       63.42  "
      ]
     },
     "execution_count": 28,
     "metadata": {},
     "output_type": "execute_result"
    }
   ],
   "source": [
    "# Inspect the DF with the newly added columns\n",
    "tweet_df['word_and_scores'] = word_and_scores\n",
    "tweet_df['scores_only'] = scores_only\n",
    "tweet_df['avg_scores'] = avg_scores\n",
    "tweet_df['sum_scores'] = sum_scores\n",
    "tweet_df.head()"
   ]
  },
  {
   "cell_type": "code",
   "execution_count": 4,
   "metadata": {},
   "outputs": [],
   "source": [
    "# Save the cleaned tweet_df as a .csv for rest of team to use\n",
    "# tweet_df.to_csv('tweet_df_cleaned.csv')"
   ]
  },
  {
   "cell_type": "code",
   "execution_count": 13,
   "metadata": {},
   "outputs": [],
   "source": [
    "# create new column\n",
    "tweet_df_scores['sentiment_category'] = ''\n",
    "tweet_df_scores['word_count']= ''\n",
    "tweet_df_scores['word_count'] = tweet_df_scores['scores_only'].str.len()\n",
    "\n",
    "# assign sentiment category\n",
    "tweet_df_scores.loc[tweet_df_scores.avg_scores >= 5.5, 'sentiment_category'] = 'positive'\n",
    "tweet_df_scores.loc[(tweet_df_scores.avg_scores > 5) & (tweet_df_scores.avg_scores < 5.5), 'sentiment_category'] = 'neutral'\n",
    "tweet_df_scores.loc[tweet_df_scores.avg_scores <= 5 , 'sentiment_category'] = 'negative'\n"
   ]
  },
  {
   "cell_type": "code",
   "execution_count": 14,
   "metadata": {},
   "outputs": [
    {
     "data": {
      "text/html": [
       "<div>\n",
       "<style scoped>\n",
       "    .dataframe tbody tr th:only-of-type {\n",
       "        vertical-align: middle;\n",
       "    }\n",
       "\n",
       "    .dataframe tbody tr th {\n",
       "        vertical-align: top;\n",
       "    }\n",
       "\n",
       "    .dataframe thead th {\n",
       "        text-align: right;\n",
       "    }\n",
       "</style>\n",
       "<table border=\"1\" class=\"dataframe\">\n",
       "  <thead>\n",
       "    <tr style=\"text-align: right;\">\n",
       "      <th></th>\n",
       "      <th>Unnamed: 0</th>\n",
       "      <th>id</th>\n",
       "      <th>text</th>\n",
       "      <th>isRetweet</th>\n",
       "      <th>isDeleted</th>\n",
       "      <th>device</th>\n",
       "      <th>favorites</th>\n",
       "      <th>retweets</th>\n",
       "      <th>date</th>\n",
       "      <th>word_and_scores</th>\n",
       "      <th>scores_only</th>\n",
       "      <th>avg_scores</th>\n",
       "      <th>sum_scores</th>\n",
       "      <th>sentiment_category</th>\n",
       "      <th>word_count</th>\n",
       "    </tr>\n",
       "  </thead>\n",
       "  <tbody>\n",
       "    <tr>\n",
       "      <th>0</th>\n",
       "      <td>0</td>\n",
       "      <td>98454970654916608</td>\n",
       "      <td>Republicans and Democrats have both created ou...</td>\n",
       "      <td>f</td>\n",
       "      <td>f</td>\n",
       "      <td>TweetDeck</td>\n",
       "      <td>49</td>\n",
       "      <td>255</td>\n",
       "      <td>2011-08-02 18:07:48</td>\n",
       "      <td>[('Republicans', 4.22), ('Democrats', 5.5), ('...</td>\n",
       "      <td>[4.22, 5.5, 6.06, 5.36, 2.92]</td>\n",
       "      <td>4.812000</td>\n",
       "      <td>24.06</td>\n",
       "      <td>negative</td>\n",
       "      <td>29</td>\n",
       "    </tr>\n",
       "    <tr>\n",
       "      <th>1</th>\n",
       "      <td>1</td>\n",
       "      <td>1234653427789070336</td>\n",
       "      <td>I was thrilled to be back in the Great city of...</td>\n",
       "      <td>f</td>\n",
       "      <td>f</td>\n",
       "      <td>Twitter for iPhone</td>\n",
       "      <td>73748</td>\n",
       "      <td>17404</td>\n",
       "      <td>2020-03-03 01:34:50</td>\n",
       "      <td>[('I', 5.92), ('back', 5.18), ('Great', 7.88),...</td>\n",
       "      <td>[5.92, 5.18, 7.88, 5.76, 5.5, 5.52, 5.44, 6.14...</td>\n",
       "      <td>6.459091</td>\n",
       "      <td>142.10</td>\n",
       "      <td>positive</td>\n",
       "      <td>129</td>\n",
       "    </tr>\n",
       "    <tr>\n",
       "      <th>2</th>\n",
       "      <td>2</td>\n",
       "      <td>1218010753434820614</td>\n",
       "      <td>RT @CBS_Herridge: READ: Letter to surveillance...</td>\n",
       "      <td>t</td>\n",
       "      <td>f</td>\n",
       "      <td>Twitter for iPhone</td>\n",
       "      <td>0</td>\n",
       "      <td>7396</td>\n",
       "      <td>2020-01-17 03:22:47</td>\n",
       "      <td>[('RT', 4.88), ('READ', 6.52), ('Letter', 5.94...</td>\n",
       "      <td>[4.88, 6.52, 5.94, 3.78, 6.36, 4.96, 5.6, 5.0,...</td>\n",
       "      <td>5.446667</td>\n",
       "      <td>49.02</td>\n",
       "      <td>neutral</td>\n",
       "      <td>52</td>\n",
       "    </tr>\n",
       "    <tr>\n",
       "      <th>3</th>\n",
       "      <td>3</td>\n",
       "      <td>1304875170860015617</td>\n",
       "      <td>The Unsolicited Mail In Ballot Scam is a major...</td>\n",
       "      <td>f</td>\n",
       "      <td>f</td>\n",
       "      <td>Twitter for iPhone</td>\n",
       "      <td>80527</td>\n",
       "      <td>23502</td>\n",
       "      <td>2020-09-12 20:10:58</td>\n",
       "      <td>[('The', 4.98), ('Mail', 6.36), ('In', 5.5), (...</td>\n",
       "      <td>[4.98, 6.36, 5.5, 5.16, 5.76, 2.36, 6.36, 5.44...</td>\n",
       "      <td>4.902000</td>\n",
       "      <td>147.06</td>\n",
       "      <td>negative</td>\n",
       "      <td>172</td>\n",
       "    </tr>\n",
       "    <tr>\n",
       "      <th>4</th>\n",
       "      <td>4</td>\n",
       "      <td>1218159531554897920</td>\n",
       "      <td>RT @MZHemingway: Very friendly telling of even...</td>\n",
       "      <td>t</td>\n",
       "      <td>f</td>\n",
       "      <td>Twitter for iPhone</td>\n",
       "      <td>0</td>\n",
       "      <td>9081</td>\n",
       "      <td>2020-01-17 13:13:59</td>\n",
       "      <td>[('RT', 4.88), ('Very', 6.12), ('friendly', 7....</td>\n",
       "      <td>[4.88, 6.12, 7.66, 5.3, 6.26, 4.94, 5.6, 5.62,...</td>\n",
       "      <td>5.765455</td>\n",
       "      <td>63.42</td>\n",
       "      <td>positive</td>\n",
       "      <td>64</td>\n",
       "    </tr>\n",
       "  </tbody>\n",
       "</table>\n",
       "</div>"
      ],
      "text/plain": [
       "   Unnamed: 0                   id  \\\n",
       "0           0    98454970654916608   \n",
       "1           1  1234653427789070336   \n",
       "2           2  1218010753434820614   \n",
       "3           3  1304875170860015617   \n",
       "4           4  1218159531554897920   \n",
       "\n",
       "                                                text isRetweet isDeleted  \\\n",
       "0  Republicans and Democrats have both created ou...         f         f   \n",
       "1  I was thrilled to be back in the Great city of...         f         f   \n",
       "2  RT @CBS_Herridge: READ: Letter to surveillance...         t         f   \n",
       "3  The Unsolicited Mail In Ballot Scam is a major...         f         f   \n",
       "4  RT @MZHemingway: Very friendly telling of even...         t         f   \n",
       "\n",
       "               device  favorites  retweets                 date  \\\n",
       "0           TweetDeck         49       255  2011-08-02 18:07:48   \n",
       "1  Twitter for iPhone      73748     17404  2020-03-03 01:34:50   \n",
       "2  Twitter for iPhone          0      7396  2020-01-17 03:22:47   \n",
       "3  Twitter for iPhone      80527     23502  2020-09-12 20:10:58   \n",
       "4  Twitter for iPhone          0      9081  2020-01-17 13:13:59   \n",
       "\n",
       "                                     word_and_scores  \\\n",
       "0  [('Republicans', 4.22), ('Democrats', 5.5), ('...   \n",
       "1  [('I', 5.92), ('back', 5.18), ('Great', 7.88),...   \n",
       "2  [('RT', 4.88), ('READ', 6.52), ('Letter', 5.94...   \n",
       "3  [('The', 4.98), ('Mail', 6.36), ('In', 5.5), (...   \n",
       "4  [('RT', 4.88), ('Very', 6.12), ('friendly', 7....   \n",
       "\n",
       "                                         scores_only  avg_scores  sum_scores  \\\n",
       "0                      [4.22, 5.5, 6.06, 5.36, 2.92]    4.812000       24.06   \n",
       "1  [5.92, 5.18, 7.88, 5.76, 5.5, 5.52, 5.44, 6.14...    6.459091      142.10   \n",
       "2  [4.88, 6.52, 5.94, 3.78, 6.36, 4.96, 5.6, 5.0,...    5.446667       49.02   \n",
       "3  [4.98, 6.36, 5.5, 5.16, 5.76, 2.36, 6.36, 5.44...    4.902000      147.06   \n",
       "4  [4.88, 6.12, 7.66, 5.3, 6.26, 4.94, 5.6, 5.62,...    5.765455       63.42   \n",
       "\n",
       "  sentiment_category  word_count  \n",
       "0           negative          29  \n",
       "1           positive         129  \n",
       "2            neutral          52  \n",
       "3           negative         172  \n",
       "4           positive          64  "
      ]
     },
     "execution_count": 14,
     "metadata": {},
     "output_type": "execute_result"
    }
   ],
   "source": [
    "tweet_df_scores.head()"
   ]
  },
  {
   "cell_type": "code",
   "execution_count": 15,
   "metadata": {},
   "outputs": [],
   "source": [
    "# Save the cleaned tweet_df as a .csv for rest of team to use\n",
    "tweet_df_scores.to_csv('tweet_df_cleaned_w_sentiment.csv', index=False)"
   ]
  },
  {
   "cell_type": "code",
   "execution_count": 10,
   "metadata": {},
   "outputs": [],
   "source": [
    "tweet_df_filtered.to_csv('../Data/tweet_df_stockmarket_only.csv', index=False)"
   ]
  },
  {
   "cell_type": "code",
   "execution_count": null,
   "metadata": {},
   "outputs": [],
   "source": []
  }
 ],
 "metadata": {
  "kernelspec": {
   "display_name": "Python 3",
   "language": "python",
   "name": "python3"
  },
  "language_info": {
   "codemirror_mode": {
    "name": "ipython",
    "version": 3
   },
   "file_extension": ".py",
   "mimetype": "text/x-python",
   "name": "python",
   "nbconvert_exporter": "python",
   "pygments_lexer": "ipython3",
   "version": "3.8.3"
  }
 },
 "nbformat": 4,
 "nbformat_minor": 2
}
