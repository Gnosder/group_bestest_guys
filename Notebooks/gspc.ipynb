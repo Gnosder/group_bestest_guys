{
 "metadata": {
  "language_info": {
   "codemirror_mode": {
    "name": "ipython",
    "version": 3
   },
   "file_extension": ".py",
   "mimetype": "text/x-python",
   "name": "python",
   "nbconvert_exporter": "python",
   "pygments_lexer": "ipython3",
   "version": "3.6.10-final"
  },
  "orig_nbformat": 2,
  "kernelspec": {
   "name": "python3",
   "display_name": "Python 3"
  }
 },
 "nbformat": 4,
 "nbformat_minor": 2,
 "cells": [
  {
   "cell_type": "code",
   "execution_count": 4,
   "metadata": {},
   "outputs": [],
   "source": [
    "import pandas as pd\n",
    "import numpy as np"
   ]
  },
  {
   "cell_type": "code",
   "execution_count": 7,
   "metadata": {},
   "outputs": [],
   "source": [
    "def process_data(freq):\n",
    "    #file input is file name string excluding .csv\n",
    "    file = f'../Data/gspc_{freq}.csv'\n",
    "    df = pd.read_csv(file)\n",
    "    df.columns = [col.lower() for col in df.columns]\n",
    "    \n",
    "    df['date'] = pd.to_datetime(df['date']).dt.normalize()\n",
    "    df['change'] = df['close'] - df['open']\n",
    "    df['%change'] = df['change'] / df['open']\n",
    "    df['up/down'] = np.where(df['change'] > 0, 'up', 'down')\n",
    "    df.drop(['high', 'low', 'adj close', 'volume'], axis=1, inplace=True)\n",
    "\n",
    "    output_file = f'../Data/gspc_{freq}_clean.csv'\n",
    "    df.to_csv(output_file, index=False)"
   ]
  },
  {
   "cell_type": "code",
   "execution_count": 8,
   "metadata": {},
   "outputs": [],
   "source": [
    "freq = ['daily', 'weekly', 'monthly']"
   ]
  },
  {
   "cell_type": "code",
   "execution_count": 9,
   "metadata": {},
   "outputs": [],
   "source": [
    "# for f in freq:\n",
    "#     process_data(f)"
   ]
  }
 ]
}