{
 "metadata": {
  "language_info": {
   "codemirror_mode": {
    "name": "ipython",
    "version": 3
   },
   "file_extension": ".py",
   "mimetype": "text/x-python",
   "name": "python",
   "nbconvert_exporter": "python",
   "pygments_lexer": "ipython3",
   "version": "3.7.6-final"
  },
  "orig_nbformat": 2,
  "kernelspec": {
   "name": "python3",
   "display_name": "Python 3"
  }
 },
 "nbformat": 4,
 "nbformat_minor": 2,
 "cells": [
  {
   "cell_type": "code",
   "execution_count": 1,
   "metadata": {},
   "outputs": [],
   "source": [
    "import pandas as pd\n",
    "import numpy as np"
   ]
  },
  {
   "cell_type": "code",
   "execution_count": 18,
   "metadata": {},
   "outputs": [],
   "source": [
    "daily = pd.read_csv('../Data/gspc_daily.csv')\n",
    "weekly = pd.read_csv('../Data/gspc_weekly.csv')\n",
    "monthly = pd.read_csv('../Data/gspc_monthly.csv')"
   ]
  },
  {
   "cell_type": "code",
   "execution_count": 19,
   "metadata": {},
   "outputs": [],
   "source": [
    "data_sets = [daily, weekly, monthly]\n",
    "\n",
    "for df in data_sets:\n",
    "    df['Change'] = df['Close'] - df['Open']\n",
    "    df['% Change'] = df['Change'] / df['Open']\n",
    "    df['Up/Down'] = np.where(df['Change'] > 0, 'up', 'down')\n",
    "    df.drop(['High', 'Low', 'Adj Close', 'Volume'], axis=1, inplace=True)"
   ]
  },
  {
   "cell_type": "code",
   "execution_count": 20,
   "metadata": {},
   "outputs": [],
   "source": [
    "daily.to_csv('../Data/gspc_daily_clean.csv', index=False)\n",
    "weekly.to_csv('../Data/gspc_weekly_clean.csv', index=False)\n",
    "monthly.to_csv('../Data/gspc_monthly_clean.csv', index=False)"
   ]
  }
 ]
}